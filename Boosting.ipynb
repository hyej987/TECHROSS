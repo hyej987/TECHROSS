{
  "cells": [
    {
      "cell_type": "markdown",
      "metadata": {
        "id": "view-in-github",
        "colab_type": "text"
      },
      "source": [
        "<a href=\"https://colab.research.google.com/github/hyej987/TECHROSS/blob/master/Boosting.ipynb\" target=\"_parent\"><img src=\"https://colab.research.google.com/assets/colab-badge.svg\" alt=\"Open In Colab\"/></a>"
      ]
    },
    {
      "cell_type": "markdown",
      "metadata": {
        "id": "SmnFo1gE9NNt"
      },
      "source": [
        "# 패키지와 데이터 불러오기"
      ]
    },
    {
      "cell_type": "code",
      "execution_count": 1,
      "metadata": {
        "colab": {
          "base_uri": "https://localhost:8080/"
        },
        "id": "lTqtX6NtyxlF",
        "outputId": "ac0473ea-f2ba-4d4d-c61b-3cb66c8dee9d"
      },
      "outputs": [
        {
          "output_type": "stream",
          "name": "stdout",
          "text": [
            "Mounted at /content/gdrive\n"
          ]
        }
      ],
      "source": [
        "from google.colab import drive\n",
        "drive.mount('/content/gdrive')\n",
        "import pandas as pd\n",
        "import numpy as np"
      ]
    },
    {
      "cell_type": "code",
      "execution_count": 4,
      "metadata": {
        "id": "EnxxvU8j1c7d",
        "colab": {
          "base_uri": "https://localhost:8080/",
          "height": 424
        },
        "outputId": "169aaa60-669b-4fd6-b440-cfdb29d6d396"
      },
      "outputs": [
        {
          "output_type": "execute_result",
          "data": {
            "text/plain": [
              "      SECTION           START_TIME  OP_TYPE  OP_INDEX  FATAL_PERCENT  \\\n",
              "0           0  2020-07-09 02:09:36      1.0       2.0            0.0   \n",
              "1           0  2020-07-09 02:14:04      1.0       3.0            0.0   \n",
              "2           0  2020-07-09 02:18:53      1.0       4.0            0.0   \n",
              "3           0  2020-07-09 02:35:39      1.0       5.0            0.0   \n",
              "4           0  2020-07-09 03:03:53      1.0       7.0            0.0   \n",
              "...       ...                  ...      ...       ...            ...   \n",
              "6730        0  2021-12-31 08:58:08      2.0      40.0            0.0   \n",
              "6731        0  2021-12-31 23:21:52      2.0      41.0            0.0   \n",
              "6732        0  2022-01-04 08:20:07      1.0      97.0            0.0   \n",
              "6733        0  2022-01-04 13:14:30      1.0      98.0            0.0   \n",
              "6734        0  2022-01-05 12:19:37      1.0     101.0            0.0   \n",
              "\n",
              "         pca_0     pca_1     pca_2     pca_3     pca_4     pca_5     pca_6  \\\n",
              "0    -0.300530 -0.105768 -0.184195  0.060466  0.177956 -0.058749 -0.374040   \n",
              "1    -0.254178 -0.095446 -0.134511  0.047760  0.173309 -0.076288 -0.391673   \n",
              "2    -0.238034 -0.092542 -0.119385  0.044032  0.172492 -0.081477 -0.399929   \n",
              "3    -0.205302 -0.083773 -0.081439  0.033728  0.167564 -0.094631 -0.410720   \n",
              "4    -0.304855 -0.106453 -0.183613  0.060755  0.177915 -0.061071 -0.366152   \n",
              "...        ...       ...       ...       ...       ...       ...       ...   \n",
              "6730 -0.369992  0.352785 -0.208245 -0.003594  0.069208 -0.016717  0.019806   \n",
              "6731 -0.390527  0.378262 -0.198488  0.001742  0.022573  0.071373  0.010280   \n",
              "6732 -0.098930  0.124305 -0.298860 -0.038465  0.020123 -0.045139  0.175654   \n",
              "6733 -0.091662  0.131649 -0.307788 -0.038569  0.020682 -0.043666  0.180765   \n",
              "6734 -0.014151  0.179546 -0.375882 -0.041552  0.021012 -0.021512  0.192099   \n",
              "\n",
              "      TARGET  PREDICT  SHIP_ID  \n",
              "0          0      0.0        1  \n",
              "1          0      0.0        1  \n",
              "2          0      0.0        1  \n",
              "3          0      1.0        1  \n",
              "4          0      0.0        1  \n",
              "...      ...      ...      ...  \n",
              "6730       0      0.0        0  \n",
              "6731       0      1.0        0  \n",
              "6732       0      0.0        0  \n",
              "6733       0      0.0        0  \n",
              "6734       0      0.0        0  \n",
              "\n",
              "[6735 rows x 15 columns]"
            ],
            "text/html": [
              "\n",
              "  <div id=\"df-d149eb85-9cd9-4c2f-9158-0a9c99a6b414\">\n",
              "    <div class=\"colab-df-container\">\n",
              "      <div>\n",
              "<style scoped>\n",
              "    .dataframe tbody tr th:only-of-type {\n",
              "        vertical-align: middle;\n",
              "    }\n",
              "\n",
              "    .dataframe tbody tr th {\n",
              "        vertical-align: top;\n",
              "    }\n",
              "\n",
              "    .dataframe thead th {\n",
              "        text-align: right;\n",
              "    }\n",
              "</style>\n",
              "<table border=\"1\" class=\"dataframe\">\n",
              "  <thead>\n",
              "    <tr style=\"text-align: right;\">\n",
              "      <th></th>\n",
              "      <th>SECTION</th>\n",
              "      <th>START_TIME</th>\n",
              "      <th>OP_TYPE</th>\n",
              "      <th>OP_INDEX</th>\n",
              "      <th>FATAL_PERCENT</th>\n",
              "      <th>pca_0</th>\n",
              "      <th>pca_1</th>\n",
              "      <th>pca_2</th>\n",
              "      <th>pca_3</th>\n",
              "      <th>pca_4</th>\n",
              "      <th>pca_5</th>\n",
              "      <th>pca_6</th>\n",
              "      <th>TARGET</th>\n",
              "      <th>PREDICT</th>\n",
              "      <th>SHIP_ID</th>\n",
              "    </tr>\n",
              "  </thead>\n",
              "  <tbody>\n",
              "    <tr>\n",
              "      <th>0</th>\n",
              "      <td>0</td>\n",
              "      <td>2020-07-09 02:09:36</td>\n",
              "      <td>1.0</td>\n",
              "      <td>2.0</td>\n",
              "      <td>0.0</td>\n",
              "      <td>-0.300530</td>\n",
              "      <td>-0.105768</td>\n",
              "      <td>-0.184195</td>\n",
              "      <td>0.060466</td>\n",
              "      <td>0.177956</td>\n",
              "      <td>-0.058749</td>\n",
              "      <td>-0.374040</td>\n",
              "      <td>0</td>\n",
              "      <td>0.0</td>\n",
              "      <td>1</td>\n",
              "    </tr>\n",
              "    <tr>\n",
              "      <th>1</th>\n",
              "      <td>0</td>\n",
              "      <td>2020-07-09 02:14:04</td>\n",
              "      <td>1.0</td>\n",
              "      <td>3.0</td>\n",
              "      <td>0.0</td>\n",
              "      <td>-0.254178</td>\n",
              "      <td>-0.095446</td>\n",
              "      <td>-0.134511</td>\n",
              "      <td>0.047760</td>\n",
              "      <td>0.173309</td>\n",
              "      <td>-0.076288</td>\n",
              "      <td>-0.391673</td>\n",
              "      <td>0</td>\n",
              "      <td>0.0</td>\n",
              "      <td>1</td>\n",
              "    </tr>\n",
              "    <tr>\n",
              "      <th>2</th>\n",
              "      <td>0</td>\n",
              "      <td>2020-07-09 02:18:53</td>\n",
              "      <td>1.0</td>\n",
              "      <td>4.0</td>\n",
              "      <td>0.0</td>\n",
              "      <td>-0.238034</td>\n",
              "      <td>-0.092542</td>\n",
              "      <td>-0.119385</td>\n",
              "      <td>0.044032</td>\n",
              "      <td>0.172492</td>\n",
              "      <td>-0.081477</td>\n",
              "      <td>-0.399929</td>\n",
              "      <td>0</td>\n",
              "      <td>0.0</td>\n",
              "      <td>1</td>\n",
              "    </tr>\n",
              "    <tr>\n",
              "      <th>3</th>\n",
              "      <td>0</td>\n",
              "      <td>2020-07-09 02:35:39</td>\n",
              "      <td>1.0</td>\n",
              "      <td>5.0</td>\n",
              "      <td>0.0</td>\n",
              "      <td>-0.205302</td>\n",
              "      <td>-0.083773</td>\n",
              "      <td>-0.081439</td>\n",
              "      <td>0.033728</td>\n",
              "      <td>0.167564</td>\n",
              "      <td>-0.094631</td>\n",
              "      <td>-0.410720</td>\n",
              "      <td>0</td>\n",
              "      <td>1.0</td>\n",
              "      <td>1</td>\n",
              "    </tr>\n",
              "    <tr>\n",
              "      <th>4</th>\n",
              "      <td>0</td>\n",
              "      <td>2020-07-09 03:03:53</td>\n",
              "      <td>1.0</td>\n",
              "      <td>7.0</td>\n",
              "      <td>0.0</td>\n",
              "      <td>-0.304855</td>\n",
              "      <td>-0.106453</td>\n",
              "      <td>-0.183613</td>\n",
              "      <td>0.060755</td>\n",
              "      <td>0.177915</td>\n",
              "      <td>-0.061071</td>\n",
              "      <td>-0.366152</td>\n",
              "      <td>0</td>\n",
              "      <td>0.0</td>\n",
              "      <td>1</td>\n",
              "    </tr>\n",
              "    <tr>\n",
              "      <th>...</th>\n",
              "      <td>...</td>\n",
              "      <td>...</td>\n",
              "      <td>...</td>\n",
              "      <td>...</td>\n",
              "      <td>...</td>\n",
              "      <td>...</td>\n",
              "      <td>...</td>\n",
              "      <td>...</td>\n",
              "      <td>...</td>\n",
              "      <td>...</td>\n",
              "      <td>...</td>\n",
              "      <td>...</td>\n",
              "      <td>...</td>\n",
              "      <td>...</td>\n",
              "      <td>...</td>\n",
              "    </tr>\n",
              "    <tr>\n",
              "      <th>6730</th>\n",
              "      <td>0</td>\n",
              "      <td>2021-12-31 08:58:08</td>\n",
              "      <td>2.0</td>\n",
              "      <td>40.0</td>\n",
              "      <td>0.0</td>\n",
              "      <td>-0.369992</td>\n",
              "      <td>0.352785</td>\n",
              "      <td>-0.208245</td>\n",
              "      <td>-0.003594</td>\n",
              "      <td>0.069208</td>\n",
              "      <td>-0.016717</td>\n",
              "      <td>0.019806</td>\n",
              "      <td>0</td>\n",
              "      <td>0.0</td>\n",
              "      <td>0</td>\n",
              "    </tr>\n",
              "    <tr>\n",
              "      <th>6731</th>\n",
              "      <td>0</td>\n",
              "      <td>2021-12-31 23:21:52</td>\n",
              "      <td>2.0</td>\n",
              "      <td>41.0</td>\n",
              "      <td>0.0</td>\n",
              "      <td>-0.390527</td>\n",
              "      <td>0.378262</td>\n",
              "      <td>-0.198488</td>\n",
              "      <td>0.001742</td>\n",
              "      <td>0.022573</td>\n",
              "      <td>0.071373</td>\n",
              "      <td>0.010280</td>\n",
              "      <td>0</td>\n",
              "      <td>1.0</td>\n",
              "      <td>0</td>\n",
              "    </tr>\n",
              "    <tr>\n",
              "      <th>6732</th>\n",
              "      <td>0</td>\n",
              "      <td>2022-01-04 08:20:07</td>\n",
              "      <td>1.0</td>\n",
              "      <td>97.0</td>\n",
              "      <td>0.0</td>\n",
              "      <td>-0.098930</td>\n",
              "      <td>0.124305</td>\n",
              "      <td>-0.298860</td>\n",
              "      <td>-0.038465</td>\n",
              "      <td>0.020123</td>\n",
              "      <td>-0.045139</td>\n",
              "      <td>0.175654</td>\n",
              "      <td>0</td>\n",
              "      <td>0.0</td>\n",
              "      <td>0</td>\n",
              "    </tr>\n",
              "    <tr>\n",
              "      <th>6733</th>\n",
              "      <td>0</td>\n",
              "      <td>2022-01-04 13:14:30</td>\n",
              "      <td>1.0</td>\n",
              "      <td>98.0</td>\n",
              "      <td>0.0</td>\n",
              "      <td>-0.091662</td>\n",
              "      <td>0.131649</td>\n",
              "      <td>-0.307788</td>\n",
              "      <td>-0.038569</td>\n",
              "      <td>0.020682</td>\n",
              "      <td>-0.043666</td>\n",
              "      <td>0.180765</td>\n",
              "      <td>0</td>\n",
              "      <td>0.0</td>\n",
              "      <td>0</td>\n",
              "    </tr>\n",
              "    <tr>\n",
              "      <th>6734</th>\n",
              "      <td>0</td>\n",
              "      <td>2022-01-05 12:19:37</td>\n",
              "      <td>1.0</td>\n",
              "      <td>101.0</td>\n",
              "      <td>0.0</td>\n",
              "      <td>-0.014151</td>\n",
              "      <td>0.179546</td>\n",
              "      <td>-0.375882</td>\n",
              "      <td>-0.041552</td>\n",
              "      <td>0.021012</td>\n",
              "      <td>-0.021512</td>\n",
              "      <td>0.192099</td>\n",
              "      <td>0</td>\n",
              "      <td>0.0</td>\n",
              "      <td>0</td>\n",
              "    </tr>\n",
              "  </tbody>\n",
              "</table>\n",
              "<p>6735 rows × 15 columns</p>\n",
              "</div>\n",
              "      <button class=\"colab-df-convert\" onclick=\"convertToInteractive('df-d149eb85-9cd9-4c2f-9158-0a9c99a6b414')\"\n",
              "              title=\"Convert this dataframe to an interactive table.\"\n",
              "              style=\"display:none;\">\n",
              "        \n",
              "  <svg xmlns=\"http://www.w3.org/2000/svg\" height=\"24px\"viewBox=\"0 0 24 24\"\n",
              "       width=\"24px\">\n",
              "    <path d=\"M0 0h24v24H0V0z\" fill=\"none\"/>\n",
              "    <path d=\"M18.56 5.44l.94 2.06.94-2.06 2.06-.94-2.06-.94-.94-2.06-.94 2.06-2.06.94zm-11 1L8.5 8.5l.94-2.06 2.06-.94-2.06-.94L8.5 2.5l-.94 2.06-2.06.94zm10 10l.94 2.06.94-2.06 2.06-.94-2.06-.94-.94-2.06-.94 2.06-2.06.94z\"/><path d=\"M17.41 7.96l-1.37-1.37c-.4-.4-.92-.59-1.43-.59-.52 0-1.04.2-1.43.59L10.3 9.45l-7.72 7.72c-.78.78-.78 2.05 0 2.83L4 21.41c.39.39.9.59 1.41.59.51 0 1.02-.2 1.41-.59l7.78-7.78 2.81-2.81c.8-.78.8-2.07 0-2.86zM5.41 20L4 18.59l7.72-7.72 1.47 1.35L5.41 20z\"/>\n",
              "  </svg>\n",
              "      </button>\n",
              "      \n",
              "  <style>\n",
              "    .colab-df-container {\n",
              "      display:flex;\n",
              "      flex-wrap:wrap;\n",
              "      gap: 12px;\n",
              "    }\n",
              "\n",
              "    .colab-df-convert {\n",
              "      background-color: #E8F0FE;\n",
              "      border: none;\n",
              "      border-radius: 50%;\n",
              "      cursor: pointer;\n",
              "      display: none;\n",
              "      fill: #1967D2;\n",
              "      height: 32px;\n",
              "      padding: 0 0 0 0;\n",
              "      width: 32px;\n",
              "    }\n",
              "\n",
              "    .colab-df-convert:hover {\n",
              "      background-color: #E2EBFA;\n",
              "      box-shadow: 0px 1px 2px rgba(60, 64, 67, 0.3), 0px 1px 3px 1px rgba(60, 64, 67, 0.15);\n",
              "      fill: #174EA6;\n",
              "    }\n",
              "\n",
              "    [theme=dark] .colab-df-convert {\n",
              "      background-color: #3B4455;\n",
              "      fill: #D2E3FC;\n",
              "    }\n",
              "\n",
              "    [theme=dark] .colab-df-convert:hover {\n",
              "      background-color: #434B5C;\n",
              "      box-shadow: 0px 1px 3px 1px rgba(0, 0, 0, 0.15);\n",
              "      filter: drop-shadow(0px 1px 2px rgba(0, 0, 0, 0.3));\n",
              "      fill: #FFFFFF;\n",
              "    }\n",
              "  </style>\n",
              "\n",
              "      <script>\n",
              "        const buttonEl =\n",
              "          document.querySelector('#df-d149eb85-9cd9-4c2f-9158-0a9c99a6b414 button.colab-df-convert');\n",
              "        buttonEl.style.display =\n",
              "          google.colab.kernel.accessAllowed ? 'block' : 'none';\n",
              "\n",
              "        async function convertToInteractive(key) {\n",
              "          const element = document.querySelector('#df-d149eb85-9cd9-4c2f-9158-0a9c99a6b414');\n",
              "          const dataTable =\n",
              "            await google.colab.kernel.invokeFunction('convertToInteractive',\n",
              "                                                     [key], {});\n",
              "          if (!dataTable) return;\n",
              "\n",
              "          const docLinkHtml = 'Like what you see? Visit the ' +\n",
              "            '<a target=\"_blank\" href=https://colab.research.google.com/notebooks/data_table.ipynb>data table notebook</a>'\n",
              "            + ' to learn more about interactive tables.';\n",
              "          element.innerHTML = '';\n",
              "          dataTable['output_type'] = 'display_data';\n",
              "          await google.colab.output.renderOutput(dataTable, element);\n",
              "          const docLink = document.createElement('div');\n",
              "          docLink.innerHTML = docLinkHtml;\n",
              "          element.appendChild(docLink);\n",
              "        }\n",
              "      </script>\n",
              "    </div>\n",
              "  </div>\n",
              "  "
            ]
          },
          "metadata": {},
          "execution_count": 4
        }
      ],
      "source": [
        "data=pd.read_csv(\"/content/gdrive/MyDrive/테크로스/NEW_DB/predict_1.csv\")"
      ]
    },
    {
      "cell_type": "code",
      "execution_count": 5,
      "metadata": {
        "id": "8OPGDMvm1kMy"
      },
      "outputs": [],
      "source": [
        "#data.drop(columns = [\"Unnamed: 0\"],inplace = True)\n",
        "#data.drop(columns = [\"date\",\"FATAL_PERCENT\",\"KEY\",\"decision\"],inplace = True)\n",
        "data.drop(columns = [\"START_TIME\",\"TARGET\",\"OP_INDEX\",\"FATAL_PERCENT\"],inplace = True)"
      ]
    },
    {
      "cell_type": "code",
      "source": [
        "data['PREDICT'].value_counts()"
      ],
      "metadata": {
        "id": "5C_t6yZ-IWKv",
        "colab": {
          "base_uri": "https://localhost:8080/"
        },
        "outputId": "d28e928e-cdf9-4a33-ca64-40ddd519f13e"
      },
      "execution_count": 6,
      "outputs": [
        {
          "output_type": "execute_result",
          "data": {
            "text/plain": [
              "0.0    6466\n",
              "1.0     269\n",
              "Name: PREDICT, dtype: int64"
            ]
          },
          "metadata": {},
          "execution_count": 6
        }
      ]
    },
    {
      "cell_type": "code",
      "source": [
        "oversample = data[data['predict']=='NORMAL'].sample(frac = 10, replace = True)"
      ],
      "metadata": {
        "id": "f6zRGV_KKwnZ"
      },
      "execution_count": null,
      "outputs": []
    },
    {
      "cell_type": "code",
      "source": [
        "fatal_data = data[data['predict'] == \"FATAL\"]"
      ],
      "metadata": {
        "id": "jz5WrKXPP_pa"
      },
      "execution_count": null,
      "outputs": []
    },
    {
      "cell_type": "code",
      "source": [
        "fatal_data = fatal_data.reset_index().drop(columns = ['index'])"
      ],
      "metadata": {
        "id": "nPIWScytQPZ9"
      },
      "execution_count": null,
      "outputs": []
    },
    {
      "cell_type": "code",
      "source": [
        "oversample = oversample.reset_index().drop(columns = [\"index\"])"
      ],
      "metadata": {
        "id": "TjyGqZz2LKDN"
      },
      "execution_count": null,
      "outputs": []
    },
    {
      "cell_type": "code",
      "source": [
        "data=pd.concat([fatal_data, oversample])"
      ],
      "metadata": {
        "id": "OSrdzVCLLRtr"
      },
      "execution_count": null,
      "outputs": []
    },
    {
      "cell_type": "code",
      "source": [
        "data['predict'].value_counts()"
      ],
      "metadata": {
        "id": "aMhkm-w0O5wK"
      },
      "execution_count": null,
      "outputs": []
    },
    {
      "cell_type": "markdown",
      "metadata": {
        "id": "DUkXT4g19tyQ"
      },
      "source": [
        "# X와 Y 나누기"
      ]
    },
    {
      "cell_type": "code",
      "execution_count": 8,
      "metadata": {
        "id": "9e1H184p9vR8",
        "colab": {
          "base_uri": "https://localhost:8080/",
          "height": 424
        },
        "outputId": "0be17312-3860-4000-b12c-b3e8b8d7c18f"
      },
      "outputs": [
        {
          "output_type": "execute_result",
          "data": {
            "text/plain": [
              "      SECTION  OP_TYPE     pca_0     pca_1     pca_2     pca_3     pca_4  \\\n",
              "0           0      1.0 -0.300530 -0.105768 -0.184195  0.060466  0.177956   \n",
              "1           0      1.0 -0.254178 -0.095446 -0.134511  0.047760  0.173309   \n",
              "2           0      1.0 -0.238034 -0.092542 -0.119385  0.044032  0.172492   \n",
              "3           0      1.0 -0.205302 -0.083773 -0.081439  0.033728  0.167564   \n",
              "4           0      1.0 -0.304855 -0.106453 -0.183613  0.060755  0.177915   \n",
              "...       ...      ...       ...       ...       ...       ...       ...   \n",
              "6730        0      2.0 -0.369992  0.352785 -0.208245 -0.003594  0.069208   \n",
              "6731        0      2.0 -0.390527  0.378262 -0.198488  0.001742  0.022573   \n",
              "6732        0      1.0 -0.098930  0.124305 -0.298860 -0.038465  0.020123   \n",
              "6733        0      1.0 -0.091662  0.131649 -0.307788 -0.038569  0.020682   \n",
              "6734        0      1.0 -0.014151  0.179546 -0.375882 -0.041552  0.021012   \n",
              "\n",
              "         pca_5     pca_6  SHIP_ID  \n",
              "0    -0.058749 -0.374040        1  \n",
              "1    -0.076288 -0.391673        1  \n",
              "2    -0.081477 -0.399929        1  \n",
              "3    -0.094631 -0.410720        1  \n",
              "4    -0.061071 -0.366152        1  \n",
              "...        ...       ...      ...  \n",
              "6730 -0.016717  0.019806        0  \n",
              "6731  0.071373  0.010280        0  \n",
              "6732 -0.045139  0.175654        0  \n",
              "6733 -0.043666  0.180765        0  \n",
              "6734 -0.021512  0.192099        0  \n",
              "\n",
              "[6735 rows x 10 columns]"
            ],
            "text/html": [
              "\n",
              "  <div id=\"df-e454d8a1-e59f-4b82-8db3-20f0466f61be\">\n",
              "    <div class=\"colab-df-container\">\n",
              "      <div>\n",
              "<style scoped>\n",
              "    .dataframe tbody tr th:only-of-type {\n",
              "        vertical-align: middle;\n",
              "    }\n",
              "\n",
              "    .dataframe tbody tr th {\n",
              "        vertical-align: top;\n",
              "    }\n",
              "\n",
              "    .dataframe thead th {\n",
              "        text-align: right;\n",
              "    }\n",
              "</style>\n",
              "<table border=\"1\" class=\"dataframe\">\n",
              "  <thead>\n",
              "    <tr style=\"text-align: right;\">\n",
              "      <th></th>\n",
              "      <th>SECTION</th>\n",
              "      <th>OP_TYPE</th>\n",
              "      <th>pca_0</th>\n",
              "      <th>pca_1</th>\n",
              "      <th>pca_2</th>\n",
              "      <th>pca_3</th>\n",
              "      <th>pca_4</th>\n",
              "      <th>pca_5</th>\n",
              "      <th>pca_6</th>\n",
              "      <th>SHIP_ID</th>\n",
              "    </tr>\n",
              "  </thead>\n",
              "  <tbody>\n",
              "    <tr>\n",
              "      <th>0</th>\n",
              "      <td>0</td>\n",
              "      <td>1.0</td>\n",
              "      <td>-0.300530</td>\n",
              "      <td>-0.105768</td>\n",
              "      <td>-0.184195</td>\n",
              "      <td>0.060466</td>\n",
              "      <td>0.177956</td>\n",
              "      <td>-0.058749</td>\n",
              "      <td>-0.374040</td>\n",
              "      <td>1</td>\n",
              "    </tr>\n",
              "    <tr>\n",
              "      <th>1</th>\n",
              "      <td>0</td>\n",
              "      <td>1.0</td>\n",
              "      <td>-0.254178</td>\n",
              "      <td>-0.095446</td>\n",
              "      <td>-0.134511</td>\n",
              "      <td>0.047760</td>\n",
              "      <td>0.173309</td>\n",
              "      <td>-0.076288</td>\n",
              "      <td>-0.391673</td>\n",
              "      <td>1</td>\n",
              "    </tr>\n",
              "    <tr>\n",
              "      <th>2</th>\n",
              "      <td>0</td>\n",
              "      <td>1.0</td>\n",
              "      <td>-0.238034</td>\n",
              "      <td>-0.092542</td>\n",
              "      <td>-0.119385</td>\n",
              "      <td>0.044032</td>\n",
              "      <td>0.172492</td>\n",
              "      <td>-0.081477</td>\n",
              "      <td>-0.399929</td>\n",
              "      <td>1</td>\n",
              "    </tr>\n",
              "    <tr>\n",
              "      <th>3</th>\n",
              "      <td>0</td>\n",
              "      <td>1.0</td>\n",
              "      <td>-0.205302</td>\n",
              "      <td>-0.083773</td>\n",
              "      <td>-0.081439</td>\n",
              "      <td>0.033728</td>\n",
              "      <td>0.167564</td>\n",
              "      <td>-0.094631</td>\n",
              "      <td>-0.410720</td>\n",
              "      <td>1</td>\n",
              "    </tr>\n",
              "    <tr>\n",
              "      <th>4</th>\n",
              "      <td>0</td>\n",
              "      <td>1.0</td>\n",
              "      <td>-0.304855</td>\n",
              "      <td>-0.106453</td>\n",
              "      <td>-0.183613</td>\n",
              "      <td>0.060755</td>\n",
              "      <td>0.177915</td>\n",
              "      <td>-0.061071</td>\n",
              "      <td>-0.366152</td>\n",
              "      <td>1</td>\n",
              "    </tr>\n",
              "    <tr>\n",
              "      <th>...</th>\n",
              "      <td>...</td>\n",
              "      <td>...</td>\n",
              "      <td>...</td>\n",
              "      <td>...</td>\n",
              "      <td>...</td>\n",
              "      <td>...</td>\n",
              "      <td>...</td>\n",
              "      <td>...</td>\n",
              "      <td>...</td>\n",
              "      <td>...</td>\n",
              "    </tr>\n",
              "    <tr>\n",
              "      <th>6730</th>\n",
              "      <td>0</td>\n",
              "      <td>2.0</td>\n",
              "      <td>-0.369992</td>\n",
              "      <td>0.352785</td>\n",
              "      <td>-0.208245</td>\n",
              "      <td>-0.003594</td>\n",
              "      <td>0.069208</td>\n",
              "      <td>-0.016717</td>\n",
              "      <td>0.019806</td>\n",
              "      <td>0</td>\n",
              "    </tr>\n",
              "    <tr>\n",
              "      <th>6731</th>\n",
              "      <td>0</td>\n",
              "      <td>2.0</td>\n",
              "      <td>-0.390527</td>\n",
              "      <td>0.378262</td>\n",
              "      <td>-0.198488</td>\n",
              "      <td>0.001742</td>\n",
              "      <td>0.022573</td>\n",
              "      <td>0.071373</td>\n",
              "      <td>0.010280</td>\n",
              "      <td>0</td>\n",
              "    </tr>\n",
              "    <tr>\n",
              "      <th>6732</th>\n",
              "      <td>0</td>\n",
              "      <td>1.0</td>\n",
              "      <td>-0.098930</td>\n",
              "      <td>0.124305</td>\n",
              "      <td>-0.298860</td>\n",
              "      <td>-0.038465</td>\n",
              "      <td>0.020123</td>\n",
              "      <td>-0.045139</td>\n",
              "      <td>0.175654</td>\n",
              "      <td>0</td>\n",
              "    </tr>\n",
              "    <tr>\n",
              "      <th>6733</th>\n",
              "      <td>0</td>\n",
              "      <td>1.0</td>\n",
              "      <td>-0.091662</td>\n",
              "      <td>0.131649</td>\n",
              "      <td>-0.307788</td>\n",
              "      <td>-0.038569</td>\n",
              "      <td>0.020682</td>\n",
              "      <td>-0.043666</td>\n",
              "      <td>0.180765</td>\n",
              "      <td>0</td>\n",
              "    </tr>\n",
              "    <tr>\n",
              "      <th>6734</th>\n",
              "      <td>0</td>\n",
              "      <td>1.0</td>\n",
              "      <td>-0.014151</td>\n",
              "      <td>0.179546</td>\n",
              "      <td>-0.375882</td>\n",
              "      <td>-0.041552</td>\n",
              "      <td>0.021012</td>\n",
              "      <td>-0.021512</td>\n",
              "      <td>0.192099</td>\n",
              "      <td>0</td>\n",
              "    </tr>\n",
              "  </tbody>\n",
              "</table>\n",
              "<p>6735 rows × 10 columns</p>\n",
              "</div>\n",
              "      <button class=\"colab-df-convert\" onclick=\"convertToInteractive('df-e454d8a1-e59f-4b82-8db3-20f0466f61be')\"\n",
              "              title=\"Convert this dataframe to an interactive table.\"\n",
              "              style=\"display:none;\">\n",
              "        \n",
              "  <svg xmlns=\"http://www.w3.org/2000/svg\" height=\"24px\"viewBox=\"0 0 24 24\"\n",
              "       width=\"24px\">\n",
              "    <path d=\"M0 0h24v24H0V0z\" fill=\"none\"/>\n",
              "    <path d=\"M18.56 5.44l.94 2.06.94-2.06 2.06-.94-2.06-.94-.94-2.06-.94 2.06-2.06.94zm-11 1L8.5 8.5l.94-2.06 2.06-.94-2.06-.94L8.5 2.5l-.94 2.06-2.06.94zm10 10l.94 2.06.94-2.06 2.06-.94-2.06-.94-.94-2.06-.94 2.06-2.06.94z\"/><path d=\"M17.41 7.96l-1.37-1.37c-.4-.4-.92-.59-1.43-.59-.52 0-1.04.2-1.43.59L10.3 9.45l-7.72 7.72c-.78.78-.78 2.05 0 2.83L4 21.41c.39.39.9.59 1.41.59.51 0 1.02-.2 1.41-.59l7.78-7.78 2.81-2.81c.8-.78.8-2.07 0-2.86zM5.41 20L4 18.59l7.72-7.72 1.47 1.35L5.41 20z\"/>\n",
              "  </svg>\n",
              "      </button>\n",
              "      \n",
              "  <style>\n",
              "    .colab-df-container {\n",
              "      display:flex;\n",
              "      flex-wrap:wrap;\n",
              "      gap: 12px;\n",
              "    }\n",
              "\n",
              "    .colab-df-convert {\n",
              "      background-color: #E8F0FE;\n",
              "      border: none;\n",
              "      border-radius: 50%;\n",
              "      cursor: pointer;\n",
              "      display: none;\n",
              "      fill: #1967D2;\n",
              "      height: 32px;\n",
              "      padding: 0 0 0 0;\n",
              "      width: 32px;\n",
              "    }\n",
              "\n",
              "    .colab-df-convert:hover {\n",
              "      background-color: #E2EBFA;\n",
              "      box-shadow: 0px 1px 2px rgba(60, 64, 67, 0.3), 0px 1px 3px 1px rgba(60, 64, 67, 0.15);\n",
              "      fill: #174EA6;\n",
              "    }\n",
              "\n",
              "    [theme=dark] .colab-df-convert {\n",
              "      background-color: #3B4455;\n",
              "      fill: #D2E3FC;\n",
              "    }\n",
              "\n",
              "    [theme=dark] .colab-df-convert:hover {\n",
              "      background-color: #434B5C;\n",
              "      box-shadow: 0px 1px 3px 1px rgba(0, 0, 0, 0.15);\n",
              "      filter: drop-shadow(0px 1px 2px rgba(0, 0, 0, 0.3));\n",
              "      fill: #FFFFFF;\n",
              "    }\n",
              "  </style>\n",
              "\n",
              "      <script>\n",
              "        const buttonEl =\n",
              "          document.querySelector('#df-e454d8a1-e59f-4b82-8db3-20f0466f61be button.colab-df-convert');\n",
              "        buttonEl.style.display =\n",
              "          google.colab.kernel.accessAllowed ? 'block' : 'none';\n",
              "\n",
              "        async function convertToInteractive(key) {\n",
              "          const element = document.querySelector('#df-e454d8a1-e59f-4b82-8db3-20f0466f61be');\n",
              "          const dataTable =\n",
              "            await google.colab.kernel.invokeFunction('convertToInteractive',\n",
              "                                                     [key], {});\n",
              "          if (!dataTable) return;\n",
              "\n",
              "          const docLinkHtml = 'Like what you see? Visit the ' +\n",
              "            '<a target=\"_blank\" href=https://colab.research.google.com/notebooks/data_table.ipynb>data table notebook</a>'\n",
              "            + ' to learn more about interactive tables.';\n",
              "          element.innerHTML = '';\n",
              "          dataTable['output_type'] = 'display_data';\n",
              "          await google.colab.output.renderOutput(dataTable, element);\n",
              "          const docLink = document.createElement('div');\n",
              "          docLink.innerHTML = docLinkHtml;\n",
              "          element.appendChild(docLink);\n",
              "        }\n",
              "      </script>\n",
              "    </div>\n",
              "  </div>\n",
              "  "
            ]
          },
          "metadata": {},
          "execution_count": 8
        }
      ],
      "source": [
        "X = data.drop(columns = [\"PREDICT\"])\n",
        "y = data['PREDICT']\n",
        "#y=y.replace({'NORMAL':0,'FATAL':1})\n",
        "X"
      ]
    },
    {
      "cell_type": "markdown",
      "metadata": {
        "id": "CgkIU8g--IWE"
      },
      "source": [
        "# Train & TEST SPLIT"
      ]
    },
    {
      "cell_type": "code",
      "execution_count": 9,
      "metadata": {
        "id": "aY6Vk6YC-RHg"
      },
      "outputs": [],
      "source": [
        "from sklearn.model_selection import train_test_split\n",
        "X_train, X_test, y_train, y_test = train_test_split(X,y, stratify = y, train_size = 0.7 , random_state = 42)"
      ]
    },
    {
      "cell_type": "markdown",
      "metadata": {
        "id": "Uf9F1jZh9Sek"
      },
      "source": [
        "# 스케일링"
      ]
    },
    {
      "cell_type": "code",
      "execution_count": null,
      "metadata": {
        "id": "dZEl1i5T9Mbs"
      },
      "outputs": [],
      "source": [
        "from sklearn.preprocessing import MinMaxScaler\n",
        "scaler_X_train = MinMaxScaler()\n",
        "scaler_X_train = scaler_X_train.fit(X_train)\n",
        "X_train = scaler_X_train.transform(X_train)"
      ]
    },
    {
      "cell_type": "code",
      "execution_count": null,
      "metadata": {
        "id": "12cRXfcp-7Zt"
      },
      "outputs": [],
      "source": [
        "scaler_X_test = MinMaxScaler()\n",
        "scaler_X_test = scaler_X_test.fit(X_test)\n",
        "X_test = scaler_X_test.transform(X_test)"
      ]
    },
    {
      "cell_type": "code",
      "execution_count": null,
      "metadata": {
        "id": "WP9SPWkP-_B0"
      },
      "outputs": [],
      "source": [
        "print(X_train.shape)\n",
        "print(X_test.shape)"
      ]
    },
    {
      "cell_type": "markdown",
      "metadata": {
        "id": "Cagi00MV_bxK"
      },
      "source": [
        "# 앙상블 부스팅\n",
        "\n",
        "- 여러 개의 약한 학습기를 순차적으로 학습시켜 예측하면서 잘 못 예측한 데이터에 가중치를 부여하여 오류를 개선해 나가며 학습하는 앙상블 모델\n",
        "- 순차적 직렬 앙상블 방식\n",
        "- GradientBoosting과 AdaBoosting이 있음"
      ]
    },
    {
      "cell_type": "markdown",
      "metadata": {
        "id": "OVctCeV6Gm6q"
      },
      "source": [
        "# 랜덤서치"
      ]
    },
    {
      "cell_type": "code",
      "execution_count": null,
      "metadata": {
        "colab": {
          "base_uri": "https://localhost:8080/"
        },
        "id": "2aqEUcGCAFyO",
        "outputId": "d8c24b9c-de65-4062-d816-f2fed7ec14f5"
      },
      "outputs": [
        {
          "output_type": "execute_result",
          "data": {
            "text/plain": [
              "RandomizedSearchCV(cv=4, estimator=GradientBoostingClassifier(), n_iter=30,\n",
              "                   param_distributions={'max_depth': [3],\n",
              "                                        'max_features': ['auto', 'sqrt',\n",
              "                                                         'log2'],\n",
              "                                        'n_estimators': <scipy.stats._distn_infrastructure.rv_frozen object at 0x7f6c9327eb10>},\n",
              "                   random_state=42)"
            ]
          },
          "metadata": {},
          "execution_count": 88
        }
      ],
      "source": [
        "from sklearn.ensemble import GradientBoostingClassifier\n",
        "from sklearn.model_selection import RandomizedSearchCV\n",
        "from scipy.stats import randint\n",
        "param = {'n_estimators' : randint(low = 100, high = 1000),\n",
        "         'max_features' : ['auto','sqrt','log2'],\n",
        "         'max_depth' : [3]}\n",
        "random_search = RandomizedSearchCV(GradientBoostingClassifier(),\n",
        "                                   param_distributions=param,\n",
        "                                   random_state = 42,\n",
        "                                   n_iter=30,\n",
        "                                   cv=4)\n",
        "random_search.fit(X_train,y_train)"
      ]
    },
    {
      "cell_type": "code",
      "execution_count": null,
      "metadata": {
        "colab": {
          "base_uri": "https://localhost:8080/"
        },
        "id": "7Tzzg33YBezo",
        "outputId": "f3561cbd-364f-4242-b5f8-b354ad46b9b6"
      },
      "outputs": [
        {
          "output_type": "stream",
          "name": "stdout",
          "text": [
            "BEST Parameter: {'max_depth': 3, 'max_features': 'auto', 'n_estimators': 918}\n",
            "Best Score: 0.9539\n",
            "TestSet Score: 0.6016\n"
          ]
        }
      ],
      "source": [
        "print(\"BEST Parameter: {}\".format(random_search.best_params_))\n",
        "print(\"Best Score: {:.4f}\".format(random_search.best_score_))\n",
        "print(\"TestSet Score: {:.4f}\".format(random_search.score(X_test,y_test)))"
      ]
    },
    {
      "cell_type": "code",
      "execution_count": null,
      "metadata": {
        "colab": {
          "base_uri": "https://localhost:8080/"
        },
        "id": "iKKlvK9LB6LN",
        "outputId": "95812aa1-0069-488c-bd9f-a0eea1c04d28"
      },
      "outputs": [
        {
          "output_type": "stream",
          "name": "stdout",
          "text": [
            "[[388  28]\n",
            " [276  71]]\n"
          ]
        }
      ],
      "source": [
        "pred_test = random_search.predict(X_test)\n",
        "from sklearn.metrics import confusion_matrix\n",
        "confusion_test = confusion_matrix(y_test,pred_test)\n",
        "print(confusion_test)"
      ]
    },
    {
      "cell_type": "code",
      "execution_count": null,
      "metadata": {
        "colab": {
          "base_uri": "https://localhost:8080/"
        },
        "id": "w7fEmtrUEqud",
        "outputId": "1cd2d008-aa06-4ed2-cba6-b9cde2d30530"
      },
      "outputs": [
        {
          "output_type": "stream",
          "name": "stdout",
          "text": [
            "normal 예측 :  0.9326923076923077\n",
            "fatal 예측 :  0.20461095100864554\n"
          ]
        }
      ],
      "source": [
        "print(\"normal 예측 : \", confusion_test[0,0]/sum(confusion_test[0]))\n",
        "print(\"fatal 예측 : \", confusion_test[1,1]/sum(confusion_test[1]))"
      ]
    },
    {
      "cell_type": "code",
      "execution_count": null,
      "metadata": {
        "colab": {
          "base_uri": "https://localhost:8080/"
        },
        "id": "fNNCoukkDUDt",
        "outputId": "3b833b90-8230-47c0-d732-6743f667ff7a"
      },
      "outputs": [
        {
          "output_type": "stream",
          "name": "stdout",
          "text": [
            "분류 예측 레포트:\n",
            "               precision    recall  f1-score   support\n",
            "\n",
            "           0       0.58      0.93      0.72       416\n",
            "           1       0.72      0.20      0.32       347\n",
            "\n",
            "    accuracy                           0.60       763\n",
            "   macro avg       0.65      0.57      0.52       763\n",
            "weighted avg       0.64      0.60      0.54       763\n",
            "\n"
          ]
        }
      ],
      "source": [
        "from sklearn.metrics import classification_report\n",
        "report_test = classification_report(y_test,pred_test)\n",
        "print(\"분류 예측 레포트:\\n\", report_test)"
      ]
    },
    {
      "cell_type": "markdown",
      "metadata": {
        "id": "55Bgs9qJGqvE"
      },
      "source": [
        "# 베이지안 옵티마이져"
      ]
    },
    {
      "cell_type": "code",
      "execution_count": null,
      "metadata": {
        "colab": {
          "base_uri": "https://localhost:8080/"
        },
        "id": "-UVw33EyGqvF",
        "outputId": "d9f14863-c4e7-4fc8-bf6f-7de6847cc7d9"
      },
      "outputs": [
        {
          "output_type": "stream",
          "name": "stdout",
          "text": [
            "Collecting Bayesian-Optimization\n",
            "  Downloading bayesian-optimization-1.2.0.tar.gz (14 kB)\n",
            "Requirement already satisfied: numpy>=1.9.0 in /usr/local/lib/python3.7/dist-packages (from Bayesian-Optimization) (1.21.6)\n",
            "Requirement already satisfied: scipy>=0.14.0 in /usr/local/lib/python3.7/dist-packages (from Bayesian-Optimization) (1.4.1)\n",
            "Requirement already satisfied: scikit-learn>=0.18.0 in /usr/local/lib/python3.7/dist-packages (from Bayesian-Optimization) (1.0.2)\n",
            "Requirement already satisfied: joblib>=0.11 in /usr/local/lib/python3.7/dist-packages (from scikit-learn>=0.18.0->Bayesian-Optimization) (1.1.0)\n",
            "Requirement already satisfied: threadpoolctl>=2.0.0 in /usr/local/lib/python3.7/dist-packages (from scikit-learn>=0.18.0->Bayesian-Optimization) (3.1.0)\n",
            "Building wheels for collected packages: Bayesian-Optimization\n",
            "  Building wheel for Bayesian-Optimization (setup.py) ... \u001b[?25l\u001b[?25hdone\n",
            "  Created wheel for Bayesian-Optimization: filename=bayesian_optimization-1.2.0-py3-none-any.whl size=11685 sha256=bbf0faf0ca78cb95d9c9b0f7c83415ba39c1f86e0dff19c89e8c95174bf07f7d\n",
            "  Stored in directory: /root/.cache/pip/wheels/fd/9b/71/f127d694e02eb40bcf18c7ae9613b88a6be4470f57a8528c5b\n",
            "Successfully built Bayesian-Optimization\n",
            "Installing collected packages: Bayesian-Optimization\n",
            "Successfully installed Bayesian-Optimization-1.2.0\n",
            "|   iter    |  target   | learni... | max_depth |\n",
            "-------------------------------------------------\n",
            "| \u001b[0m 1       \u001b[0m | \u001b[0m 0.1465  \u001b[0m | \u001b[0m 0.04371 \u001b[0m | \u001b[0m 23.87   \u001b[0m |\n",
            "| \u001b[0m 2       \u001b[0m | \u001b[0m 0.1274  \u001b[0m | \u001b[0m 0.07588 \u001b[0m | \u001b[0m 15.77   \u001b[0m |\n"
          ]
        }
      ],
      "source": [
        "from sklearn.ensemble import GradientBoostingClassifier\n",
        "!pip install Bayesian-Optimization\n",
        "from bayes_opt import BayesianOptimization\n",
        "from scipy.stats import randint\n",
        "from sklearn.metrics import make_scorer, precision_score\n",
        "from sklearn.model_selection import cross_validate\n",
        "\n",
        "def GradientBoostingClassifier_cv(learning_rate, max_depth ) : \n",
        "    model  = GradientBoostingClassifier(learning_rate = learning_rate,\n",
        "                                        n_estimators = 1000,\n",
        "                                        max_depth = int(round(max_depth)))\n",
        "    scoring = {'precision_score' : make_scorer(precision_score)}\n",
        "    result = cross_validate(model, X_train, y_train, cv = 5, scoring = scoring)\n",
        "    auc_score = result[\"test_precision_score\"].mean()\n",
        "    return auc_score\n",
        "\n",
        "pbounds = {'learning_rate' : (0.01,0.1),\n",
        "           'max_depth' : (2,25)}\n",
        "\n",
        "GradientBoostingClassifier_BO = BayesianOptimization(f=GradientBoostingClassifier_cv,pbounds = pbounds,verbose = 2,random_state = 42)\n",
        "\n",
        "\n",
        "GradientBoostingClassifier_BO.maximize(init_points = 20,n_iter = 40)\n",
        "\n",
        "GradientBoostingClassifier_BO.max"
      ]
    },
    {
      "cell_type": "code",
      "execution_count": null,
      "metadata": {
        "colab": {
          "base_uri": "https://localhost:8080/"
        },
        "id": "D2rWqwN2GqvH",
        "outputId": "76203488-f991-432e-f068-38cb580a1ab3"
      },
      "outputs": [
        {
          "name": "stdout",
          "output_type": "stream",
          "text": [
            "BEST Parameter: {'max_depth': 3, 'max_features': 'sqrt', 'n_estimators': 121}\n",
            "Best Score: 0.7026\n",
            "TestSet Score: 0.6000\n"
          ]
        }
      ],
      "source": [
        "print(\"BEST Parameter: {}\".format(random_search.best_params_))\n",
        "print(\"Best Score: {:.4f}\".format(random_search.best_score_))\n",
        "print(\"TestSet Score: {:.4f}\".format(random_search.score(X_test,y_test)))"
      ]
    },
    {
      "cell_type": "code",
      "execution_count": null,
      "metadata": {
        "colab": {
          "base_uri": "https://localhost:8080/"
        },
        "id": "asZQO9nXGqvI",
        "outputId": "6c3d1912-354c-48d2-ba3d-85f1bac17cb3"
      },
      "outputs": [
        {
          "name": "stdout",
          "output_type": "stream",
          "text": [
            "[[241 108]\n",
            " [ 88  53]]\n"
          ]
        }
      ],
      "source": [
        "pred_test = random_search.predict(X_test)\n",
        "from sklearn.metrics import confusion_matrix\n",
        "confusion_test = confusion_matrix(y_test,pred_test)\n",
        "print(confusion_test)"
      ]
    },
    {
      "cell_type": "code",
      "execution_count": null,
      "metadata": {
        "colab": {
          "base_uri": "https://localhost:8080/"
        },
        "id": "2tCNod-MGqvI",
        "outputId": "a8cb8ec7-bd29-4791-f41e-bdc9b3b046db"
      },
      "outputs": [
        {
          "name": "stdout",
          "output_type": "stream",
          "text": [
            "normal 예측 :  0.6905444126074498\n",
            "fatal 예측 :  0.375886524822695\n"
          ]
        }
      ],
      "source": [
        "print(\"normal 예측 : \", confusion_test[0,0]/sum(confusion_test[0]))\n",
        "print(\"fatal 예측 : \", confusion_test[1,1]/sum(confusion_test[1]))"
      ]
    },
    {
      "cell_type": "code",
      "execution_count": null,
      "metadata": {
        "colab": {
          "base_uri": "https://localhost:8080/"
        },
        "id": "IhCVqHswGqvJ",
        "outputId": "65a0c6b5-84aa-4f56-c0f6-393c9a8471ac"
      },
      "outputs": [
        {
          "name": "stdout",
          "output_type": "stream",
          "text": [
            "분류 예측 레포트:\n",
            "               precision    recall  f1-score   support\n",
            "\n",
            "           0       0.73      0.69      0.71       349\n",
            "           1       0.33      0.38      0.35       141\n",
            "\n",
            "    accuracy                           0.60       490\n",
            "   macro avg       0.53      0.53      0.53       490\n",
            "weighted avg       0.62      0.60      0.61       490\n",
            "\n"
          ]
        }
      ],
      "source": [
        "from sklearn.metrics import classification_report\n",
        "report_test = classification_report(y_test,pred_test)\n",
        "print(\"분류 예측 레포트:\\n\", report_test)"
      ]
    },
    {
      "cell_type": "markdown",
      "source": [
        "# 최종 구현 모델"
      ],
      "metadata": {
        "id": "8rP0k8_SMrq6"
      }
    },
    {
      "cell_type": "code",
      "source": [
        "from sklearn.ensemble import GradientBoostingClassifier\n",
        "\n",
        "model = GradientBoostingClassifier(\n",
        "    n_estimators = 1000,\n",
        "    learning_rate = 0.02404,\n",
        "    max_depth = 6,\n",
        "    random_state = 42)"
      ],
      "metadata": {
        "id": "eB2ywL7cMtwM"
      },
      "execution_count": null,
      "outputs": []
    },
    {
      "cell_type": "code",
      "source": [
        "model.fit(X_train, y_train)"
      ],
      "metadata": {
        "colab": {
          "base_uri": "https://localhost:8080/",
          "height": 174
        },
        "id": "HnRGJUZZNNiA",
        "outputId": "9c6012ee-9c33-446c-eb15-52b85f7dc603"
      },
      "execution_count": null,
      "outputs": [
        {
          "output_type": "error",
          "ename": "NameError",
          "evalue": "ignored",
          "traceback": [
            "\u001b[0;31m---------------------------------------------------------------------------\u001b[0m",
            "\u001b[0;31mNameError\u001b[0m                                 Traceback (most recent call last)",
            "\u001b[0;32m<ipython-input-6-d768f88d541e>\u001b[0m in \u001b[0;36m<module>\u001b[0;34m()\u001b[0m\n\u001b[0;32m----> 1\u001b[0;31m \u001b[0mmodel\u001b[0m\u001b[0;34m.\u001b[0m\u001b[0mfit\u001b[0m\u001b[0;34m(\u001b[0m\u001b[0mX_train\u001b[0m\u001b[0;34m,\u001b[0m \u001b[0my_train\u001b[0m\u001b[0;34m)\u001b[0m\u001b[0;34m\u001b[0m\u001b[0;34m\u001b[0m\u001b[0m\n\u001b[0m",
            "\u001b[0;31mNameError\u001b[0m: name 'X_train' is not defined"
          ]
        }
      ]
    },
    {
      "cell_type": "code",
      "source": [
        "pred_train = model.predict(X_train)\n",
        "model.score(X_train, y_train)"
      ],
      "metadata": {
        "colab": {
          "base_uri": "https://localhost:8080/",
          "height": 193
        },
        "id": "4DyhrUtoNVkY",
        "outputId": "6e188e34-ce21-4696-d1ab-f78ea661cdb8"
      },
      "execution_count": null,
      "outputs": [
        {
          "output_type": "error",
          "ename": "NameError",
          "evalue": "ignored",
          "traceback": [
            "\u001b[0;31m---------------------------------------------------------------------------\u001b[0m",
            "\u001b[0;31mNameError\u001b[0m                                 Traceback (most recent call last)",
            "\u001b[0;32m<ipython-input-5-3ed7de27d6c9>\u001b[0m in \u001b[0;36m<module>\u001b[0;34m()\u001b[0m\n\u001b[0;32m----> 1\u001b[0;31m \u001b[0mpred_train\u001b[0m \u001b[0;34m=\u001b[0m \u001b[0mmodel\u001b[0m\u001b[0;34m.\u001b[0m\u001b[0mpredict\u001b[0m\u001b[0;34m(\u001b[0m\u001b[0mX_train\u001b[0m\u001b[0;34m)\u001b[0m\u001b[0;34m\u001b[0m\u001b[0;34m\u001b[0m\u001b[0m\n\u001b[0m\u001b[1;32m      2\u001b[0m \u001b[0mmodel\u001b[0m\u001b[0;34m.\u001b[0m\u001b[0mscore\u001b[0m\u001b[0;34m(\u001b[0m\u001b[0mX_train\u001b[0m\u001b[0;34m,\u001b[0m \u001b[0my_train\u001b[0m\u001b[0;34m)\u001b[0m\u001b[0;34m\u001b[0m\u001b[0;34m\u001b[0m\u001b[0m\n",
            "\u001b[0;31mNameError\u001b[0m: name 'X_train' is not defined"
          ]
        }
      ]
    },
    {
      "cell_type": "code",
      "source": [
        "pred_test = random_search.predict(X_test)\n",
        "from sklearn.metrics import confusion_matrix\n",
        "confusion_test = confusion_matrix(y_test,pred_test)\n",
        "print(confusion_test)"
      ],
      "metadata": {
        "colab": {
          "base_uri": "https://localhost:8080/"
        },
        "id": "VeUfAhENNxOX",
        "outputId": "1a6bedeb-2069-4e46-a4d4-7c8c3d608d5c"
      },
      "execution_count": null,
      "outputs": [
        {
          "output_type": "stream",
          "name": "stdout",
          "text": [
            "[[388  28]\n",
            " [420  84]]\n"
          ]
        }
      ]
    },
    {
      "cell_type": "code",
      "source": [
        "print(\"normal 예측 : \", confusion_test[0,0]/sum(confusion_test[0]))\n",
        "print(\"fatal 예측 : \", confusion_test[1,1]/sum(confusion_test[1]))"
      ],
      "metadata": {
        "colab": {
          "base_uri": "https://localhost:8080/"
        },
        "id": "a_bIENbyN1WI",
        "outputId": "b5038ac9-fcb1-4cf1-9567-f055ad109ec9"
      },
      "execution_count": null,
      "outputs": [
        {
          "output_type": "stream",
          "name": "stdout",
          "text": [
            "normal 예측 :  0.9326923076923077\n",
            "fatal 예측 :  0.16666666666666666\n"
          ]
        }
      ]
    }
  ],
  "metadata": {
    "colab": {
      "name": "Boosting.ipynb",
      "provenance": [],
      "authorship_tag": "ABX9TyObxSNL443RSDNzBCicZFpJ",
      "include_colab_link": true
    },
    "kernelspec": {
      "display_name": "Python 3",
      "name": "python3"
    },
    "language_info": {
      "name": "python"
    }
  },
  "nbformat": 4,
  "nbformat_minor": 0
}