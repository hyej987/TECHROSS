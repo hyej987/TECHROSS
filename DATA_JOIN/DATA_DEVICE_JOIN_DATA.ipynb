{
  "nbformat": 4,
  "nbformat_minor": 0,
  "metadata": {
    "colab": {
      "name": "DATA_DEVICE_JOIN_DATA.ipynb",
      "provenance": [],
      "collapsed_sections": [],
      "authorship_tag": "ABX9TyMgBPnjxcnZcYm3yxKH8Fsa",
      "include_colab_link": true
    },
    "kernelspec": {
      "name": "python3",
      "display_name": "Python 3"
    },
    "language_info": {
      "name": "python"
    }
  },
  "cells": [
    {
      "cell_type": "markdown",
      "metadata": {
        "id": "view-in-github",
        "colab_type": "text"
      },
      "source": [
        "<a href=\"https://colab.research.google.com/github/AnnJungChan/TECHCROSS/blob/main/DATA_JOIN/DATA_DEVICE_JOIN_DATA.ipynb\" target=\"_parent\"><img src=\"https://colab.research.google.com/assets/colab-badge.svg\" alt=\"Open In Colab\"/></a>"
      ]
    },
    {
      "cell_type": "markdown",
      "source": [
        "# DATA_DEVICE_JOIN_DATA\n",
        "\n",
        "- DATA_DEVICE를 중심으로 DATA를 LEFT JOIN한 테이블을 만든다.\n",
        "\n",
        "- DATA_DEVICE가 DATA보다 행의 갯수가 더 많으므로, DATA가 중복되어 DATA_DEVICE와 병합된다.\n",
        "\n",
        "- 병합은 아래의 순서를 따른다 <BR>\n",
        "  1. DATA_DEVICE 테이블과 ANU,ECU,PMU,TSU를 병합시킨다.<BR>\n",
        "    - ANU,ECU,PMU,TSU 테이블에 DEVICETYPE이라는 컬럼을 만들어준다.<BR>\n",
        "    - ECU에는 DEVICETYPE = 1, ANU에는 DEVICETYPE = 2, TSU에는 DEVICETYPE = 3, PMU에는 DEVICETYPE = 4를 넣어준다. <BR>\n",
        "    - DEVICETYPE 칼럼을 사용하여 키를 만든 후, DATA_DEVICE 테이블을 기준으로 ANU, ECU, PMU, TSU 테이블을 LEFT JOIN을 이용하여 병합시킨다.<BR>\n",
        "  2. DATA_DEVICE 테이블과 ANU, ECU, PMU, TSU를 병합시킨 테이블인 DATA_DEVICE_TYPE 테이블을 기준으로, DATA 테이블을 LEFT JOIN 시킨다.\n"
      ],
      "metadata": {
        "id": "3km-F-aMRF_H"
      }
    },
    {
      "cell_type": "code",
      "execution_count": 1,
      "metadata": {
        "id": "fQAx7ZL7RprS",
        "colab": {
          "base_uri": "https://localhost:8080/"
        },
        "outputId": "95e69760-3d4e-4874-9612-f7706db685f0"
      },
      "outputs": [
        {
          "output_type": "stream",
          "name": "stdout",
          "text": [
            "Mounted at /content/gdrive/\n"
          ]
        }
      ],
      "source": [
        "from google.colab import drive\n",
        "drive.mount('/content/gdrive/')\n",
        "import pandas as pd\n",
        "import numpy as np\n",
        "DATA_DEVICE = pd.read_csv('/content/gdrive/MyDrive/DB/DATA_DEVICE.csv')\n",
        "ANU = pd.read_csv('/content/gdrive/MyDrive/DB/ANU.csv')\n",
        "ECU = pd.read_csv('/content/gdrive/MyDrive/DB/ECU.csv')\n",
        "PMU = pd.read_csv('/content/gdrive/MyDrive/DB/PMU.csv')\n",
        "TSU = pd.read_csv('/content/gdrive/MyDrive/DB/TSU.csv')\n",
        "DATA = pd.read_csv('/content/gdrive/MyDrive/DB/DATA.csv')\n",
        "DATA_DEVICE['DDKEY'] = DATA_DEVICE['SHIP_ID'] + \"_\" + DATA_DEVICE['SECTION'].astype(str) + \"_\" + DATA_DEVICE['D_INDEX'].astype(str) + \"_\" + DATA_DEVICE['DEVICE_ID'].astype(str) + \"_\" +DATA_DEVICE['DEVICETYPE'].astype(str)\n",
        "ECU['DEVICETYPE'] = 1\n",
        "ANU['DEVICETYPE'] = 2\n",
        "TSU['DEVICETYPE'] = 3\n",
        "PMU['DEVICETYPE'] = 4\n",
        "ECU['DDKEY'] = ECU['SHIP_ID'] + \"_\" + ECU['SECTION'].astype(str) + \"_\" + ECU['D_INDEX'].astype(str) + \"_\" + ECU['DEVICE_ID'].astype(str) + \"_\" +ECU['DEVICETYPE'].astype(str)\n",
        "ANU['DDKEY'] = ANU['SHIP_ID'] + \"_\" + ANU['SECTION'].astype(str) + \"_\" + ANU['D_INDEX'].astype(str) + \"_\" + ANU['DEVICE_ID'].astype(str) + \"_\" +ANU['DEVICETYPE'].astype(str)\n",
        "TSU['DDKEY'] = TSU['SHIP_ID'] + \"_\" + TSU['SECTION'].astype(str) + \"_\" + TSU['D_INDEX'].astype(str) + \"_\" + TSU['DEVICE_ID'].astype(str) + \"_\" +TSU['DEVICETYPE'].astype(str)\n",
        "PMU['DDKEY'] = PMU['SHIP_ID'] + \"_\" + PMU['SECTION'].astype(str) + \"_\" + PMU['D_INDEX'].astype(str) + \"_\" + PMU['DEVICE_ID'].astype(str) + \"_\" +PMU['DEVICETYPE'].astype(str)\n",
        "ECU.rename(columns = lambda x: \"ECU_\" + x, inplace = True)\n",
        "ANU.rename(columns = lambda x: \"ANU_\" + x, inplace = True)\n",
        "TSU.rename(columns = lambda x: \"TSU_\" + x, inplace = True)\n",
        "PMU.rename(columns = lambda x: \"PMU_\" + x, inplace = True)\n",
        "ECU.rename(columns = {'ECU_DDKEY' : 'DDKEY'},inplace=True)\n",
        "ANU.rename(columns = {'ANU_DDKEY' : 'DDKEY'},inplace=True)\n",
        "TSU.rename(columns = {'TSU_DDKEY' : 'DDKEY'},inplace=True)\n",
        "PMU.rename(columns = {'PMU_DDKEY' : 'DDKEY'},inplace=True)\n",
        "DDECU=pd.merge(DATA_DEVICE,ECU,how = 'left', on = 'DDKEY')\n",
        "DDANU=pd.merge(DATA_DEVICE,ANU,how = 'left', on = 'DDKEY')\n",
        "DDPMU=pd.merge(DATA_DEVICE,PMU,how = 'left', on = 'DDKEY')\n",
        "DDTSU=pd.merge(DATA_DEVICE,TSU,how = 'left', on = 'DDKEY')\n",
        "DDECU.drop(columns = ['ECU_SHIP_ID','ECU_D_INDEX','ECU_DEVICE_ID','ECU_SYSTEM','ECU_SECTION','ECU_DEVICETYPE'],inplace = True)\n",
        "DDANU.drop(columns = ['ANU_SHIP_ID','ANU_D_INDEX','ANU_DEVICE_ID','ANU_SYSTEM','ANU_SECTION','ANU_DEVICETYPE'],inplace = True)\n",
        "DDPMU.drop(columns = ['PMU_SHIP_ID','PMU_D_INDEX','PMU_DEVICE_ID','PMU_SYSTEM','PMU_SECTION','PMU_DEVICETYPE'],inplace = True)\n",
        "DDTSU.drop(columns = ['TSU_SHIP_ID','TSU_D_INDEX','TSU_DEVICE_ID','TSU_SYSTEM','TSU_SECTION','TSU_DEVICETYPE'],inplace = True)\n",
        "DDANU.drop(columns = ['DATA_INDEX', 'OP_INDEX', 'DEVICETYPE','DEVICE_ID','D_INDEX','SHIP_ID','SYSTEM','SECTION','DDKEY'],inplace = True)\n",
        "DDPMU.drop(columns = ['DATA_INDEX', 'OP_INDEX', 'DEVICETYPE','DEVICE_ID','D_INDEX','SHIP_ID','SYSTEM','SECTION','DDKEY'],inplace = True)\n",
        "DDTSU.drop(columns = ['DATA_INDEX', 'OP_INDEX', 'DEVICETYPE','DEVICE_ID','D_INDEX','SHIP_ID','SYSTEM','SECTION','DDKEY'],inplace = True)\n",
        "DATA_DEVICE_TYPE=pd.concat([DDECU,DDANU,DDTSU,DDPMU],axis = 1)\n",
        "DATA_DEVICE_TYPE.drop(columns = ['DDKEY'],inplace = True)\n",
        "DATA_DEVICE_TYPE['KEY'] = DATA_DEVICE_TYPE['SHIP_ID'] + \"_\" + DATA_DEVICE_TYPE['SECTION'].astype(str) + \"_\" + DATA_DEVICE_TYPE['OP_INDEX'].astype(str) + \"_\" + DATA_DEVICE_TYPE['DATA_INDEX'].astype(str)\n",
        "DATA['KEY'] = DATA['SHIP_ID'] + \"_\" + DATA['SECTION'].astype(str) + \"_\" + DATA['OP_INDEX'].astype(str) + \"_\" + DATA['DATA_INDEX'].astype(str)\n",
        "DATA.drop(columns = ['OP_INDEX','DATA_INDEX','SHIP_ID','SYSTEM', 'SECTION'],inplace = True)\n",
        "DATA_DEVICE_JOIN_DATA=pd.merge(DATA_DEVICE_TYPE,DATA,how = 'left', on = 'KEY')\n",
        "DATA_DEVICE_JOIN_DATA.drop(columns = ['KEY'], inplace = True)"
      ]
    }
  ]
}