{
  "nbformat": 4,
  "nbformat_minor": 0,
  "metadata": {
    "colab": {
      "name": "EVENT_INDEX_BY_OPTIME.ipynb",
      "provenance": [],
      "authorship_tag": "ABX9TyPub2IGc2F7VbjGUnk9GI6V",
      "include_colab_link": true
    },
    "kernelspec": {
      "name": "python3",
      "display_name": "Python 3"
    },
    "language_info": {
      "name": "python"
    }
  },
  "cells": [
    {
      "cell_type": "markdown",
      "metadata": {
        "id": "view-in-github",
        "colab_type": "text"
      },
      "source": [
        "<a href=\"https://colab.research.google.com/github/AnnJungChan/TECHLOSS_SIGNLAB/blob/main/DATA/EVENT_INDEX_BY_OPTIME.ipynb\" target=\"_parent\"><img src=\"https://colab.research.google.com/assets/colab-badge.svg\" alt=\"Open In Colab\"/></a>"
      ]
    },
    {
      "cell_type": "markdown",
      "source": [
        "# 패키지 로딩"
      ],
      "metadata": {
        "id": "sIWPKo0v8OEb"
      }
    },
    {
      "cell_type": "code",
      "execution_count": 48,
      "metadata": {
        "colab": {
          "base_uri": "https://localhost:8080/"
        },
        "id": "VQWs4B813xtx",
        "outputId": "02bec830-20ef-4f0f-b555-ea6517dae3bc"
      },
      "outputs": [
        {
          "output_type": "stream",
          "name": "stdout",
          "text": [
            "Drive already mounted at /content/gdrive; to attempt to forcibly remount, call drive.mount(\"/content/gdrive\", force_remount=True).\n"
          ]
        }
      ],
      "source": [
        "from google.colab import drive\n",
        "drive.mount('/content/gdrive')\n",
        "import numpy as np\n",
        "import pandas as pd"
      ]
    },
    {
      "cell_type": "markdown",
      "source": [
        "# EVENT_JOIN_OPTIME 생성"
      ],
      "metadata": {
        "id": "3HYMdTY98iXO"
      }
    },
    {
      "cell_type": "code",
      "source": [
        "EVENT = pd.read_csv('/content/gdrive/MyDrive/DB/EVENT.csv')\n",
        "OPTIME = pd.read_csv('/content/gdrive/MyDrive/DB/OPTIME.csv')\n",
        "OPTIME_EVENT = pd.read_csv('/content/gdrive/MyDrive/DB/OPTIME_EVENT.csv')\n",
        "EVENT['SECTION']=EVENT['SECTION'].astype('str')\n",
        "EVENT['EVENT_INDEX'] = EVENT['EVENT_INDEX'].astype('str')\n",
        "OPTIME_EVENT['SECTION']=OPTIME_EVENT['SECTION'].astype('str')\n",
        "OPTIME_EVENT['EVENT_INDEX'] = OPTIME_EVENT['EVENT_INDEX'].astype('str')\n",
        "EVENT['KEY']=EVENT['SHIP_ID']+\"_\"+ EVENT['SECTION']+\"_\"+ EVENT['EVENT_INDEX']\n",
        "OPTIME_EVENT['KEY']=OPTIME_EVENT['SHIP_ID']+\"_\"+ OPTIME_EVENT['SECTION']+\"_\"+ OPTIME_EVENT['EVENT_INDEX']\n",
        "EVENT_JOIN_OPTIME_EVENT = pd.merge(EVENT, OPTIME_EVENT, how = \"inner\", on = \"KEY\")\n",
        "EVENT_JOIN_OPTIME_EVENT.drop(columns = [\"SHIP_ID_x\", \"SYSTEM_x\", \"EVENT_INDEX_x\", \"SECTION_x\"],inplace = True)\n",
        "EVENT_JOIN_OPTIME_EVENT.rename(columns = {'SHIP_ID_y' : 'SHIP_ID', 'EVENT_INDEX_y':'EVENT_INDEX', 'SYSTEM_y' : 'SYSTEM', 'SECTION_y' : 'SECTION'}, inplace = True)\n",
        "EVENT_JOIN_OPTIME_EVENT.drop(columns = [\"KEY\"],inplace = True)\n",
        "EVENT_JOIN_OPTIME_EVENT['KEY'] = EVENT_JOIN_OPTIME_EVENT['SHIP_ID']+\"_\"+  EVENT_JOIN_OPTIME_EVENT['SECTION'].astype('str')+\"_\"+  EVENT_JOIN_OPTIME_EVENT['OP_INDEX'].astype('str')\n",
        "OPTIME['KEY'] = OPTIME['SHIP_ID']+\"_\"+  OPTIME['SECTION'].astype('str')+\"_\"+  OPTIME['OP_INDEX'].astype('str')\n",
        "EVENT_JOIN_OPTIME = pd.merge(EVENT_JOIN_OPTIME_EVENT, OPTIME, how = \"inner\", on = \"KEY\")\n",
        "EVENT_JOIN_OPTIME.drop(columns = [\"SHIP_ID_x\", \"SYSTEM_x\", \"SECTION_x\",'FILE_INDEX_x','OP_INDEX_x'],inplace = True)\n",
        "EVENT_JOIN_OPTIME.rename(columns = {'SHIP_ID_y' : 'SHIP_ID', 'OP_INDEX_y':'OP_INDEX', 'SYSTEM_y' : 'SYSTEM', 'SECTION_y' : 'SECTION', 'FILE_INDEX_y':'FILE_INDEX'}, inplace = True)"
      ],
      "metadata": {
        "id": "raXXUHu88m60"
      },
      "execution_count": 49,
      "outputs": []
    },
    {
      "cell_type": "code",
      "source": [
        "df=pd.DataFrame({'SHIP_ID/SECTION/OP_INDEX' :OPTIME['KEY'], 'EVENT_INDEX' : np.zeros(10341)})"
      ],
      "metadata": {
        "id": "At_shJJM9VxU"
      },
      "execution_count": 52,
      "outputs": []
    },
    {
      "cell_type": "code",
      "source": [
        "for i in range(len(OPTIME['KEY'])) :\n",
        "  index = EVENT_JOIN_OPTIME.loc[OPTIME['KEY'][i] == EVENT_JOIN_OPTIME['KEY'],'EVENT_INDEX']\n",
        "  index=index.astype(int)\n",
        "  index=index.astype(str)\n",
        "  index=' , '.join(index)\n",
        "  df.iloc[i,1] = index\n",
        "\n",
        "EVENT_INDEX_BY_OPTIME=df"
      ],
      "metadata": {
        "id": "SXwmklIh9XeF"
      },
      "execution_count": 53,
      "outputs": []
    },
    {
      "cell_type": "code",
      "source": [
        "EVENT_INDEX_BY_OPTIME"
      ],
      "metadata": {
        "colab": {
          "base_uri": "https://localhost:8080/",
          "height": 424
        },
        "id": "PonLW247OH4K",
        "outputId": "702bdb6f-50d2-436f-d2b5-e4e9298f4725"
      },
      "execution_count": 55,
      "outputs": [
        {
          "output_type": "execute_result",
          "data": {
            "text/plain": [
              "      SHIP_ID/SECTION/OP_INDEX  \\\n",
              "0            T140110-00206_0_1   \n",
              "1            T140113-00101_0_1   \n",
              "2            T140113-00102_0_1   \n",
              "3            T140113-00103_0_1   \n",
              "4            T140113-00104_0_1   \n",
              "...                        ...   \n",
              "10336     T140128-00703_0_1071   \n",
              "10337     T140128-00703_0_1072   \n",
              "10338     T140128-00703_0_1073   \n",
              "10339     T140128-00703_0_1074   \n",
              "10340     T140128-00703_0_1075   \n",
              "\n",
              "                                             EVENT_INDEX  \n",
              "0             13 , 14 , 15 , 16 , 17 , 18 , 19 , 20 , 21  \n",
              "1      19064 , 19065 , 19066 , 19067 , 19068 , 19069 ...  \n",
              "2                                            9 , 10 , 11  \n",
              "3                                              201 , 202  \n",
              "4                                            1857 , 1858  \n",
              "...                                                  ...  \n",
              "10336              14723 , 14724 , 14725 , 14726 , 14727  \n",
              "10337      14732 , 14733 , 14734 , 14735 , 14736 , 14737  \n",
              "10338  14754 , 14755 , 14756 , 14757 , 14758 , 14759 ...  \n",
              "10339  14782 , 14783 , 14784 , 14785 , 14786 , 14787 ...  \n",
              "10340  14889 , 14890 , 14891 , 14892 , 14893 , 14894 ...  \n",
              "\n",
              "[10341 rows x 2 columns]"
            ],
            "text/html": [
              "\n",
              "  <div id=\"df-67b3e87e-3127-4b10-8d08-193624fbcd29\">\n",
              "    <div class=\"colab-df-container\">\n",
              "      <div>\n",
              "<style scoped>\n",
              "    .dataframe tbody tr th:only-of-type {\n",
              "        vertical-align: middle;\n",
              "    }\n",
              "\n",
              "    .dataframe tbody tr th {\n",
              "        vertical-align: top;\n",
              "    }\n",
              "\n",
              "    .dataframe thead th {\n",
              "        text-align: right;\n",
              "    }\n",
              "</style>\n",
              "<table border=\"1\" class=\"dataframe\">\n",
              "  <thead>\n",
              "    <tr style=\"text-align: right;\">\n",
              "      <th></th>\n",
              "      <th>SHIP_ID/SECTION/OP_INDEX</th>\n",
              "      <th>EVENT_INDEX</th>\n",
              "    </tr>\n",
              "  </thead>\n",
              "  <tbody>\n",
              "    <tr>\n",
              "      <th>0</th>\n",
              "      <td>T140110-00206_0_1</td>\n",
              "      <td>13 , 14 , 15 , 16 , 17 , 18 , 19 , 20 , 21</td>\n",
              "    </tr>\n",
              "    <tr>\n",
              "      <th>1</th>\n",
              "      <td>T140113-00101_0_1</td>\n",
              "      <td>19064 , 19065 , 19066 , 19067 , 19068 , 19069 ...</td>\n",
              "    </tr>\n",
              "    <tr>\n",
              "      <th>2</th>\n",
              "      <td>T140113-00102_0_1</td>\n",
              "      <td>9 , 10 , 11</td>\n",
              "    </tr>\n",
              "    <tr>\n",
              "      <th>3</th>\n",
              "      <td>T140113-00103_0_1</td>\n",
              "      <td>201 , 202</td>\n",
              "    </tr>\n",
              "    <tr>\n",
              "      <th>4</th>\n",
              "      <td>T140113-00104_0_1</td>\n",
              "      <td>1857 , 1858</td>\n",
              "    </tr>\n",
              "    <tr>\n",
              "      <th>...</th>\n",
              "      <td>...</td>\n",
              "      <td>...</td>\n",
              "    </tr>\n",
              "    <tr>\n",
              "      <th>10336</th>\n",
              "      <td>T140128-00703_0_1071</td>\n",
              "      <td>14723 , 14724 , 14725 , 14726 , 14727</td>\n",
              "    </tr>\n",
              "    <tr>\n",
              "      <th>10337</th>\n",
              "      <td>T140128-00703_0_1072</td>\n",
              "      <td>14732 , 14733 , 14734 , 14735 , 14736 , 14737</td>\n",
              "    </tr>\n",
              "    <tr>\n",
              "      <th>10338</th>\n",
              "      <td>T140128-00703_0_1073</td>\n",
              "      <td>14754 , 14755 , 14756 , 14757 , 14758 , 14759 ...</td>\n",
              "    </tr>\n",
              "    <tr>\n",
              "      <th>10339</th>\n",
              "      <td>T140128-00703_0_1074</td>\n",
              "      <td>14782 , 14783 , 14784 , 14785 , 14786 , 14787 ...</td>\n",
              "    </tr>\n",
              "    <tr>\n",
              "      <th>10340</th>\n",
              "      <td>T140128-00703_0_1075</td>\n",
              "      <td>14889 , 14890 , 14891 , 14892 , 14893 , 14894 ...</td>\n",
              "    </tr>\n",
              "  </tbody>\n",
              "</table>\n",
              "<p>10341 rows × 2 columns</p>\n",
              "</div>\n",
              "      <button class=\"colab-df-convert\" onclick=\"convertToInteractive('df-67b3e87e-3127-4b10-8d08-193624fbcd29')\"\n",
              "              title=\"Convert this dataframe to an interactive table.\"\n",
              "              style=\"display:none;\">\n",
              "        \n",
              "  <svg xmlns=\"http://www.w3.org/2000/svg\" height=\"24px\"viewBox=\"0 0 24 24\"\n",
              "       width=\"24px\">\n",
              "    <path d=\"M0 0h24v24H0V0z\" fill=\"none\"/>\n",
              "    <path d=\"M18.56 5.44l.94 2.06.94-2.06 2.06-.94-2.06-.94-.94-2.06-.94 2.06-2.06.94zm-11 1L8.5 8.5l.94-2.06 2.06-.94-2.06-.94L8.5 2.5l-.94 2.06-2.06.94zm10 10l.94 2.06.94-2.06 2.06-.94-2.06-.94-.94-2.06-.94 2.06-2.06.94z\"/><path d=\"M17.41 7.96l-1.37-1.37c-.4-.4-.92-.59-1.43-.59-.52 0-1.04.2-1.43.59L10.3 9.45l-7.72 7.72c-.78.78-.78 2.05 0 2.83L4 21.41c.39.39.9.59 1.41.59.51 0 1.02-.2 1.41-.59l7.78-7.78 2.81-2.81c.8-.78.8-2.07 0-2.86zM5.41 20L4 18.59l7.72-7.72 1.47 1.35L5.41 20z\"/>\n",
              "  </svg>\n",
              "      </button>\n",
              "      \n",
              "  <style>\n",
              "    .colab-df-container {\n",
              "      display:flex;\n",
              "      flex-wrap:wrap;\n",
              "      gap: 12px;\n",
              "    }\n",
              "\n",
              "    .colab-df-convert {\n",
              "      background-color: #E8F0FE;\n",
              "      border: none;\n",
              "      border-radius: 50%;\n",
              "      cursor: pointer;\n",
              "      display: none;\n",
              "      fill: #1967D2;\n",
              "      height: 32px;\n",
              "      padding: 0 0 0 0;\n",
              "      width: 32px;\n",
              "    }\n",
              "\n",
              "    .colab-df-convert:hover {\n",
              "      background-color: #E2EBFA;\n",
              "      box-shadow: 0px 1px 2px rgba(60, 64, 67, 0.3), 0px 1px 3px 1px rgba(60, 64, 67, 0.15);\n",
              "      fill: #174EA6;\n",
              "    }\n",
              "\n",
              "    [theme=dark] .colab-df-convert {\n",
              "      background-color: #3B4455;\n",
              "      fill: #D2E3FC;\n",
              "    }\n",
              "\n",
              "    [theme=dark] .colab-df-convert:hover {\n",
              "      background-color: #434B5C;\n",
              "      box-shadow: 0px 1px 3px 1px rgba(0, 0, 0, 0.15);\n",
              "      filter: drop-shadow(0px 1px 2px rgba(0, 0, 0, 0.3));\n",
              "      fill: #FFFFFF;\n",
              "    }\n",
              "  </style>\n",
              "\n",
              "      <script>\n",
              "        const buttonEl =\n",
              "          document.querySelector('#df-67b3e87e-3127-4b10-8d08-193624fbcd29 button.colab-df-convert');\n",
              "        buttonEl.style.display =\n",
              "          google.colab.kernel.accessAllowed ? 'block' : 'none';\n",
              "\n",
              "        async function convertToInteractive(key) {\n",
              "          const element = document.querySelector('#df-67b3e87e-3127-4b10-8d08-193624fbcd29');\n",
              "          const dataTable =\n",
              "            await google.colab.kernel.invokeFunction('convertToInteractive',\n",
              "                                                     [key], {});\n",
              "          if (!dataTable) return;\n",
              "\n",
              "          const docLinkHtml = 'Like what you see? Visit the ' +\n",
              "            '<a target=\"_blank\" href=https://colab.research.google.com/notebooks/data_table.ipynb>data table notebook</a>'\n",
              "            + ' to learn more about interactive tables.';\n",
              "          element.innerHTML = '';\n",
              "          dataTable['output_type'] = 'display_data';\n",
              "          await google.colab.output.renderOutput(dataTable, element);\n",
              "          const docLink = document.createElement('div');\n",
              "          docLink.innerHTML = docLinkHtml;\n",
              "          element.appendChild(docLink);\n",
              "        }\n",
              "      </script>\n",
              "    </div>\n",
              "  </div>\n",
              "  "
            ]
          },
          "metadata": {},
          "execution_count": 55
        }
      ]
    },
    {
      "cell_type": "markdown",
      "source": [
        "# 결합코드\n",
        "\n",
        "- EVENT_INDEX_BY_OPTIME이 생성되기 위해서는 EVENT_JOIN_OPTIME 테이블이 선행되어야 한다."
      ],
      "metadata": {
        "id": "7jWwWd-baSbs"
      }
    },
    {
      "cell_type": "code",
      "source": [
        "df=pd.DataFrame({'SHIP_ID/SECTION/OP_INDEX' :OPTIME['KEY'], 'EVENT_INDEX' : np.zeros(10341)})\n",
        "for i in range(len(OPTIME['KEY'])) :\n",
        "  index = EVENT_JOIN_OPTIME.loc[OPTIME['KEY'][i] == EVENT_JOIN_OPTIME['KEY'],'EVENT_INDEX']\n",
        "  index=index.astype(int)\n",
        "  index=index.astype(str)\n",
        "  index=' , '.join(index)\n",
        "  df.iloc[i,1] = index\n",
        "\n",
        "EVENT_INDEX_BY_OPTIME=df"
      ],
      "metadata": {
        "id": "H8bR7-zSaXdf"
      },
      "execution_count": null,
      "outputs": []
    }
  ]
}
