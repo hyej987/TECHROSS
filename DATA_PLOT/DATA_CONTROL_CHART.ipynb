{
  "nbformat": 4,
  "nbformat_minor": 0,
  "metadata": {
    "colab": {
      "name": "DATA_CONTROL_CHART.ipynb",
      "provenance": [],
      "collapsed_sections": [],
      "authorship_tag": "ABX9TyOeA43jL/Fp3zT4nqXr2IU5",
      "include_colab_link": true
    },
    "kernelspec": {
      "name": "python3",
      "display_name": "Python 3"
    },
    "language_info": {
      "name": "python"
    }
  },
  "cells": [
    {
      "cell_type": "markdown",
      "metadata": {
        "id": "view-in-github",
        "colab_type": "text"
      },
      "source": [
        "<a href=\"https://colab.research.google.com/github/hyej987/TECHROSS/blob/master/DATA_PLOT/DATA_CONTROL_CHART.ipynb\" target=\"_parent\"><img src=\"https://colab.research.google.com/assets/colab-badge.svg\" alt=\"Open In Colab\"/></a>"
      ]
    },
    {
      "cell_type": "markdown",
      "source": [
        "# 패키지로딩"
      ],
      "metadata": {
        "id": "RxCXuWbtWtgu"
      }
    },
    {
      "cell_type": "code",
      "execution_count": 1,
      "metadata": {
        "colab": {
          "base_uri": "https://localhost:8080/"
        },
        "id": "oXKdrQ8nY49R",
        "outputId": "2adcecc3-0572-4aaf-b780-8be692a66157"
      },
      "outputs": [
        {
          "output_type": "stream",
          "name": "stdout",
          "text": [
            "Drive already mounted at /content/gdrive; to attempt to forcibly remount, call drive.mount(\"/content/gdrive\", force_remount=True).\n"
          ]
        }
      ],
      "source": [
        "from google.colab import drive\n",
        "drive.mount('/content/gdrive') \n",
        "import numpy as np\n",
        "import pandas as pd\n",
        "import matplotlib.pyplot as plt"
      ]
    },
    {
      "cell_type": "markdown",
      "source": [
        "# 데이터 로딩"
      ],
      "metadata": {
        "id": "Ip3X5Ov9Wvcd"
      }
    },
    {
      "cell_type": "code",
      "source": [
        "DATA=pd.read_csv('/content/gdrive/MyDrive/DB/DATA.csv')\n",
        "OPTIME=pd.read_csv('/content/gdrive/MyDrive/DB/OPTIME.csv')\n",
        "DATA['KEY'] = DATA['SHIP_ID'] + \"_\" + DATA['SECTION'].astype(str) + \"_\" + DATA['OP_INDEX'].astype(str)\n",
        "OPTIME['KEY'] = OPTIME['SHIP_ID'] + \"_\" + OPTIME['SECTION'].astype(str) + \"_\" + OPTIME['OP_INDEX'].astype(str)\n",
        "DATA_JOIN_OPTIME = pd.merge(DATA,OPTIME,how = 'left', on = 'KEY')\n",
        "DATA_JOIN_OPTIME = DATA_JOIN_OPTIME.drop(columns = ['SHIP_ID_y', 'SYSTEM_y', 'OP_INDEX_y','SECTION_y'])\n",
        "DATA_JOIN_OPTIME = DATA_JOIN_OPTIME.drop(columns = ['KEY'])\n",
        "DATA_JOIN_OPTIME=DATA_JOIN_OPTIME.rename(columns = {'OP_INDEX_x' : 'OP_INDEX', 'SHIP_ID_x' : 'SHIP_ID', 'SYSTEM_x' : 'SYSTEM', 'SECTION_x' : 'SECTION'})\n",
        "SHIP_INFO = pd.read_csv('/content/gdrive/MyDrive/DB/SHIPINFO.csv')\n",
        "SHIP_INFO=SHIP_INFO[[\"ship_id\",\"ship_name\"]]\n",
        "SHIP_INFO.rename(columns = {\"ship_id\":\"SHIP_ID\",\"ship_name\":\"SHIP_NAME\"},inplace = True)\n",
        "DATA_JOIN_OPTIME=pd.merge(DATA_JOIN_OPTIME,SHIP_INFO, how = 'left' , on = 'SHIP_ID')\n",
        "DATA_JOIN_OPTIME=DATA_JOIN_OPTIME.dropna(subset = [\"OP_TYPE\"])\n",
        "DATA_JOIN_OPTIME=DATA_JOIN_OPTIME.dropna(subset = [\"LINE\"])\n",
        "DATA_JOIN_OPTIME[\"SECTION\"]=DATA_JOIN_OPTIME[\"SECTION\"].astype(int)\n",
        "DATA_JOIN_OPTIME[\"OP_TYPE\"]=DATA_JOIN_OPTIME[\"OP_TYPE\"].astype(int)\n",
        "DATA_JOIN_OPTIME[\"LINE\"]=DATA_JOIN_OPTIME[\"LINE\"].astype(int)\n",
        "DATA_JOIN_OPTIME=DATA_JOIN_OPTIME.loc[DATA_JOIN_OPTIME['SHIP_ID'] != 'Unknown',:]\n",
        "DATA_JOIN_OPTIME=DATA_JOIN_OPTIME[['SHIP_NAME','SHIP_ID','SECTION','OP_TYPE','LINE','CSU', 'STS', 'FTS', 'FMU', 'TRO', 'ANU', 'RATE', 'CURRENT', 'VOLTAGE','DATA_TIME']]\n",
        "DATA_JOIN_OPTIME[\"KEY\"]=DATA_JOIN_OPTIME['SHIP_ID'] +\"_\" +DATA_JOIN_OPTIME[\"SECTION\"].astype(str) +\"_\"+ DATA_JOIN_OPTIME[\"OP_TYPE\"].astype(str) + \"_\" + DATA_JOIN_OPTIME[\"LINE\"].astype(str)"
      ],
      "metadata": {
        "id": "01hejxoUZwYW"
      },
      "execution_count": 2,
      "outputs": []
    },
    {
      "cell_type": "markdown",
      "source": [
        "# 플랏로딩"
      ],
      "metadata": {
        "id": "FMi7tFMPWxFF"
      }
    },
    {
      "cell_type": "code",
      "source": [
        "list_data = ['CSU', 'STS', 'FTS', 'FMU', 'TRO', 'ANU', 'RATE', 'CURRENT', 'VOLTAGE']\n",
        "data_key = DATA_JOIN_OPTIME['KEY'].unique()\n",
        "for i in range(len(data_key)) : \n",
        "  for j in range(len(list_data)) : \n",
        "    data = DATA_JOIN_OPTIME.loc[(DATA_JOIN_OPTIME[\"KEY\"] == data_key[i]) ,:]\n",
        "    data = data.reset_index().drop(columns = [\"index\"])\n",
        "    data= data.drop_duplicates(subset = [\"DATA_TIME\"])\n",
        "    data=data.reset_index().drop(columns = [\"index\"])\n",
        "    ship_name=data.iloc[0,0]\n",
        "    section=data.iloc[0,2]\n",
        "    op_type=data.iloc[0,3]\n",
        "    line=data.iloc[0,4]\n",
        "    sigma3=data[f'{list_data[j]}'].std() * 3\n",
        "    mean = data[f'{list_data[j]}'].mean()\n",
        "    fig = plt.figure(figsize = (30,8))\n",
        "    ax = fig.subplots()\n",
        "    plt.plot(data[f'{list_data[j]}'], marker = \".\")\n",
        "    plt.xticks(rotation = 90)\n",
        "    plt.axhline(mean - sigma3, color = \"r\")\n",
        "    plt.axhline(mean + sigma3, color = \"r\")\n",
        "    plt.title(f\"{list_data[j]}\"+\"     \"+\"SHIP_NAME : \"+ f\"{ship_name}\"+\"      \"+ \"SECTION :\"+ f\"{section}\"+\"     \" + \"OP_TYPE : \"+ f\"{op_type}\"+ \"     \"+ \"LINE : \"+f\"{line}\"+ \"     \"+ \n",
        "          \"LCL : \" + f\"{np.round(mean-sigma3)}\" +\"     \" +\"UCL : \" + f\"{np.round(mean+sigma3)}\", size = 20)\n",
        "    ax.xaxis.set_ticks([])\n",
        "    plt.savefig(\"/content/gdrive/MyDrive/TECHCROSS 자료파일/수치형 자료분석(lcl,ucl)/DATA/\" + f\"{list_data[j]}\"+\" \"+\"SHIP_NAME : \"+ f\"{ship_name}\"+\" \"+ \"SECTION :\"+ f\"{section}\"+\" \" + \"OP_TYPE : \"+ f\"{op_type}\"+ \" \"+ \"LINE : \"+f\"{line}\", format = 'png')"
      ],
      "metadata": {
        "id": "mbSmy2GCu-5w"
      },
      "execution_count": 4,
      "outputs": []
    }
  ]
}