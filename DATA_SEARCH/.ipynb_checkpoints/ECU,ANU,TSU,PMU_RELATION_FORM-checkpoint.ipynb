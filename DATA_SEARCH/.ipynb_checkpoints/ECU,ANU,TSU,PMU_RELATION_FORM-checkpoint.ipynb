{
  "nbformat": 4,
  "nbformat_minor": 0,
  "metadata": {
    "colab": {
      "name": " 테이블 내부 변수 관계 측정.ipynb",
      "provenance": [],
      "collapsed_sections": [],
      "authorship_tag": "ABX9TyOimSOjBV5Et92mWKYNP9WR",
      "include_colab_link": true
    },
    "kernelspec": {
      "name": "python3",
      "display_name": "Python 3"
    },
    "language_info": {
      "name": "python"
    }
  },
  "cells": [
    {
      "cell_type": "markdown",
      "metadata": {
        "id": "view-in-github",
        "colab_type": "text"
      },
      "source": [
        "<a href=\"https://colab.research.google.com/github/AnnJungChan/TECHCROSS/blob/main/DATA_SEARCH/%ED%85%8C%EC%9D%B4%EB%B8%94_%EB%82%B4%EB%B6%80_%EB%B3%80%EC%88%98_%EA%B4%80%EA%B3%84_%EC%B8%A1%EC%A0%95.ipynb\" target=\"_parent\"><img src=\"https://colab.research.google.com/assets/colab-badge.svg\" alt=\"Open In Colab\"/></a>"
      ]
    },
    {
      "cell_type": "markdown",
      "source": [
        "# ECU, ANU, TSU, PMU 테이블 각각의 내부에 있는 변수간의 관계를 측정하기 위한 형식\n",
        "\n",
        "- SHIP_ID, SECTION, LINE별로 ECU, ANU, TSU, PMU 테이블의 DEVICE_ID가 각각 몇개씩 있는지 측정한 지표입니다.\n",
        "\n",
        "- 이를 기본형식으로, ECU, ANU, TSU, PMU 테이블 내부에 존재하는 각각의 변수에 대해 조사할 예정업니다."
      ],
      "metadata": {
        "id": "EMcy1ajkOqUG"
      }
    },
    {
      "cell_type": "markdown",
      "source": [
        "# 패키지로딩"
      ],
      "metadata": {
        "id": "apbvY7QePA9S"
      }
    },
    {
      "cell_type": "code",
      "execution_count": 1,
      "metadata": {
        "colab": {
          "base_uri": "https://localhost:8080/"
        },
        "id": "pWQhr4SIV_uf",
        "outputId": "a0f16eb6-0529-4149-e9a6-203985fd1721"
      },
      "outputs": [
        {
          "output_type": "stream",
          "name": "stdout",
          "text": [
            "Drive already mounted at /content/gdrive; to attempt to forcibly remount, call drive.mount(\"/content/gdrive\", force_remount=True).\n"
          ]
        }
      ],
      "source": [
        "from google.colab import drive\n",
        "drive.mount('/content/gdrive')\n",
        "import pandas as pd\n",
        "import numpy as np"
      ]
    },
    {
      "cell_type": "markdown",
      "source": [
        "# 파일로딩"
      ],
      "metadata": {
        "id": "9AQvVuCmPCJR"
      }
    },
    {
      "cell_type": "code",
      "source": [
        "OPTIME= pd.read_csv('/content/gdrive/MyDrive/DB/OPTIME.csv')\n",
        "SHIPINFO=pd.read_csv('/content/gdrive/MyDrive/DB/SHIPINFO.csv')\n",
        "DATA_DEVICE_DATA_OPTIME=pd.read_csv(\"/content/gdrive/MyDrive/DB/DATA_DEVICE_DATA_OPTIME.csv\")"
      ],
      "metadata": {
        "id": "l63qWuGcWNV9"
      },
      "execution_count": 2,
      "outputs": []
    },
    {
      "cell_type": "markdown",
      "source": [
        "# SHIPINFO 테이블에서 SHIP_NAME만 가져오기"
      ],
      "metadata": {
        "id": "80gdbUu3PDSX"
      }
    },
    {
      "cell_type": "code",
      "source": [
        "SHIPINFO=SHIPINFO.iloc[:,0:2]\n",
        "SHIPINFO.rename(columns = {'ship_id': 'SHIP_ID', 'ship_name' : 'SHIP_NAME'}, inplace = True)\n",
        "SHIPINFO"
      ],
      "metadata": {
        "id": "rDKD81uEaGqe",
        "colab": {
          "base_uri": "https://localhost:8080/",
          "height": 423
        },
        "outputId": "146314e0-f709-4612-91d9-a2cee4d3d410"
      },
      "execution_count": 3,
      "outputs": [
        {
          "output_type": "execute_result",
          "data": {
            "text/plain": [
              "            SHIP_ID         SHIP_NAME\n",
              "0     T121129-00101      POS SHANGHAI\n",
              "1     T121129-00201           ALBIDDA\n",
              "2     T121129-00301        AL RUMEILA\n",
              "3     T121129-00401          OSHAIRIJ\n",
              "4     T121129-00501      STAR CLIPPER\n",
              "...             ...               ...\n",
              "3486   T20220209005        Kongo Star\n",
              "3487   T20220209006      Pechora Star\n",
              "3488   T20220209007  Mississippi Star\n",
              "3489   T20220209008       Murray Star\n",
              "3490   T20220209009     HACI KEMAL KA\n",
              "\n",
              "[3491 rows x 2 columns]"
            ],
            "text/html": [
              "\n",
              "  <div id=\"df-1edc7bb2-11a0-4af0-b1f4-091491e14335\">\n",
              "    <div class=\"colab-df-container\">\n",
              "      <div>\n",
              "<style scoped>\n",
              "    .dataframe tbody tr th:only-of-type {\n",
              "        vertical-align: middle;\n",
              "    }\n",
              "\n",
              "    .dataframe tbody tr th {\n",
              "        vertical-align: top;\n",
              "    }\n",
              "\n",
              "    .dataframe thead th {\n",
              "        text-align: right;\n",
              "    }\n",
              "</style>\n",
              "<table border=\"1\" class=\"dataframe\">\n",
              "  <thead>\n",
              "    <tr style=\"text-align: right;\">\n",
              "      <th></th>\n",
              "      <th>SHIP_ID</th>\n",
              "      <th>SHIP_NAME</th>\n",
              "    </tr>\n",
              "  </thead>\n",
              "  <tbody>\n",
              "    <tr>\n",
              "      <th>0</th>\n",
              "      <td>T121129-00101</td>\n",
              "      <td>POS SHANGHAI</td>\n",
              "    </tr>\n",
              "    <tr>\n",
              "      <th>1</th>\n",
              "      <td>T121129-00201</td>\n",
              "      <td>ALBIDDA</td>\n",
              "    </tr>\n",
              "    <tr>\n",
              "      <th>2</th>\n",
              "      <td>T121129-00301</td>\n",
              "      <td>AL RUMEILA</td>\n",
              "    </tr>\n",
              "    <tr>\n",
              "      <th>3</th>\n",
              "      <td>T121129-00401</td>\n",
              "      <td>OSHAIRIJ</td>\n",
              "    </tr>\n",
              "    <tr>\n",
              "      <th>4</th>\n",
              "      <td>T121129-00501</td>\n",
              "      <td>STAR CLIPPER</td>\n",
              "    </tr>\n",
              "    <tr>\n",
              "      <th>...</th>\n",
              "      <td>...</td>\n",
              "      <td>...</td>\n",
              "    </tr>\n",
              "    <tr>\n",
              "      <th>3486</th>\n",
              "      <td>T20220209005</td>\n",
              "      <td>Kongo Star</td>\n",
              "    </tr>\n",
              "    <tr>\n",
              "      <th>3487</th>\n",
              "      <td>T20220209006</td>\n",
              "      <td>Pechora Star</td>\n",
              "    </tr>\n",
              "    <tr>\n",
              "      <th>3488</th>\n",
              "      <td>T20220209007</td>\n",
              "      <td>Mississippi Star</td>\n",
              "    </tr>\n",
              "    <tr>\n",
              "      <th>3489</th>\n",
              "      <td>T20220209008</td>\n",
              "      <td>Murray Star</td>\n",
              "    </tr>\n",
              "    <tr>\n",
              "      <th>3490</th>\n",
              "      <td>T20220209009</td>\n",
              "      <td>HACI KEMAL KA</td>\n",
              "    </tr>\n",
              "  </tbody>\n",
              "</table>\n",
              "<p>3491 rows × 2 columns</p>\n",
              "</div>\n",
              "      <button class=\"colab-df-convert\" onclick=\"convertToInteractive('df-1edc7bb2-11a0-4af0-b1f4-091491e14335')\"\n",
              "              title=\"Convert this dataframe to an interactive table.\"\n",
              "              style=\"display:none;\">\n",
              "        \n",
              "  <svg xmlns=\"http://www.w3.org/2000/svg\" height=\"24px\"viewBox=\"0 0 24 24\"\n",
              "       width=\"24px\">\n",
              "    <path d=\"M0 0h24v24H0V0z\" fill=\"none\"/>\n",
              "    <path d=\"M18.56 5.44l.94 2.06.94-2.06 2.06-.94-2.06-.94-.94-2.06-.94 2.06-2.06.94zm-11 1L8.5 8.5l.94-2.06 2.06-.94-2.06-.94L8.5 2.5l-.94 2.06-2.06.94zm10 10l.94 2.06.94-2.06 2.06-.94-2.06-.94-.94-2.06-.94 2.06-2.06.94z\"/><path d=\"M17.41 7.96l-1.37-1.37c-.4-.4-.92-.59-1.43-.59-.52 0-1.04.2-1.43.59L10.3 9.45l-7.72 7.72c-.78.78-.78 2.05 0 2.83L4 21.41c.39.39.9.59 1.41.59.51 0 1.02-.2 1.41-.59l7.78-7.78 2.81-2.81c.8-.78.8-2.07 0-2.86zM5.41 20L4 18.59l7.72-7.72 1.47 1.35L5.41 20z\"/>\n",
              "  </svg>\n",
              "      </button>\n",
              "      \n",
              "  <style>\n",
              "    .colab-df-container {\n",
              "      display:flex;\n",
              "      flex-wrap:wrap;\n",
              "      gap: 12px;\n",
              "    }\n",
              "\n",
              "    .colab-df-convert {\n",
              "      background-color: #E8F0FE;\n",
              "      border: none;\n",
              "      border-radius: 50%;\n",
              "      cursor: pointer;\n",
              "      display: none;\n",
              "      fill: #1967D2;\n",
              "      height: 32px;\n",
              "      padding: 0 0 0 0;\n",
              "      width: 32px;\n",
              "    }\n",
              "\n",
              "    .colab-df-convert:hover {\n",
              "      background-color: #E2EBFA;\n",
              "      box-shadow: 0px 1px 2px rgba(60, 64, 67, 0.3), 0px 1px 3px 1px rgba(60, 64, 67, 0.15);\n",
              "      fill: #174EA6;\n",
              "    }\n",
              "\n",
              "    [theme=dark] .colab-df-convert {\n",
              "      background-color: #3B4455;\n",
              "      fill: #D2E3FC;\n",
              "    }\n",
              "\n",
              "    [theme=dark] .colab-df-convert:hover {\n",
              "      background-color: #434B5C;\n",
              "      box-shadow: 0px 1px 3px 1px rgba(0, 0, 0, 0.15);\n",
              "      filter: drop-shadow(0px 1px 2px rgba(0, 0, 0, 0.3));\n",
              "      fill: #FFFFFF;\n",
              "    }\n",
              "  </style>\n",
              "\n",
              "      <script>\n",
              "        const buttonEl =\n",
              "          document.querySelector('#df-1edc7bb2-11a0-4af0-b1f4-091491e14335 button.colab-df-convert');\n",
              "        buttonEl.style.display =\n",
              "          google.colab.kernel.accessAllowed ? 'block' : 'none';\n",
              "\n",
              "        async function convertToInteractive(key) {\n",
              "          const element = document.querySelector('#df-1edc7bb2-11a0-4af0-b1f4-091491e14335');\n",
              "          const dataTable =\n",
              "            await google.colab.kernel.invokeFunction('convertToInteractive',\n",
              "                                                     [key], {});\n",
              "          if (!dataTable) return;\n",
              "\n",
              "          const docLinkHtml = 'Like what you see? Visit the ' +\n",
              "            '<a target=\"_blank\" href=https://colab.research.google.com/notebooks/data_table.ipynb>data table notebook</a>'\n",
              "            + ' to learn more about interactive tables.';\n",
              "          element.innerHTML = '';\n",
              "          dataTable['output_type'] = 'display_data';\n",
              "          await google.colab.output.renderOutput(dataTable, element);\n",
              "          const docLink = document.createElement('div');\n",
              "          docLink.innerHTML = docLinkHtml;\n",
              "          element.appendChild(docLink);\n",
              "        }\n",
              "      </script>\n",
              "    </div>\n",
              "  </div>\n",
              "  "
            ]
          },
          "metadata": {},
          "execution_count": 3
        }
      ]
    },
    {
      "cell_type": "markdown",
      "source": [
        "# DATA_DEVICE_DATA_OPTIME 테이블에서 SHIP_ID, SECTION, LINE, DEVICETYPE, DEVICE_ID를 가져오고, DEVICE_ID의 갯수를 세기"
      ],
      "metadata": {
        "id": "KocbJ-i8PLpL"
      }
    },
    {
      "cell_type": "code",
      "source": [
        "DEVICE_COUNT=DATA_DEVICE_DATA_OPTIME[['SHIP_ID','SECTION', 'LINE','DEVICETYPE','DEVICE_ID']].drop_duplicates().groupby(['SHIP_ID','SECTION','LINE','DEVICETYPE']).count()\n",
        "DEVICE_COUNT.to_csv(\"DEVICE_COUNT.csv\")\n",
        "DEVICE_COUNT=pd.read_csv(\"DEVICE_COUNT.csv\")\n",
        "DEVICE_COUNT"
      ],
      "metadata": {
        "colab": {
          "base_uri": "https://localhost:8080/",
          "height": 423
        },
        "id": "h7nzu4A_H5Hr",
        "outputId": "384f48c5-44d8-4ac3-9279-e8c5af3f453d"
      },
      "execution_count": 4,
      "outputs": [
        {
          "output_type": "execute_result",
          "data": {
            "text/plain": [
              "           SHIP_ID  SECTION  LINE  DEVICETYPE  DEVICE_ID\n",
              "0    T140110-00206        0   1.0           1          2\n",
              "1    T140110-00206        0   1.0           2          1\n",
              "2    T140110-00206        0   1.0           3          1\n",
              "3    T140110-00206        0   1.0           4          1\n",
              "4    T140110-00206        0   2.0           1          2\n",
              "..             ...      ...   ...         ...        ...\n",
              "296   T20210521011        0   3.0           1          1\n",
              "297   T20210521011        0   3.0           3          1\n",
              "298   T20210521011        0   3.0           4          1\n",
              "299        Unknown        2   2.0           2          1\n",
              "300        Unknown        2   2.0           3          1\n",
              "\n",
              "[301 rows x 5 columns]"
            ],
            "text/html": [
              "\n",
              "  <div id=\"df-cc0ac258-ab85-4a02-86d2-2f2c8a4efc8d\">\n",
              "    <div class=\"colab-df-container\">\n",
              "      <div>\n",
              "<style scoped>\n",
              "    .dataframe tbody tr th:only-of-type {\n",
              "        vertical-align: middle;\n",
              "    }\n",
              "\n",
              "    .dataframe tbody tr th {\n",
              "        vertical-align: top;\n",
              "    }\n",
              "\n",
              "    .dataframe thead th {\n",
              "        text-align: right;\n",
              "    }\n",
              "</style>\n",
              "<table border=\"1\" class=\"dataframe\">\n",
              "  <thead>\n",
              "    <tr style=\"text-align: right;\">\n",
              "      <th></th>\n",
              "      <th>SHIP_ID</th>\n",
              "      <th>SECTION</th>\n",
              "      <th>LINE</th>\n",
              "      <th>DEVICETYPE</th>\n",
              "      <th>DEVICE_ID</th>\n",
              "    </tr>\n",
              "  </thead>\n",
              "  <tbody>\n",
              "    <tr>\n",
              "      <th>0</th>\n",
              "      <td>T140110-00206</td>\n",
              "      <td>0</td>\n",
              "      <td>1.0</td>\n",
              "      <td>1</td>\n",
              "      <td>2</td>\n",
              "    </tr>\n",
              "    <tr>\n",
              "      <th>1</th>\n",
              "      <td>T140110-00206</td>\n",
              "      <td>0</td>\n",
              "      <td>1.0</td>\n",
              "      <td>2</td>\n",
              "      <td>1</td>\n",
              "    </tr>\n",
              "    <tr>\n",
              "      <th>2</th>\n",
              "      <td>T140110-00206</td>\n",
              "      <td>0</td>\n",
              "      <td>1.0</td>\n",
              "      <td>3</td>\n",
              "      <td>1</td>\n",
              "    </tr>\n",
              "    <tr>\n",
              "      <th>3</th>\n",
              "      <td>T140110-00206</td>\n",
              "      <td>0</td>\n",
              "      <td>1.0</td>\n",
              "      <td>4</td>\n",
              "      <td>1</td>\n",
              "    </tr>\n",
              "    <tr>\n",
              "      <th>4</th>\n",
              "      <td>T140110-00206</td>\n",
              "      <td>0</td>\n",
              "      <td>2.0</td>\n",
              "      <td>1</td>\n",
              "      <td>2</td>\n",
              "    </tr>\n",
              "    <tr>\n",
              "      <th>...</th>\n",
              "      <td>...</td>\n",
              "      <td>...</td>\n",
              "      <td>...</td>\n",
              "      <td>...</td>\n",
              "      <td>...</td>\n",
              "    </tr>\n",
              "    <tr>\n",
              "      <th>296</th>\n",
              "      <td>T20210521011</td>\n",
              "      <td>0</td>\n",
              "      <td>3.0</td>\n",
              "      <td>1</td>\n",
              "      <td>1</td>\n",
              "    </tr>\n",
              "    <tr>\n",
              "      <th>297</th>\n",
              "      <td>T20210521011</td>\n",
              "      <td>0</td>\n",
              "      <td>3.0</td>\n",
              "      <td>3</td>\n",
              "      <td>1</td>\n",
              "    </tr>\n",
              "    <tr>\n",
              "      <th>298</th>\n",
              "      <td>T20210521011</td>\n",
              "      <td>0</td>\n",
              "      <td>3.0</td>\n",
              "      <td>4</td>\n",
              "      <td>1</td>\n",
              "    </tr>\n",
              "    <tr>\n",
              "      <th>299</th>\n",
              "      <td>Unknown</td>\n",
              "      <td>2</td>\n",
              "      <td>2.0</td>\n",
              "      <td>2</td>\n",
              "      <td>1</td>\n",
              "    </tr>\n",
              "    <tr>\n",
              "      <th>300</th>\n",
              "      <td>Unknown</td>\n",
              "      <td>2</td>\n",
              "      <td>2.0</td>\n",
              "      <td>3</td>\n",
              "      <td>1</td>\n",
              "    </tr>\n",
              "  </tbody>\n",
              "</table>\n",
              "<p>301 rows × 5 columns</p>\n",
              "</div>\n",
              "      <button class=\"colab-df-convert\" onclick=\"convertToInteractive('df-cc0ac258-ab85-4a02-86d2-2f2c8a4efc8d')\"\n",
              "              title=\"Convert this dataframe to an interactive table.\"\n",
              "              style=\"display:none;\">\n",
              "        \n",
              "  <svg xmlns=\"http://www.w3.org/2000/svg\" height=\"24px\"viewBox=\"0 0 24 24\"\n",
              "       width=\"24px\">\n",
              "    <path d=\"M0 0h24v24H0V0z\" fill=\"none\"/>\n",
              "    <path d=\"M18.56 5.44l.94 2.06.94-2.06 2.06-.94-2.06-.94-.94-2.06-.94 2.06-2.06.94zm-11 1L8.5 8.5l.94-2.06 2.06-.94-2.06-.94L8.5 2.5l-.94 2.06-2.06.94zm10 10l.94 2.06.94-2.06 2.06-.94-2.06-.94-.94-2.06-.94 2.06-2.06.94z\"/><path d=\"M17.41 7.96l-1.37-1.37c-.4-.4-.92-.59-1.43-.59-.52 0-1.04.2-1.43.59L10.3 9.45l-7.72 7.72c-.78.78-.78 2.05 0 2.83L4 21.41c.39.39.9.59 1.41.59.51 0 1.02-.2 1.41-.59l7.78-7.78 2.81-2.81c.8-.78.8-2.07 0-2.86zM5.41 20L4 18.59l7.72-7.72 1.47 1.35L5.41 20z\"/>\n",
              "  </svg>\n",
              "      </button>\n",
              "      \n",
              "  <style>\n",
              "    .colab-df-container {\n",
              "      display:flex;\n",
              "      flex-wrap:wrap;\n",
              "      gap: 12px;\n",
              "    }\n",
              "\n",
              "    .colab-df-convert {\n",
              "      background-color: #E8F0FE;\n",
              "      border: none;\n",
              "      border-radius: 50%;\n",
              "      cursor: pointer;\n",
              "      display: none;\n",
              "      fill: #1967D2;\n",
              "      height: 32px;\n",
              "      padding: 0 0 0 0;\n",
              "      width: 32px;\n",
              "    }\n",
              "\n",
              "    .colab-df-convert:hover {\n",
              "      background-color: #E2EBFA;\n",
              "      box-shadow: 0px 1px 2px rgba(60, 64, 67, 0.3), 0px 1px 3px 1px rgba(60, 64, 67, 0.15);\n",
              "      fill: #174EA6;\n",
              "    }\n",
              "\n",
              "    [theme=dark] .colab-df-convert {\n",
              "      background-color: #3B4455;\n",
              "      fill: #D2E3FC;\n",
              "    }\n",
              "\n",
              "    [theme=dark] .colab-df-convert:hover {\n",
              "      background-color: #434B5C;\n",
              "      box-shadow: 0px 1px 3px 1px rgba(0, 0, 0, 0.15);\n",
              "      filter: drop-shadow(0px 1px 2px rgba(0, 0, 0, 0.3));\n",
              "      fill: #FFFFFF;\n",
              "    }\n",
              "  </style>\n",
              "\n",
              "      <script>\n",
              "        const buttonEl =\n",
              "          document.querySelector('#df-cc0ac258-ab85-4a02-86d2-2f2c8a4efc8d button.colab-df-convert');\n",
              "        buttonEl.style.display =\n",
              "          google.colab.kernel.accessAllowed ? 'block' : 'none';\n",
              "\n",
              "        async function convertToInteractive(key) {\n",
              "          const element = document.querySelector('#df-cc0ac258-ab85-4a02-86d2-2f2c8a4efc8d');\n",
              "          const dataTable =\n",
              "            await google.colab.kernel.invokeFunction('convertToInteractive',\n",
              "                                                     [key], {});\n",
              "          if (!dataTable) return;\n",
              "\n",
              "          const docLinkHtml = 'Like what you see? Visit the ' +\n",
              "            '<a target=\"_blank\" href=https://colab.research.google.com/notebooks/data_table.ipynb>data table notebook</a>'\n",
              "            + ' to learn more about interactive tables.';\n",
              "          element.innerHTML = '';\n",
              "          dataTable['output_type'] = 'display_data';\n",
              "          await google.colab.output.renderOutput(dataTable, element);\n",
              "          const docLink = document.createElement('div');\n",
              "          docLink.innerHTML = docLinkHtml;\n",
              "          element.appendChild(docLink);\n",
              "        }\n",
              "      </script>\n",
              "    </div>\n",
              "  </div>\n",
              "  "
            ]
          },
          "metadata": {},
          "execution_count": 4
        }
      ]
    },
    {
      "cell_type": "markdown",
      "source": [
        "# 기기별로 테이블 분할"
      ],
      "metadata": {
        "id": "bhuYopcbPaun"
      }
    },
    {
      "cell_type": "code",
      "source": [
        "ECU= DEVICE_COUNT.loc[DEVICE_COUNT['DEVICETYPE'] == 1,:]\n",
        "ANU= DEVICE_COUNT.loc[DEVICE_COUNT['DEVICETYPE'] == 2,:]\n",
        "TSU= DEVICE_COUNT.loc[DEVICE_COUNT['DEVICETYPE'] == 3,:]\n",
        "PMU= DEVICE_COUNT.loc[DEVICE_COUNT['DEVICETYPE'] == 4,:]"
      ],
      "metadata": {
        "id": "e6v8HoddMKxd"
      },
      "execution_count": 5,
      "outputs": []
    },
    {
      "cell_type": "markdown",
      "source": [
        "# SHIP_ID 붙여넣기"
      ],
      "metadata": {
        "id": "kCmSuW9fPcwl"
      }
    },
    {
      "cell_type": "code",
      "source": [
        "ECU=pd.merge(ECU,SHIPINFO, how = 'left', on = 'SHIP_ID')\n",
        "ECU=ECU[['SHIP_NAME', 'SHIP_ID', 'SECTION','LINE','DEVICE_ID']]\n",
        "ECU.rename(columns = {'DEVICE_ID': 'DEVICE_QUANTITY'}, inplace = True)\n",
        "\n",
        "ANU=pd.merge(ANU,SHIPINFO, how = 'left', on = 'SHIP_ID')\n",
        "ANU=ANU[['SHIP_NAME', 'SHIP_ID', 'SECTION','LINE','DEVICE_ID']]\n",
        "ANU.rename(columns = {'DEVICE_ID': 'DEVICE_QUANTITY'}, inplace = True)\n",
        "\n",
        "TSU=pd.merge(TSU,SHIPINFO, how = 'left', on = 'SHIP_ID')\n",
        "TSU=TSU[['SHIP_NAME', 'SHIP_ID', 'SECTION','LINE','DEVICE_ID']]\n",
        "TSU.rename(columns = {'DEVICE_ID': 'DEVICE_QUANTITY'}, inplace = True)\n",
        "\n",
        "PMU=pd.merge(PMU,SHIPINFO, how = 'left', on = 'SHIP_ID')\n",
        "PMU=PMU[['SHIP_NAME', 'SHIP_ID', 'SECTION','LINE','DEVICE_ID']]\n",
        "PMU.rename(columns = {'DEVICE_ID': 'DEVICE_QUANTITY'}, inplace = True)"
      ],
      "metadata": {
        "id": "D_tHPttVMpZX"
      },
      "execution_count": 6,
      "outputs": []
    },
    {
      "cell_type": "markdown",
      "source": [
        "# 저장하기"
      ],
      "metadata": {
        "id": "NZQJom4-PymP"
      }
    },
    {
      "cell_type": "code",
      "source": [
        "ECU.to_csv(\"ECU.csv\")\n",
        "ANU.to_csv(\"ANU.csv\")\n",
        "TSU.to_csv(\"TSU.csv\")\n",
        "PMU.to_csv(\"PMU.csv\")"
      ],
      "metadata": {
        "id": "EVehQhZjPz3h"
      },
      "execution_count": 7,
      "outputs": []
    }
  ]
}
