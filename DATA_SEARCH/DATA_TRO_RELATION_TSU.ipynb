{
  "nbformat": 4,
  "nbformat_minor": 0,
  "metadata": {
    "colab": {
      "name": "DATA_TRO_RELATION_TSU.ipynb",
      "provenance": [],
      "collapsed_sections": [],
      "authorship_tag": "ABX9TyPvpVnjIxT2AfmKGotQU1LX",
      "include_colab_link": true
    },
    "kernelspec": {
      "name": "python3",
      "display_name": "Python 3"
    },
    "language_info": {
      "name": "python"
    }
  },
  "cells": [
    {
      "cell_type": "markdown",
      "metadata": {
        "id": "view-in-github",
        "colab_type": "text"
      },
      "source": [
        "<a href=\"https://colab.research.google.com/github/AnnJungChan/TECHCROSS/blob/main/DATA_SEARCH/DATA_TRO_RELATION_TSU.ipynb\" target=\"_parent\"><img src=\"https://colab.research.google.com/assets/colab-badge.svg\" alt=\"Open In Colab\"/></a>"
      ]
    },
    {
      "cell_type": "markdown",
      "source": [
        "# 데이터, 패키지 로딩"
      ],
      "metadata": {
        "id": "Xktp8ZXJgp3j"
      }
    },
    {
      "cell_type": "code",
      "execution_count": null,
      "metadata": {
        "id": "MsCAjOF9I6ID"
      },
      "outputs": [],
      "source": [
        "from google.colab import drive\n",
        "drive.mount('/content/gdrive/')\n",
        "import pandas as pd\n",
        "import numpy as np\n",
        "DATA_DEVICE = pd.read_csv('/content/gdrive/MyDrive/DB/DATA_DEVICE.csv')\n",
        "ANU = pd.read_csv('/content/gdrive/MyDrive/DB/ANU.csv')\n",
        "ECU = pd.read_csv('/content/gdrive/MyDrive/DB/ECU.csv')\n",
        "PMU = pd.read_csv('/content/gdrive/MyDrive/DB/PMU.csv')\n",
        "TSU = pd.read_csv('/content/gdrive/MyDrive/DB/TSU.csv')\n",
        "DATA = pd.read_csv('/content/gdrive/MyDrive/DB/DATA.csv')\n",
        "DATA_DEVICE['DDKEY'] = DATA_DEVICE['SHIP_ID'] + \"_\" + DATA_DEVICE['SECTION'].astype(str) + \"_\" + DATA_DEVICE['D_INDEX'].astype(str) + \"_\" + DATA_DEVICE['DEVICE_ID'].astype(str) + \"_\" +DATA_DEVICE['DEVICETYPE'].astype(str)\n",
        "ECU['DEVICETYPE'] = 1\n",
        "ANU['DEVICETYPE'] = 2\n",
        "TSU['DEVICETYPE'] = 3\n",
        "PMU['DEVICETYPE'] = 4\n",
        "ECU['DDKEY'] = ECU['SHIP_ID'] + \"_\" + ECU['SECTION'].astype(str) + \"_\" + ECU['D_INDEX'].astype(str) + \"_\" + ECU['DEVICE_ID'].astype(str) + \"_\" +ECU['DEVICETYPE'].astype(str)\n",
        "ANU['DDKEY'] = ANU['SHIP_ID'] + \"_\" + ANU['SECTION'].astype(str) + \"_\" + ANU['D_INDEX'].astype(str) + \"_\" + ANU['DEVICE_ID'].astype(str) + \"_\" +ANU['DEVICETYPE'].astype(str)\n",
        "TSU['DDKEY'] = TSU['SHIP_ID'] + \"_\" + TSU['SECTION'].astype(str) + \"_\" + TSU['D_INDEX'].astype(str) + \"_\" + TSU['DEVICE_ID'].astype(str) + \"_\" +TSU['DEVICETYPE'].astype(str)\n",
        "PMU['DDKEY'] = PMU['SHIP_ID'] + \"_\" + PMU['SECTION'].astype(str) + \"_\" + PMU['D_INDEX'].astype(str) + \"_\" + PMU['DEVICE_ID'].astype(str) + \"_\" +PMU['DEVICETYPE'].astype(str)\n",
        "ECU.rename(columns = lambda x: \"ECU_\" + x, inplace = True)\n",
        "ANU.rename(columns = lambda x: \"ANU_\" + x, inplace = True)\n",
        "TSU.rename(columns = lambda x: \"TSU_\" + x, inplace = True)\n",
        "PMU.rename(columns = lambda x: \"PMU_\" + x, inplace = True)\n",
        "ECU.rename(columns = {'ECU_DDKEY' : 'DDKEY'},inplace=True)\n",
        "ANU.rename(columns = {'ANU_DDKEY' : 'DDKEY'},inplace=True)\n",
        "TSU.rename(columns = {'TSU_DDKEY' : 'DDKEY'},inplace=True)\n",
        "PMU.rename(columns = {'PMU_DDKEY' : 'DDKEY'},inplace=True)\n",
        "DDECU=pd.merge(DATA_DEVICE,ECU,how = 'left', on = 'DDKEY')\n",
        "DDANU=pd.merge(DATA_DEVICE,ANU,how = 'left', on = 'DDKEY')\n",
        "DDPMU=pd.merge(DATA_DEVICE,PMU,how = 'left', on = 'DDKEY')\n",
        "DDTSU=pd.merge(DATA_DEVICE,TSU,how = 'left', on = 'DDKEY')\n",
        "DDECU.drop(columns = ['ECU_SHIP_ID','ECU_D_INDEX','ECU_DEVICE_ID','ECU_SYSTEM','ECU_SECTION','ECU_DEVICETYPE'],inplace = True)\n",
        "DDANU.drop(columns = ['ANU_SHIP_ID','ANU_D_INDEX','ANU_DEVICE_ID','ANU_SYSTEM','ANU_SECTION','ANU_DEVICETYPE'],inplace = True)\n",
        "DDPMU.drop(columns = ['PMU_SHIP_ID','PMU_D_INDEX','PMU_DEVICE_ID','PMU_SYSTEM','PMU_SECTION','PMU_DEVICETYPE'],inplace = True)\n",
        "DDTSU.drop(columns = ['TSU_SHIP_ID','TSU_D_INDEX','TSU_DEVICE_ID','TSU_SYSTEM','TSU_SECTION','TSU_DEVICETYPE'],inplace = True)\n",
        "DDANU.drop(columns = ['DATA_INDEX', 'OP_INDEX', 'DEVICETYPE','DEVICE_ID','D_INDEX','SHIP_ID','SYSTEM','SECTION','DDKEY'],inplace = True)\n",
        "DDPMU.drop(columns = ['DATA_INDEX', 'OP_INDEX', 'DEVICETYPE','DEVICE_ID','D_INDEX','SHIP_ID','SYSTEM','SECTION','DDKEY'],inplace = True)\n",
        "DDTSU.drop(columns = ['DATA_INDEX', 'OP_INDEX', 'DEVICETYPE','DEVICE_ID','D_INDEX','SHIP_ID','SYSTEM','SECTION','DDKEY'],inplace = True)\n",
        "DATA_DEVICE_TYPE=pd.concat([DDECU,DDANU,DDTSU,DDPMU],axis = 1)\n",
        "DATA_DEVICE_TYPE.drop(columns = ['DDKEY'],inplace = True)\n",
        "DATA_DEVICE_TYPE['KEY'] = DATA_DEVICE_TYPE['SHIP_ID'] + \"_\" + DATA_DEVICE_TYPE['SECTION'].astype(str) + \"_\" + DATA_DEVICE_TYPE['OP_INDEX'].astype(str) + \"_\" + DATA_DEVICE_TYPE['DATA_INDEX'].astype(str)\n",
        "DATA['KEY'] = DATA['SHIP_ID'] + \"_\" + DATA['SECTION'].astype(str) + \"_\" + DATA['OP_INDEX'].astype(str) + \"_\" + DATA['DATA_INDEX'].astype(str)\n",
        "DATA.drop(columns = ['OP_INDEX','DATA_INDEX','SHIP_ID','SYSTEM', 'SECTION'],inplace = True)\n",
        "DATA_DEVICE_JOIN_DATA=pd.merge(DATA_DEVICE_TYPE,DATA,how = 'left', on = 'KEY')\n",
        "DATA_DEVICE_JOIN_DATA.drop(columns = ['KEY'], inplace = True)\n",
        "OPTIME = pd.read_csv('/content/gdrive/MyDrive/DB/OPTIME.csv')\n",
        "DATA_DEVICE_JOIN_DATA['KEY'] = DATA_DEVICE_JOIN_DATA['SHIP_ID'] + \"_\" + DATA_DEVICE_JOIN_DATA['SECTION'].astype(str) + \"_\" + DATA_DEVICE_JOIN_DATA['OP_INDEX'].astype(str)\n",
        "OPTIME['KEY'] = OPTIME['SHIP_ID'] + \"_\" + OPTIME['SECTION'].astype(str) + \"_\" + OPTIME['OP_INDEX'].astype(str)\n",
        "OPTIME.drop(columns = ['SHIP_ID', 'SECTION', 'OP_INDEX','SYSTEM'], inplace = True)\n",
        "DATA_DEVICE_JOIN_DATA_JOIN_OPTIME=pd.merge(DATA_DEVICE_JOIN_DATA,OPTIME,how = 'left', on = 'KEY')\n",
        "DATA_DEVICE_JOIN_DATA_JOIN_OPTIME.drop(columns = ['KEY'], inplace = True)"
      ]
    },
    {
      "cell_type": "markdown",
      "source": [
        "# TSU 데이터 가공\n",
        "\n",
        "- DEVICETYPE = 3인 TSU데이터를 뽑고,관련된 칼럼을 추출한다."
      ],
      "metadata": {
        "id": "7t1s6f9cgw9F"
      }
    },
    {
      "cell_type": "code",
      "source": [
        "TSU = DATA_DEVICE_JOIN_DATA_JOIN_OPTIME.loc[DATA_DEVICE_JOIN_DATA['DEVICETYPE']==3,:]"
      ],
      "metadata": {
        "id": "NiEZtOWzKHMo"
      },
      "execution_count": null,
      "outputs": []
    },
    {
      "cell_type": "code",
      "source": [
        "TSU=TSU[['DATA_INDEX', 'OP_INDEX', 'DEVICETYPE', 'DEVICE_ID', 'D_INDEX','LINE','OP_TYPE','SHIP_ID', 'SYSTEM', 'SECTION','TSU_STATE', 'TSU_CONTROL', 'TSU_BP1_CLX1', 'TSU_BP1_CLX2',\n",
        "       'TSU_BP2_CLX1', 'TSU_BP2_CLX2', 'TSU_BP3_CLX1', 'TSU_BP3_CLX2','DATA_TIME','TRO']]"
      ],
      "metadata": {
        "id": "9lFHpLy4KXKv"
      },
      "execution_count": null,
      "outputs": []
    },
    {
      "cell_type": "markdown",
      "source": [
        "# 규칙 찾기\n",
        "\n",
        "- BP 센서들을 모두 더한 값이 DATA 테이블의 TRO이다.\n",
        "\n",
        "- 이 때, 규칙과 일치하는 경우는 510968개 규칙이 맞지 않는 경우는 66158개\n",
        "\n",
        "- 규칙이 맞는 경우와 틀린 경우에 대해서 state와 control이 다른지 판단해 본 결과, 관련이 없는 것으로 확인"
      ],
      "metadata": {
        "id": "iV-HYVKKhrls"
      }
    },
    {
      "cell_type": "code",
      "source": [
        "TSU_GROUP = pd.DataFrame(TSU.groupby(['SHIP_ID','SECTION','OP_INDEX','DATA_INDEX','OP_TYPE','LINE']).sum())\n",
        "TSU_GROUP = TSU_GROUP.reset_index()\n",
        "TSU_BP = TSU_GROUP.iloc[:,12:18]\n",
        "TSU_GROUP['TSU_BP']=TSU_BP.sum(1)\n",
        "TSU_GROUP['TRUE/FALSE'] = TSU_GROUP['TRO'] == TSU_GROUP['TSU_BP']\n",
        "\n",
        "print(\"True count :  \", TSU_GROUP['TRUE/FALSE'].sum())\n",
        "print(\"False count : \", len(TSU_GROUP) - TSU_GROUP['TRUE/FALSE'].sum())\n",
        "\n",
        "TSU_GROUP_FALSE = TSU_GROUP.loc[TSU_GROUP['TRUE/FALSE'] == False,:]\n",
        "TSU_GROUP_TRUE = TSU_GROUP.loc[TSU_GROUP['TRUE/FALSE'] == True,:]\n",
        "\n",
        "print(\"True state :\", TSU_GROUP_TRUE['TSU_STATE'].astype(int).unique())\n",
        "print(\"False state :\", TSU_GROUP_FALSE['TSU_STATE'].astype(int).unique())\n",
        "\n",
        "print(\"True control   :\",TSU_GROUP_TRUE['TSU_CONTROL'].unique())\n",
        "print(\"False control  :\",TSU_GROUP_FALSE['TSU_CONTROL'].unique())"
      ],
      "metadata": {
        "colab": {
          "base_uri": "https://localhost:8080/"
        },
        "id": "Eta_E4ZFLeQ4",
        "outputId": "75248631-16e0-4030-fc3e-3eb41d83bfd6"
      },
      "execution_count": null,
      "outputs": [
        {
          "output_type": "stream",
          "name": "stdout",
          "text": [
            "True count :   510968\n",
            "False count :  66158\n",
            "True state : [ -1 934 902 898 938 906 960 811 779 807 775 961 771 773 256 874 842 834\n",
            " 769 870 838   7  -2  14   2   1   4   5]\n",
            "False state : [ 898  938  906  934  902  960 1812  811  779  807  775  771 1844   -1\n",
            "    7   14    3]\n",
            "True control   : [-1.  3.  0.  7.  5.  1. -2.  2.]\n",
            "False control  : [ 3.  0.  7. -1.  1.  2.]\n"
          ]
        }
      ]
    },
    {
      "cell_type": "markdown",
      "source": [
        "# 규칙에 해당하는 값과 해당하지 않는 값의 갯수, 비율을 확인\n"
      ],
      "metadata": {
        "id": "0XiDhOn2nvcz"
      }
    },
    {
      "cell_type": "code",
      "source": [
        "TRUE = pd.DataFrame(TSU_GROUP_TRUE.groupby([\"SHIP_ID\", \"SECTION\", \"LINE\",'OP_TYPE']).count()['TRUE/FALSE']).rename(columns = {'TRUE/FALSE':'TRUE'}).reset_index()\n",
        "FALSE = pd.DataFrame(TSU_GROUP_FALSE.groupby([\"SHIP_ID\", \"SECTION\", \"LINE\",'OP_TYPE']).count()['TRUE/FALSE']).rename(columns = {'TRUE/FALSE':'FALSE'}).reset_index()\n",
        "TRUE['KEY'] = TRUE['SHIP_ID'] + \"_\" + TRUE['SECTION'].astype(str) + \"_\" + TRUE['LINE'].astype(str)+\"_\"+TRUE['OP_TYPE'].astype(str)\n",
        "FALSE['KEY'] = FALSE['SHIP_ID'] + \"_\" + FALSE['SECTION'].astype(str) + \"_\" + FALSE['LINE'].astype(str)+\"_\"+FALSE['OP_TYPE'].astype(str)\n",
        "TF = pd.merge(TRUE,FALSE,how = 'outer', on = 'KEY')\n",
        "TF=TF[['KEY','TRUE','FALSE']]\n",
        "TF['SHIP_ID']=TF['KEY'].str.split(\"_\").str.get(0)\n",
        "TF['SECTION']=TF['KEY'].str.split(\"_\").str.get(1)\n",
        "TF['LINE']=TF['KEY'].str.split(\"_\").str.get(2)\n",
        "TF['OP_TYPE']=TF['KEY'].str.split(\"_\").str.get(3)\n",
        "TF['TRUE']=TF['TRUE'].fillna(0)\n",
        "TF['FALSE']=TF['FALSE'].fillna(0)\n",
        "TF['RATION'] = TF['FALSE'] / (TF['TRUE']+TF['FALSE']) *100"
      ],
      "metadata": {
        "id": "WM6sswrzYB0h"
      },
      "execution_count": null,
      "outputs": []
    },
    {
      "cell_type": "code",
      "source": [
        "#TF"
      ],
      "metadata": {
        "id": "-rt8S97GaUzc"
      },
      "execution_count": null,
      "outputs": []
    },
    {
      "cell_type": "markdown",
      "source": [
        "# 규칙에 벗어나는 값이 5% 이상인 것만 추출"
      ],
      "metadata": {
        "id": "qAYjFqXrp0Pr"
      }
    },
    {
      "cell_type": "code",
      "source": [
        "TF=TF[['SHIP_ID','SECTION','OP_TYPE','LINE','TRUE','FALSE','RATION']]\n",
        "TF_5 = TF.loc[TF['RATION'] > 5,:]"
      ],
      "metadata": {
        "id": "ePSW9VsYauf7"
      },
      "execution_count": null,
      "outputs": []
    },
    {
      "cell_type": "code",
      "source": [
        "#TF_5"
      ],
      "metadata": {
        "id": "kCdKJKhkjhfK"
      },
      "execution_count": null,
      "outputs": []
    },
    {
      "cell_type": "markdown",
      "source": [
        "# 규칙에 벗어나는 5%에 대한 새로운 규칙 찾기"
      ],
      "metadata": {
        "id": "fBPrgVWwp7Nb"
      }
    },
    {
      "cell_type": "markdown",
      "source": [
        "## T141027_00501에 대해서만 규칙 보기\n",
        "\n",
        "- 규칙이 제각각이라 규칙을 찾아도 무의미 할 것이라고 판단함."
      ],
      "metadata": {
        "id": "w5savK65st19"
      }
    },
    {
      "cell_type": "markdown",
      "source": [
        "#### BP1_CLX1 = TRO인가?\n",
        "\n",
        "- 결과적으로 8081개의 관측치가 참으로 나왔고, 나머지는 거짓으로 나왔다."
      ],
      "metadata": {
        "id": "4wScLG0IsxRN"
      }
    },
    {
      "cell_type": "code",
      "source": [
        "T141027_00501=TSU.loc[TSU['SHIP_ID'] == 'T141027-00501',:]\n",
        "print(\"첫번째 값과 TRO가 일치하는 값의 갯수 :\", sum(T141027_00501['TSU_BP1_CLX1'] == T141027_00501['TRO']))\n",
        "print(\"전체 갯수                            :\", len(T141027_00501))\n",
        "print(\"남은 갯수                            :\", 12127-8081)"
      ],
      "metadata": {
        "colab": {
          "base_uri": "https://localhost:8080/"
        },
        "id": "0qkGffbXq8FV",
        "outputId": "aaa223dd-4858-4068-a355-8cff358f6f50"
      },
      "execution_count": null,
      "outputs": [
        {
          "output_type": "stream",
          "name": "stdout",
          "text": [
            "첫번째 값과 TRO가 일치하는 값의 갯수 : 8081\n",
            "전체 갯수                            : 12127\n",
            "남은 갯수                            : 4046\n"
          ]
        }
      ]
    },
    {
      "cell_type": "markdown",
      "source": [
        "#### BP1_CLX1 + BP2_CLX1 = TRO인가?\n",
        "\n",
        "- 결과적으로 3286개의 관측치가 참으로 나왔고, 나머지는 거짓으로 나왔다.\n",
        "- 8081개는 "
      ],
      "metadata": {
        "id": "-eRD5-sLuhpI"
      }
    },
    {
      "cell_type": "code",
      "source": [
        "T141027_00501=T141027_00501[T141027_00501['TSU_BP1_CLX1'] != T141027_00501['TRO']]\n",
        "print(\"첫번째 값과 TRO가 일치하는 값의 갯수 :\", sum(T141027_00501['TSU_BP1_CLX1'] + T141027_00501['TSU_BP2_CLX1'] == T141027_00501['TRO']))\n",
        "print(\"전체 갯수                            :\", len(T141027_00501))\n",
        "print(\"남은 갯수                            :\", 4046-519)"
      ],
      "metadata": {
        "colab": {
          "base_uri": "https://localhost:8080/"
        },
        "id": "P8B3JHsKuD-h",
        "outputId": "526d01c5-25d8-475a-9d04-0ab43fe55b28"
      },
      "execution_count": null,
      "outputs": [
        {
          "output_type": "stream",
          "name": "stdout",
          "text": [
            "첫번째 값과 TRO가 일치하는 값의 갯수 : 519\n",
            "전체 갯수                            : 4046\n",
            "남은 갯수                            : 3527\n"
          ]
        }
      ]
    },
    {
      "cell_type": "markdown",
      "source": [
        "#### BP2_CLX1 = TRO인가?\n",
        "- 결과적으로는 2967개의 관측치가 참으로 나왔고, 나머지가 거짓으로 나옴.\n",
        "- 결측치 4%로써 여기서 규칙찾기를 중단함."
      ],
      "metadata": {
        "id": "J1o7wSPYwT-N"
      }
    },
    {
      "cell_type": "code",
      "source": [
        "T141027_00501=T141027_00501[T141027_00501['TSU_BP1_CLX1'] + T141027_00501['TSU_BP2_CLX1'] != T141027_00501['TRO']]\n",
        "print(\"첫번째 값과 TRO가 일치하는 값의 갯수 :\", sum(T141027_00501['TSU_BP2_CLX1'] == T141027_00501['TRO']))\n",
        "print(\"전체 갯수                            :\", len(T141027_00501))\n",
        "print(\"남은 갯수                            :\", 3527-2967)\n",
        "print(\"결측 비율                            :\", (560/12127)*100)"
      ],
      "metadata": {
        "colab": {
          "base_uri": "https://localhost:8080/"
        },
        "id": "Wvh_IJzevpiE",
        "outputId": "91a3a0b0-bcc8-4c75-d3db-f8e3ecbe47f2"
      },
      "execution_count": null,
      "outputs": [
        {
          "output_type": "stream",
          "name": "stdout",
          "text": [
            "첫번째 값과 TRO가 일치하는 값의 갯수 : 2967\n",
            "전체 갯수                            : 3527\n",
            "남은 갯수                            : 560\n",
            "결측 비율                            : 4.6177950028861225\n"
          ]
        }
      ]
    }
  ]
}