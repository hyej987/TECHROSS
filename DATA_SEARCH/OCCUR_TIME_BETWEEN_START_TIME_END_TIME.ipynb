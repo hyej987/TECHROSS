{
  "nbformat": 4,
  "nbformat_minor": 0,
  "metadata": {
    "colab": {
      "name": "OCCUR_TIME이 START_TIME과 END_TIME 사이에 존재하는가.ipynb",
      "provenance": [],
      "authorship_tag": "ABX9TyNi9AWCaWVixOsHAW5P0HBE",
      "include_colab_link": true
    },
    "kernelspec": {
      "name": "python3",
      "display_name": "Python 3"
    },
    "language_info": {
      "name": "python"
    }
  },
  "cells": [
    {
      "cell_type": "markdown",
      "metadata": {
        "id": "view-in-github",
        "colab_type": "text"
      },
      "source": [
        "<a href=\"https://colab.research.google.com/github/AnnJungChan/TECHCROSS/blob/main/DATA_SEARCH/OCCUR_TIME%EC%9D%B4_START_TIME%EA%B3%BC_END_TIME_%EC%82%AC%EC%9D%B4%EC%97%90_%EC%A1%B4%EC%9E%AC%ED%95%98%EB%8A%94%EA%B0%80.ipynb\" target=\"_parent\"><img src=\"https://colab.research.google.com/assets/colab-badge.svg\" alt=\"Open In Colab\"/></a>"
      ]
    },
    {
      "cell_type": "markdown",
      "source": [
        "# 테이블 결합"
      ],
      "metadata": {
        "id": "DP9kPQ1XOgaG"
      }
    },
    {
      "cell_type": "code",
      "execution_count": 1,
      "metadata": {
        "colab": {
          "base_uri": "https://localhost:8080/",
          "height": 0
        },
        "id": "Ii8ePHrLOFTK",
        "outputId": "8767a00a-a01f-4829-ce81-437f3fac4a25"
      },
      "outputs": [
        {
          "output_type": "stream",
          "name": "stdout",
          "text": [
            "Drive already mounted at /content/gdrive; to attempt to forcibly remount, call drive.mount(\"/content/gdrive\", force_remount=True).\n"
          ]
        }
      ],
      "source": [
        "from google.colab import drive\n",
        "drive.mount('/content/gdrive')\n",
        "import numpy as np\n",
        "import pandas as pd"
      ]
    },
    {
      "cell_type": "code",
      "source": [
        "EVENT = pd.read_csv('/content/gdrive/MyDrive/DB/EVENT.csv')\n",
        "OPTIME = pd.read_csv('/content/gdrive/MyDrive/DB/OPTIME.csv')\n",
        "OPTIME_EVENT = pd.read_csv('/content/gdrive/MyDrive/DB/OPTIME_EVENT.csv')"
      ],
      "metadata": {
        "id": "hOzTQal3ObnX"
      },
      "execution_count": 2,
      "outputs": []
    },
    {
      "cell_type": "code",
      "source": [
        "EVENT = pd.read_csv('/content/gdrive/MyDrive/DB/EVENT.csv')\n",
        "OPTIME = pd.read_csv('/content/gdrive/MyDrive/DB/OPTIME.csv')\n",
        "OPTIME_EVENT = pd.read_csv('/content/gdrive/MyDrive/DB/OPTIME_EVENT.csv')\n",
        "EVENT['SECTION']=EVENT['SECTION'].astype('str')\n",
        "EVENT['EVENT_INDEX'] = EVENT['EVENT_INDEX'].astype('str')\n",
        "OPTIME_EVENT['SECTION']=OPTIME_EVENT['SECTION'].astype('str')\n",
        "OPTIME_EVENT['EVENT_INDEX'] = OPTIME_EVENT['EVENT_INDEX'].astype('str')\n",
        "EVENT['KEY']=EVENT['SHIP_ID']+\"_\"+ EVENT['SECTION']+\"_\"+ EVENT['EVENT_INDEX']\n",
        "OPTIME_EVENT['KEY']=OPTIME_EVENT['SHIP_ID']+\"_\"+ OPTIME_EVENT['SECTION']+\"_\"+ OPTIME_EVENT['EVENT_INDEX']\n",
        "EVENT_JOIN_OPTIME_EVENT = pd.merge(EVENT, OPTIME_EVENT, how = \"inner\", on = \"KEY\")\n",
        "EVENT_JOIN_OPTIME_EVENT.drop(columns = [\"SHIP_ID_x\", \"SYSTEM_x\", \"EVENT_INDEX_x\", \"SECTION_x\"],inplace = True)\n",
        "EVENT_JOIN_OPTIME_EVENT.rename(columns = {'SHIP_ID_y' : 'SHIP_ID', 'EVENT_INDEX_y':'EVENT_INDEX', 'SYSTEM_y' : 'SYSTEM', 'SECTION_y' : 'SECTION'}, inplace = True)\n",
        "EVENT_JOIN_OPTIME_EVENT.drop(columns = [\"KEY\"],inplace = True)\n",
        "EVENT_JOIN_OPTIME_EVENT['KEY'] = EVENT_JOIN_OPTIME_EVENT['SHIP_ID']+\"_\"+  EVENT_JOIN_OPTIME_EVENT['SECTION'].astype('str')+\"_\"+  EVENT_JOIN_OPTIME_EVENT['OP_INDEX'].astype('str')\n",
        "OPTIME['KEY'] = OPTIME['SHIP_ID']+\"_\"+  OPTIME['SECTION'].astype('str')+\"_\"+  OPTIME['OP_INDEX'].astype('str')\n",
        "EVENT_JOIN_OPTIME = pd.merge(EVENT_JOIN_OPTIME_EVENT, OPTIME, how = \"inner\", on = \"KEY\")\n",
        "EVENT_JOIN_OPTIME.drop(columns = [\"SHIP_ID_x\", \"SYSTEM_x\", \"SECTION_x\",'FILE_INDEX_x','OP_INDEX_x'],inplace = True)\n",
        "EVENT_JOIN_OPTIME.rename(columns = {'SHIP_ID_y' : 'SHIP_ID', 'OP_INDEX_y':'OP_INDEX', 'SYSTEM_y' : 'SYSTEM', 'SECTION_y' : 'SECTION', 'FILE_INDEX_y':'FILE_INDEX'}, inplace = True)"
      ],
      "metadata": {
        "id": "nGLVXjywOc8N"
      },
      "execution_count": 3,
      "outputs": []
    },
    {
      "cell_type": "markdown",
      "source": [
        "# 비교"
      ],
      "metadata": {
        "id": "DUPDWiN1Oq94"
      }
    },
    {
      "cell_type": "code",
      "source": [
        "PAIR=EVENT_JOIN_OPTIME[['START_TIME', 'END_TIME','OCCUR_TIME']]\n",
        "PAIR['OCCUR_TIME']=PAIR['OCCUR_TIME'].astype(\"datetime64\")\n",
        "PAIR['START_TIME']=PAIR['START_TIME'].astype(\"datetime64\")\n",
        "PAIR['END_TIME']=PAIR['END_TIME'].astype(\"datetime64\")\n",
        "PAIR['EXIST'] = np.zeros(312793)\n",
        "\n",
        "for i in range(312793) :\n",
        "  PAIR['EXIST'][i] = (PAIR['OCCUR_TIME'][i]>=PAIR['START_TIME'][i]) & (PAIR['OCCUR_TIME'][i]<=PAIR['END_TIME'][i])"
      ],
      "metadata": {
        "colab": {
          "base_uri": "https://localhost:8080/",
          "height": 0
        },
        "id": "GldX1jy2O0NO",
        "outputId": "d796e834-c775-4673-accf-c18cd49617bd"
      },
      "execution_count": 4,
      "outputs": [
        {
          "output_type": "stream",
          "name": "stderr",
          "text": [
            "/usr/local/lib/python3.7/dist-packages/ipykernel_launcher.py:2: SettingWithCopyWarning: \n",
            "A value is trying to be set on a copy of a slice from a DataFrame.\n",
            "Try using .loc[row_indexer,col_indexer] = value instead\n",
            "\n",
            "See the caveats in the documentation: https://pandas.pydata.org/pandas-docs/stable/user_guide/indexing.html#returning-a-view-versus-a-copy\n",
            "  \n",
            "/usr/local/lib/python3.7/dist-packages/ipykernel_launcher.py:3: SettingWithCopyWarning: \n",
            "A value is trying to be set on a copy of a slice from a DataFrame.\n",
            "Try using .loc[row_indexer,col_indexer] = value instead\n",
            "\n",
            "See the caveats in the documentation: https://pandas.pydata.org/pandas-docs/stable/user_guide/indexing.html#returning-a-view-versus-a-copy\n",
            "  This is separate from the ipykernel package so we can avoid doing imports until\n",
            "/usr/local/lib/python3.7/dist-packages/ipykernel_launcher.py:4: SettingWithCopyWarning: \n",
            "A value is trying to be set on a copy of a slice from a DataFrame.\n",
            "Try using .loc[row_indexer,col_indexer] = value instead\n",
            "\n",
            "See the caveats in the documentation: https://pandas.pydata.org/pandas-docs/stable/user_guide/indexing.html#returning-a-view-versus-a-copy\n",
            "  after removing the cwd from sys.path.\n",
            "/usr/local/lib/python3.7/dist-packages/ipykernel_launcher.py:5: SettingWithCopyWarning: \n",
            "A value is trying to be set on a copy of a slice from a DataFrame.\n",
            "Try using .loc[row_indexer,col_indexer] = value instead\n",
            "\n",
            "See the caveats in the documentation: https://pandas.pydata.org/pandas-docs/stable/user_guide/indexing.html#returning-a-view-versus-a-copy\n",
            "  \"\"\"\n",
            "/usr/local/lib/python3.7/dist-packages/ipykernel_launcher.py:8: SettingWithCopyWarning: \n",
            "A value is trying to be set on a copy of a slice from a DataFrame\n",
            "\n",
            "See the caveats in the documentation: https://pandas.pydata.org/pandas-docs/stable/user_guide/indexing.html#returning-a-view-versus-a-copy\n",
            "  \n",
            "/usr/local/lib/python3.7/dist-packages/pandas/core/indexing.py:1732: SettingWithCopyWarning: \n",
            "A value is trying to be set on a copy of a slice from a DataFrame\n",
            "\n",
            "See the caveats in the documentation: https://pandas.pydata.org/pandas-docs/stable/user_guide/indexing.html#returning-a-view-versus-a-copy\n",
            "  self._setitem_single_block(indexer, value, name)\n",
            "/usr/local/lib/python3.7/dist-packages/pandas/core/series.py:1056: SettingWithCopyWarning: \n",
            "A value is trying to be set on a copy of a slice from a DataFrame\n",
            "\n",
            "See the caveats in the documentation: https://pandas.pydata.org/pandas-docs/stable/user_guide/indexing.html#returning-a-view-versus-a-copy\n",
            "  cacher_needs_updating = self._check_is_chained_assignment_possible()\n"
          ]
        }
      ]
    },
    {
      "cell_type": "markdown",
      "source": [
        "START_TIME< OCCUR_TIME < END_TIME 이면 TRUE를 반환하고, 아니면 FALSE를 반환하도록 하였다."
      ],
      "metadata": {
        "id": "otAJNiNFXyNX"
      }
    },
    {
      "cell_type": "code",
      "source": [
        "sum(PAIR['EXIST'])"
      ],
      "metadata": {
        "colab": {
          "base_uri": "https://localhost:8080/",
          "height": 0
        },
        "id": "J6b-SdsCRQvi",
        "outputId": "8feb31f2-ac19-499e-c33c-ef98271a696e"
      },
      "execution_count": 5,
      "outputs": [
        {
          "output_type": "execute_result",
          "data": {
            "text/plain": [
              "312764"
            ]
          },
          "metadata": {},
          "execution_count": 5
        }
      ]
    },
    {
      "cell_type": "markdown",
      "source": [
        "TRUE인 값은 312764개"
      ],
      "metadata": {
        "id": "O2xz8HnkX7oh"
      }
    },
    {
      "cell_type": "code",
      "source": [
        "len(PAIR['EXIST'])"
      ],
      "metadata": {
        "colab": {
          "base_uri": "https://localhost:8080/",
          "height": 0
        },
        "id": "uqeHWBLURob5",
        "outputId": "304a30ad-c85d-4968-b008-84d9d74c6af2"
      },
      "execution_count": 6,
      "outputs": [
        {
          "output_type": "execute_result",
          "data": {
            "text/plain": [
              "312793"
            ]
          },
          "metadata": {},
          "execution_count": 6
        }
      ]
    },
    {
      "cell_type": "markdown",
      "source": [
        "전체의 갯수는 312793개"
      ],
      "metadata": {
        "id": "1MZULw_1X-SE"
      }
    },
    {
      "cell_type": "code",
      "source": [
        "len(PAIR['EXIST'])-sum(PAIR['EXIST'])"
      ],
      "metadata": {
        "colab": {
          "base_uri": "https://localhost:8080/",
          "height": 0
        },
        "id": "cF9Hxi3lRr_O",
        "outputId": "068e24e5-3866-42b7-e3fe-5cca27e76007"
      },
      "execution_count": 7,
      "outputs": [
        {
          "output_type": "execute_result",
          "data": {
            "text/plain": [
              "29"
            ]
          },
          "metadata": {},
          "execution_count": 7
        }
      ]
    },
    {
      "cell_type": "markdown",
      "source": [
        "29개의 OCCUR_TIME이 START_TIME과 END_TIME사이에 위치하지 않았다."
      ],
      "metadata": {
        "id": "peWlVOnBYAz4"
      }
    },
    {
      "cell_type": "code",
      "source": [
        "#PAIR[PAIR['EXIST'] == False]"
      ],
      "metadata": {
        "id": "oBechqAPRyAH"
      },
      "execution_count": 15,
      "outputs": []
    },
    {
      "cell_type": "markdown",
      "source": [
        "일치하지 않는 목록들은 보통 END_TIME 이후에 OCCUR_TIME이 일어난 경우였다."
      ],
      "metadata": {
        "id": "-Ia2aYIbYH4H"
      }
    },
    {
      "cell_type": "code",
      "source": [
        "#PAIR[PAIR['EXIST'] == False]['OCCUR_TIME'] - PAIR[PAIR['EXIST'] == False]['END_TIME']"
      ],
      "metadata": {
        "id": "kxllxkkBYQIs"
      },
      "execution_count": 14,
      "outputs": []
    },
    {
      "cell_type": "code",
      "source": [
        "from IPython.core.pylabtools import figsize\n",
        "data = PAIR[PAIR['EXIST'] == False]['OCCUR_TIME'] - PAIR[PAIR['EXIST'] == False]['END_TIME']\n",
        "pd.DataFrame(np.array(data.astype(int)/1000000000)).value_counts()\n",
        "import matplotlib.pyplot as plt\n",
        "%matplotlib inline\n",
        "plt.figure(figsize = (20,8))\n",
        "plt.bar(['1','2','3','4'],[16,8,3,2])"
      ],
      "metadata": {
        "colab": {
          "base_uri": "https://localhost:8080/",
          "height": 538
        },
        "id": "ppaM4sa8YifS",
        "outputId": "1f61d99d-4fc6-47cb-a706-35a82e0185a7"
      },
      "execution_count": 10,
      "outputs": [
        {
          "output_type": "stream",
          "name": "stderr",
          "text": [
            "/usr/local/lib/python3.7/dist-packages/ipykernel_launcher.py:3: FutureWarning: casting timedelta64[ns] values to int64 with .astype(...) is deprecated and will raise in a future version. Use .view(...) instead.\n",
            "  This is separate from the ipykernel package so we can avoid doing imports until\n"
          ]
        },
        {
          "output_type": "execute_result",
          "data": {
            "text/plain": [
              "<BarContainer object of 4 artists>"
            ]
          },
          "metadata": {},
          "execution_count": 10
        },
        {
          "output_type": "display_data",
          "data": {
            "text/plain": [
              "<Figure size 1440x576 with 1 Axes>"
            ],
            "image/png": "[encoded data removed]"
          },
          "metadata": {
            "needs_background": "light"
          }
        }
      ]
    },
    {
      "cell_type": "markdown",
      "source": [
        "보통 1초의 딜레이가 존재하였고, 제일 딜레이가 큰 시간은 4초였다."
      ],
      "metadata": {
        "id": "VAGF-A3QYbai"
      }
    },
    {
      "cell_type": "code",
      "source": [
        "EVENT_FALSE = EVENT\n",
        "EVENT_FALSE=EVENT_FALSE.loc[EVENT_FALSE['LOG_LEVEL'] == -99999999,:]\n",
        "\n",
        "for i in range(29) :\n",
        "  EVENT_FALSE=EVENT_FALSE.append(EVENT.loc[EVENT['OCCUR_TIME'].astype(\"datetime64\")==PAIR[PAIR['EXIST'] == False]['OCCUR_TIME'].iloc[i],:])"
      ],
      "metadata": {
        "id": "Zb5BcYFuSBb-"
      },
      "execution_count": 11,
      "outputs": []
    },
    {
      "cell_type": "markdown",
      "source": [
        "- 딜레이가 생긴 이유는 장치가 멈추기 전에 END_TIME에 OPERATION이 끝났다고 기록을 했기 때문이다.\n",
        "\n",
        "- 즉, 이러한 29개의 데이터에 대해서는 OCCUR_TIME을 조금 더 뒤로 미뤄주면 된다. 장치를 끄면서 생긴 단순한 문제이다."
      ],
      "metadata": {
        "id": "mrQzlnRWcaYr"
      }
    },
    {
      "cell_type": "code",
      "source": [
        "#EVENT_FALSE"
      ],
      "metadata": {
        "id": "MfRxCG4hdxLV"
      },
      "execution_count": 13,
      "outputs": []
    }
  ]
}
