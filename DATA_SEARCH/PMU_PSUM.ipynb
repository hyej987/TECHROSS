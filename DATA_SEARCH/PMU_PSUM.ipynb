{
  "nbformat": 4,
  "nbformat_minor": 0,
  "metadata": {
    "colab": {
      "name": "PMU_PSUM.ipynb",
      "provenance": [],
      "authorship_tag": "ABX9TyP0oqwVMqeVxJefhYBVzEA5",
      "include_colab_link": true
    },
    "kernelspec": {
      "name": "python3",
      "display_name": "Python 3"
    },
    "language_info": {
      "name": "python"
    }
  },
  "cells": [
    {
      "cell_type": "markdown",
      "metadata": {
        "id": "view-in-github",
        "colab_type": "text"
      },
      "source": [
        "<a href=\"https://colab.research.google.com/github/AnnJungChan/TECHCROSS/blob/main/DATA_SEARCH/PMU_PSUM.ipynb\" target=\"_parent\"><img src=\"https://colab.research.google.com/assets/colab-badge.svg\" alt=\"Open In Colab\"/></a>"
      ]
    },
    {
      "cell_type": "markdown",
      "source": [
        "# 패키지로딩"
      ],
      "metadata": {
        "id": "9Tfejr-ccKdR"
      }
    },
    {
      "cell_type": "code",
      "execution_count": 2,
      "metadata": {
        "id": "8ba25f90N1F7",
        "colab": {
          "base_uri": "https://localhost:8080/"
        },
        "outputId": "c41140fc-191c-40a0-db5d-983789c9274b"
      },
      "outputs": [
        {
          "output_type": "stream",
          "name": "stdout",
          "text": [
            "Mounted at /content/gdrive\n"
          ]
        }
      ],
      "source": [
        "from google.colab import drive\n",
        "drive.mount('/content/gdrive')\n",
        "import numpy as np\n",
        "import pandas as pd\n",
        "import warnings\n",
        "warnings.filterwarnings('ignore')"
      ]
    },
    {
      "cell_type": "markdown",
      "source": [
        "# 데이터로딩"
      ],
      "metadata": {
        "id": "kgRK942jcNzj"
      }
    },
    {
      "cell_type": "code",
      "source": [
        "DATA_DEVICE = pd.read_csv('/content/gdrive/MyDrive/DB/DATA_DEVICE.csv')\n",
        "ANU = pd.read_csv('/content/gdrive/MyDrive/DB/ANU.csv')\n",
        "ECU = pd.read_csv('/content/gdrive/MyDrive/DB/ECU.csv')\n",
        "PMU = pd.read_csv('/content/gdrive/MyDrive/DB/PMU.csv')\n",
        "TSU = pd.read_csv('/content/gdrive/MyDrive/DB/TSU.csv')\n",
        "DATA = pd.read_csv('/content/gdrive/MyDrive/DB/DATA.csv')\n",
        "OPTIME = pd.read_csv('/content/gdrive/MyDrive/DB/OPTIME.csv')\n",
        "DATA_DEVICE['DDKEY'] = DATA_DEVICE['SHIP_ID'] + \"_\" + DATA_DEVICE['SECTION'].astype(str) + \"_\" + DATA_DEVICE['D_INDEX'].astype(str) + \"_\" + DATA_DEVICE['DEVICE_ID'].astype(str) + \"_\" +DATA_DEVICE['DEVICETYPE'].astype(str)\n",
        "ECU['DEVICETYPE'] = 1\n",
        "ANU['DEVICETYPE'] = 2\n",
        "TSU['DEVICETYPE'] = 3\n",
        "PMU['DEVICETYPE'] = 4\n",
        "ECU['DDKEY'] = ECU['SHIP_ID'] + \"_\" + ECU['SECTION'].astype(str) + \"_\" + ECU['D_INDEX'].astype(str) + \"_\" + ECU['DEVICE_ID'].astype(str) + \"_\" +ECU['DEVICETYPE'].astype(str)\n",
        "ANU['DDKEY'] = ANU['SHIP_ID'] + \"_\" + ANU['SECTION'].astype(str) + \"_\" + ANU['D_INDEX'].astype(str) + \"_\" + ANU['DEVICE_ID'].astype(str) + \"_\" +ANU['DEVICETYPE'].astype(str)\n",
        "TSU['DDKEY'] = TSU['SHIP_ID'] + \"_\" + TSU['SECTION'].astype(str) + \"_\" + TSU['D_INDEX'].astype(str) + \"_\" + TSU['DEVICE_ID'].astype(str) + \"_\" +TSU['DEVICETYPE'].astype(str)\n",
        "PMU['DDKEY'] = PMU['SHIP_ID'] + \"_\" + PMU['SECTION'].astype(str) + \"_\" + PMU['D_INDEX'].astype(str) + \"_\" + PMU['DEVICE_ID'].astype(str) + \"_\" +PMU['DEVICETYPE'].astype(str)\n",
        "ECU.rename(columns = lambda x: \"ECU_\" + x, inplace = True)\n",
        "ANU.rename(columns = lambda x: \"ANU_\" + x, inplace = True)\n",
        "TSU.rename(columns = lambda x: \"TSU_\" + x, inplace = True)\n",
        "PMU.rename(columns = lambda x: \"PMU_\" + x, inplace = True)\n",
        "ECU.rename(columns = {'ECU_DDKEY' : 'DDKEY'},inplace=True)\n",
        "ANU.rename(columns = {'ANU_DDKEY' : 'DDKEY'},inplace=True)\n",
        "TSU.rename(columns = {'TSU_DDKEY' : 'DDKEY'},inplace=True)\n",
        "PMU.rename(columns = {'PMU_DDKEY' : 'DDKEY'},inplace=True)\n",
        "DDECU=pd.merge(DATA_DEVICE,ECU,how = 'left', on = 'DDKEY')\n",
        "DDANU=pd.merge(DATA_DEVICE,ANU,how = 'left', on = 'DDKEY')\n",
        "DDPMU=pd.merge(DATA_DEVICE,PMU,how = 'left', on = 'DDKEY')\n",
        "DDTSU=pd.merge(DATA_DEVICE,TSU,how = 'left', on = 'DDKEY')\n",
        "DDECU.drop(columns = ['ECU_SHIP_ID','ECU_D_INDEX','ECU_DEVICE_ID','ECU_SYSTEM','ECU_SECTION','ECU_DEVICETYPE'],inplace = True)\n",
        "DDANU.drop(columns = ['ANU_SHIP_ID','ANU_D_INDEX','ANU_DEVICE_ID','ANU_SYSTEM','ANU_SECTION','ANU_DEVICETYPE'],inplace = True)\n",
        "DDPMU.drop(columns = ['PMU_SHIP_ID','PMU_D_INDEX','PMU_DEVICE_ID','PMU_SYSTEM','PMU_SECTION','PMU_DEVICETYPE'],inplace = True)\n",
        "DDTSU.drop(columns = ['TSU_SHIP_ID','TSU_D_INDEX','TSU_DEVICE_ID','TSU_SYSTEM','TSU_SECTION','TSU_DEVICETYPE'],inplace = True)\n",
        "DDANU.drop(columns = ['DATA_INDEX', 'OP_INDEX', 'DEVICETYPE','DEVICE_ID','D_INDEX','SHIP_ID','SYSTEM','SECTION','DDKEY'],inplace = True)\n",
        "DDPMU.drop(columns = ['DATA_INDEX', 'OP_INDEX', 'DEVICETYPE','DEVICE_ID','D_INDEX','SHIP_ID','SYSTEM','SECTION','DDKEY'],inplace = True)\n",
        "DDTSU.drop(columns = ['DATA_INDEX', 'OP_INDEX', 'DEVICETYPE','DEVICE_ID','D_INDEX','SHIP_ID','SYSTEM','SECTION','DDKEY'],inplace = True)\n",
        "DATA_DEVICE_TYPE=pd.concat([DDECU,DDANU,DDTSU,DDPMU],axis = 1)\n",
        "DATA_DEVICE_TYPE.drop(columns = ['DDKEY'],inplace = True)\n",
        "DATA_DEVICE_TYPE['KEY'] = DATA_DEVICE_TYPE['SHIP_ID'] + \"_\" + DATA_DEVICE_TYPE['SECTION'].astype(str) + \"_\" + DATA_DEVICE_TYPE['OP_INDEX'].astype(str) + \"_\" + DATA_DEVICE_TYPE['DATA_INDEX'].astype(str)\n",
        "DATA['KEY'] = DATA['SHIP_ID'] + \"_\" + DATA['SECTION'].astype(str) + \"_\" + DATA['OP_INDEX'].astype(str) + \"_\" + DATA['DATA_INDEX'].astype(str)\n",
        "DATA.drop(columns = ['OP_INDEX','DATA_INDEX','SHIP_ID','SYSTEM', 'SECTION'],inplace = True)\n",
        "DATA_DEVICE_JOIN_DATA=pd.merge(DATA_DEVICE_TYPE,DATA,how = 'left', on = 'KEY')\n",
        "DATA_DEVICE_JOIN_DATA.drop(columns = ['KEY'], inplace = True)\n",
        "DATA_DEVICE_JOIN_DATA['KEY'] = DATA_DEVICE_JOIN_DATA['SHIP_ID'] + \"_\" + DATA_DEVICE_JOIN_DATA['SECTION'].astype(str) + \"_\" + DATA_DEVICE_JOIN_DATA['OP_INDEX'].astype(str)\n",
        "OPTIME['KEY'] = OPTIME['SHIP_ID'] + \"_\" + OPTIME['SECTION'].astype(str) + \"_\" + OPTIME['OP_INDEX'].astype(str)\n",
        "OPTIME.drop(columns = ['SHIP_ID', 'SECTION', 'OP_INDEX','SYSTEM'], inplace = True)\n",
        "DATA_DEVICE_JOIN_DATA_JOIN_OPTIME=pd.merge(DATA_DEVICE_JOIN_DATA,OPTIME,how = 'left', on = 'KEY')\n",
        "DATA_DEVICE_JOIN_DATA_JOIN_OPTIME.drop(columns = ['KEY'], inplace = True)\n",
        "DATA=DATA_DEVICE_JOIN_DATA_JOIN_OPTIME.loc[DATA_DEVICE_JOIN_DATA_JOIN_OPTIME['DEVICETYPE'] == 4,:]\n",
        "PMU=DATA[['SHIP_ID', 'SECTION','LINE', 'DEVICE_ID', 'OP_INDEX', 'DATA_INDEX', 'D_INDEX','PMU_V1', 'PMU_V2', 'PMU_V3', 'PMU_C1', 'PMU_C2', 'PMU_C3', 'PMU_PSUM']]\n",
        "PMU=PMU.loc[PMU['LINE'].isna() != True,:]"
      ],
      "metadata": {
        "id": "8dQJ3bP0b5Xd"
      },
      "execution_count": 3,
      "outputs": []
    },
    {
      "cell_type": "markdown",
      "source": [
        "# CURRENT, VOLTANGE와 PSUM의 관계\n",
        "\n",
        "- PSUM = V*C*A이므로, PSUM은 V와 C에 상관관계가 있을 것\n",
        "\n",
        "- V는 평균으로 도출하고, C는 평균으로 도출함 (VOLTAGE, CURRENT라고 변수 지정)"
      ],
      "metadata": {
        "id": "QBLTBskzHuzT"
      }
    },
    {
      "cell_type": "markdown",
      "source": [
        "## 공식을 대입하여 일치 관계를 확인"
      ],
      "metadata": {
        "id": "n7tDVNp7M-lE"
      }
    },
    {
      "cell_type": "code",
      "source": [
        "PMU['VOLTAGE'] = np.round((PMU['PMU_V1'] + PMU['PMU_V2'] + PMU['PMU_V3']) / 3,1)\n",
        "PMU['CURRENT'] = np.round((PMU['PMU_C1'] + PMU['PMU_C2'] + PMU['PMU_C3']) /3,1)\n",
        "PMU['FREQUENCY'] = np.round((PMU['PMU_PSUM'] * 1000)/(PMU['VOLTAGE'] * PMU['CURRENT'] * 1.732),0)\n",
        "PMU['FREQUENCY'][PMU['FREQUENCY'].isna()] = 0\n",
        "PMU['FREQUENCY'][PMU['PMU_PSUM'] == -1] = -1\n",
        "print('일치하는 갯수      : ' ,sum(PMU['PMU_PSUM'] == np.round(((PMU['VOLTAGE'] * PMU['CURRENT'] * 1.732) / 1000) * PMU['FREQUENCY'],2)))\n",
        "print('일치하지 않는 갯수 : ' ,sum(PMU['PMU_PSUM'] != np.round(((PMU['VOLTAGE'] * PMU['CURRENT'] * 1.732) / 1000) * PMU['FREQUENCY'],2)) )"
      ],
      "metadata": {
        "colab": {
          "base_uri": "https://localhost:8080/"
        },
        "id": "Em-kP25sJT5b",
        "outputId": "46db183b-96aa-41b0-b951-1f21ee4a742e"
      },
      "execution_count": 48,
      "outputs": [
        {
          "output_type": "stream",
          "name": "stdout",
          "text": [
            "일치하는 갯수      :  24681\n",
            "일치하지 않는 갯수 :  217957\n"
          ]
        }
      ]
    },
    {
      "cell_type": "markdown",
      "source": [
        "일치하는 갯수보다 일치하지 않는 갯수가 더 많다는 것을 알 수 있다. 즉, 이를 가지고 식을 만들 순 없다."
      ],
      "metadata": {
        "id": "PguL4x7fM0AT"
      }
    },
    {
      "cell_type": "markdown",
      "source": [
        "\n",
        "## 상관관계만 파악"
      ],
      "metadata": {
        "id": "1MeSII0HNDIe"
      }
    },
    {
      "cell_type": "code",
      "source": [
        "PMU_OUT = PMU[PMU['PMU_PSUM'] != 0]\n",
        "PMU_OUT = PMU_OUT[PMU_OUT['PMU_PSUM'] != -1]\n",
        "PMU_OUT['VOLTAGE*CURRENT'] = PMU_OUT['VOLTAGE'] * PMU_OUT['CURRENT']\n",
        "PMU_OUT[['VOLTAGE*CURRENT','VOLTAGE','CURRENT','PMU_PSUM']].corr()"
      ],
      "metadata": {
        "colab": {
          "base_uri": "https://localhost:8080/",
          "height": 174
        },
        "id": "7zsNdwpSNFeL",
        "outputId": "4d450bc8-8b42-49c7-9607-4068850a6409"
      },
      "execution_count": 64,
      "outputs": [
        {
          "output_type": "execute_result",
          "data": {
            "text/plain": [
              "                 VOLTAGE*CURRENT   VOLTAGE   CURRENT  PMU_PSUM\n",
              "VOLTAGE*CURRENT         1.000000 -0.300270  0.999122  0.204624\n",
              "VOLTAGE                -0.300270  1.000000 -0.335863  0.086546\n",
              "CURRENT                 0.999122 -0.335863  1.000000  0.207686\n",
              "PMU_PSUM                0.204624  0.086546  0.207686  1.000000"
            ],
            "text/html": [
              "\n",
              "  <div id=\"df-0389274c-2667-43ef-950f-cd02197b0bd9\">\n",
              "    <div class=\"colab-df-container\">\n",
              "      <div>\n",
              "<style scoped>\n",
              "    .dataframe tbody tr th:only-of-type {\n",
              "        vertical-align: middle;\n",
              "    }\n",
              "\n",
              "    .dataframe tbody tr th {\n",
              "        vertical-align: top;\n",
              "    }\n",
              "\n",
              "    .dataframe thead th {\n",
              "        text-align: right;\n",
              "    }\n",
              "</style>\n",
              "<table border=\"1\" class=\"dataframe\">\n",
              "  <thead>\n",
              "    <tr style=\"text-align: right;\">\n",
              "      <th></th>\n",
              "      <th>VOLTAGE*CURRENT</th>\n",
              "      <th>VOLTAGE</th>\n",
              "      <th>CURRENT</th>\n",
              "      <th>PMU_PSUM</th>\n",
              "    </tr>\n",
              "  </thead>\n",
              "  <tbody>\n",
              "    <tr>\n",
              "      <th>VOLTAGE*CURRENT</th>\n",
              "      <td>1.000000</td>\n",
              "      <td>-0.300270</td>\n",
              "      <td>0.999122</td>\n",
              "      <td>0.204624</td>\n",
              "    </tr>\n",
              "    <tr>\n",
              "      <th>VOLTAGE</th>\n",
              "      <td>-0.300270</td>\n",
              "      <td>1.000000</td>\n",
              "      <td>-0.335863</td>\n",
              "      <td>0.086546</td>\n",
              "    </tr>\n",
              "    <tr>\n",
              "      <th>CURRENT</th>\n",
              "      <td>0.999122</td>\n",
              "      <td>-0.335863</td>\n",
              "      <td>1.000000</td>\n",
              "      <td>0.207686</td>\n",
              "    </tr>\n",
              "    <tr>\n",
              "      <th>PMU_PSUM</th>\n",
              "      <td>0.204624</td>\n",
              "      <td>0.086546</td>\n",
              "      <td>0.207686</td>\n",
              "      <td>1.000000</td>\n",
              "    </tr>\n",
              "  </tbody>\n",
              "</table>\n",
              "</div>\n",
              "      <button class=\"colab-df-convert\" onclick=\"convertToInteractive('df-0389274c-2667-43ef-950f-cd02197b0bd9')\"\n",
              "              title=\"Convert this dataframe to an interactive table.\"\n",
              "              style=\"display:none;\">\n",
              "        \n",
              "  <svg xmlns=\"http://www.w3.org/2000/svg\" height=\"24px\"viewBox=\"0 0 24 24\"\n",
              "       width=\"24px\">\n",
              "    <path d=\"M0 0h24v24H0V0z\" fill=\"none\"/>\n",
              "    <path d=\"M18.56 5.44l.94 2.06.94-2.06 2.06-.94-2.06-.94-.94-2.06-.94 2.06-2.06.94zm-11 1L8.5 8.5l.94-2.06 2.06-.94-2.06-.94L8.5 2.5l-.94 2.06-2.06.94zm10 10l.94 2.06.94-2.06 2.06-.94-2.06-.94-.94-2.06-.94 2.06-2.06.94z\"/><path d=\"M17.41 7.96l-1.37-1.37c-.4-.4-.92-.59-1.43-.59-.52 0-1.04.2-1.43.59L10.3 9.45l-7.72 7.72c-.78.78-.78 2.05 0 2.83L4 21.41c.39.39.9.59 1.41.59.51 0 1.02-.2 1.41-.59l7.78-7.78 2.81-2.81c.8-.78.8-2.07 0-2.86zM5.41 20L4 18.59l7.72-7.72 1.47 1.35L5.41 20z\"/>\n",
              "  </svg>\n",
              "      </button>\n",
              "      \n",
              "  <style>\n",
              "    .colab-df-container {\n",
              "      display:flex;\n",
              "      flex-wrap:wrap;\n",
              "      gap: 12px;\n",
              "    }\n",
              "\n",
              "    .colab-df-convert {\n",
              "      background-color: #E8F0FE;\n",
              "      border: none;\n",
              "      border-radius: 50%;\n",
              "      cursor: pointer;\n",
              "      display: none;\n",
              "      fill: #1967D2;\n",
              "      height: 32px;\n",
              "      padding: 0 0 0 0;\n",
              "      width: 32px;\n",
              "    }\n",
              "\n",
              "    .colab-df-convert:hover {\n",
              "      background-color: #E2EBFA;\n",
              "      box-shadow: 0px 1px 2px rgba(60, 64, 67, 0.3), 0px 1px 3px 1px rgba(60, 64, 67, 0.15);\n",
              "      fill: #174EA6;\n",
              "    }\n",
              "\n",
              "    [theme=dark] .colab-df-convert {\n",
              "      background-color: #3B4455;\n",
              "      fill: #D2E3FC;\n",
              "    }\n",
              "\n",
              "    [theme=dark] .colab-df-convert:hover {\n",
              "      background-color: #434B5C;\n",
              "      box-shadow: 0px 1px 3px 1px rgba(0, 0, 0, 0.15);\n",
              "      filter: drop-shadow(0px 1px 2px rgba(0, 0, 0, 0.3));\n",
              "      fill: #FFFFFF;\n",
              "    }\n",
              "  </style>\n",
              "\n",
              "      <script>\n",
              "        const buttonEl =\n",
              "          document.querySelector('#df-0389274c-2667-43ef-950f-cd02197b0bd9 button.colab-df-convert');\n",
              "        buttonEl.style.display =\n",
              "          google.colab.kernel.accessAllowed ? 'block' : 'none';\n",
              "\n",
              "        async function convertToInteractive(key) {\n",
              "          const element = document.querySelector('#df-0389274c-2667-43ef-950f-cd02197b0bd9');\n",
              "          const dataTable =\n",
              "            await google.colab.kernel.invokeFunction('convertToInteractive',\n",
              "                                                     [key], {});\n",
              "          if (!dataTable) return;\n",
              "\n",
              "          const docLinkHtml = 'Like what you see? Visit the ' +\n",
              "            '<a target=\"_blank\" href=https://colab.research.google.com/notebooks/data_table.ipynb>data table notebook</a>'\n",
              "            + ' to learn more about interactive tables.';\n",
              "          element.innerHTML = '';\n",
              "          dataTable['output_type'] = 'display_data';\n",
              "          await google.colab.output.renderOutput(dataTable, element);\n",
              "          const docLink = document.createElement('div');\n",
              "          docLink.innerHTML = docLinkHtml;\n",
              "          element.appendChild(docLink);\n",
              "        }\n",
              "      </script>\n",
              "    </div>\n",
              "  </div>\n",
              "  "
            ]
          },
          "metadata": {},
          "execution_count": 64
        }
      ]
    },
    {
      "cell_type": "markdown",
      "source": [
        "VOLTAGE와 CURRENT의 곱이 PMU_PSUM과 상관관계가 없다는 것이 알려졌다. 즉, 이는 상관관계가 없으므로, VOLTAGE, CURRENT와 독립적으로 움직인다고 볼 수 있다."
      ],
      "metadata": {
        "id": "2qVyeNWPPWoO"
      }
    }
  ]
}