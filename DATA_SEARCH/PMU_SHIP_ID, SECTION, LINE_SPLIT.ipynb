{
  "nbformat": 4,
  "nbformat_minor": 0,
  "metadata": {
    "colab": {
      "name": "PMU_SPLIT.ipynb",
      "provenance": [],
      "collapsed_sections": [],
      "authorship_tag": "ABX9TyOmdsrNfAyZc2NFqrP0F+Po",
      "include_colab_link": true
    },
    "kernelspec": {
      "name": "python3",
      "display_name": "Python 3"
    },
    "language_info": {
      "name": "python"
    }
  },
  "cells": [
    {
      "cell_type": "markdown",
      "metadata": {
        "id": "view-in-github",
        "colab_type": "text"
      },
      "source": [
        "<a href=\"https://colab.research.google.com/github/AnnJungChan/TECHCROSS/blob/main/DATA_SEARCH/PMU%EB%A5%BC%20SHIP_ID%2C%20SECTION%2C%20LINE%EB%B3%84%EB%A1%9C%20%EB%B6%84%EB%A6%AC.ipynb\" target=\"_parent\"><img src=\"https://colab.research.google.com/assets/colab-badge.svg\" alt=\"Open In Colab\"/></a>"
      ]
    },
    {
      "cell_type": "markdown",
      "source": [
        "# PMU 테이블을 SHIP_ID, SECTION, LINE 별로 데이터 SPLIT"
      ],
      "metadata": {
        "id": "7-3FSWzJHOP9"
      }
    },
    {
      "cell_type": "markdown",
      "source": [
        "# 패키지 로딩"
      ],
      "metadata": {
        "id": "5RpIZgruHoEl"
      }
    },
    {
      "cell_type": "code",
      "execution_count": 118,
      "metadata": {
        "colab": {
          "base_uri": "https://localhost:8080/"
        },
        "id": "ma54OhGaHCdz",
        "outputId": "eb85571b-e8fa-4b75-875e-b0ef62f176d2"
      },
      "outputs": [
        {
          "output_type": "stream",
          "name": "stdout",
          "text": [
            "Drive already mounted at /content/gdrive; to attempt to forcibly remount, call drive.mount(\"/content/gdrive\", force_remount=True).\n"
          ]
        }
      ],
      "source": [
        "from google.colab import drive\n",
        "drive.mount('/content/gdrive')\n",
        "import numpy as np\n",
        "import pandas as pd\n",
        "import warnings\n",
        "warnings.filterwarnings('ignore')"
      ]
    },
    {
      "cell_type": "markdown",
      "source": [
        "# 데이터 로딩\n",
        "\n",
        "- DATA_DEVICE 중심으로 DATA, OPTIME을 LEFT JOIN 한 데이터가 필요"
      ],
      "metadata": {
        "id": "KmN1DcYvHt8q"
      }
    },
    {
      "cell_type": "code",
      "source": [
        "DATA_DEVICE = pd.read_csv('/content/gdrive/MyDrive/DB/DATA_DEVICE.csv')\n",
        "ANU = pd.read_csv('/content/gdrive/MyDrive/DB/ANU.csv')\n",
        "ECU = pd.read_csv('/content/gdrive/MyDrive/DB/ECU.csv')\n",
        "PMU = pd.read_csv('/content/gdrive/MyDrive/DB/PMU.csv')\n",
        "TSU = pd.read_csv('/content/gdrive/MyDrive/DB/TSU.csv')\n",
        "DATA = pd.read_csv('/content/gdrive/MyDrive/DB/DATA.csv')\n",
        "OPTIME = pd.read_csv('/content/gdrive/MyDrive/DB/OPTIME.csv')"
      ],
      "metadata": {
        "id": "SAnQ7SkGHvw-"
      },
      "execution_count": 119,
      "outputs": []
    },
    {
      "cell_type": "markdown",
      "source": [
        "# 데이터 병합\n",
        "\n",
        "- 병합한 데이터의 이름은 DATA_DEVICE_JOIN_DATA_JOIN_OPTIME"
      ],
      "metadata": {
        "id": "TxjYATvVH7m6"
      }
    },
    {
      "cell_type": "code",
      "source": [
        "DATA_DEVICE['DDKEY'] = DATA_DEVICE['SHIP_ID'] + \"_\" + DATA_DEVICE['SECTION'].astype(str) + \"_\" + DATA_DEVICE['D_INDEX'].astype(str) + \"_\" + DATA_DEVICE['DEVICE_ID'].astype(str) + \"_\" +DATA_DEVICE['DEVICETYPE'].astype(str)\n",
        "ECU['DEVICETYPE'] = 1\n",
        "ANU['DEVICETYPE'] = 2\n",
        "TSU['DEVICETYPE'] = 3\n",
        "PMU['DEVICETYPE'] = 4\n",
        "ECU['DDKEY'] = ECU['SHIP_ID'] + \"_\" + ECU['SECTION'].astype(str) + \"_\" + ECU['D_INDEX'].astype(str) + \"_\" + ECU['DEVICE_ID'].astype(str) + \"_\" +ECU['DEVICETYPE'].astype(str)\n",
        "ANU['DDKEY'] = ANU['SHIP_ID'] + \"_\" + ANU['SECTION'].astype(str) + \"_\" + ANU['D_INDEX'].astype(str) + \"_\" + ANU['DEVICE_ID'].astype(str) + \"_\" +ANU['DEVICETYPE'].astype(str)\n",
        "TSU['DDKEY'] = TSU['SHIP_ID'] + \"_\" + TSU['SECTION'].astype(str) + \"_\" + TSU['D_INDEX'].astype(str) + \"_\" + TSU['DEVICE_ID'].astype(str) + \"_\" +TSU['DEVICETYPE'].astype(str)\n",
        "PMU['DDKEY'] = PMU['SHIP_ID'] + \"_\" + PMU['SECTION'].astype(str) + \"_\" + PMU['D_INDEX'].astype(str) + \"_\" + PMU['DEVICE_ID'].astype(str) + \"_\" +PMU['DEVICETYPE'].astype(str)\n",
        "ECU.rename(columns = lambda x: \"ECU_\" + x, inplace = True)\n",
        "ANU.rename(columns = lambda x: \"ANU_\" + x, inplace = True)\n",
        "TSU.rename(columns = lambda x: \"TSU_\" + x, inplace = True)\n",
        "PMU.rename(columns = lambda x: \"PMU_\" + x, inplace = True)\n",
        "ECU.rename(columns = {'ECU_DDKEY' : 'DDKEY'},inplace=True)\n",
        "ANU.rename(columns = {'ANU_DDKEY' : 'DDKEY'},inplace=True)\n",
        "TSU.rename(columns = {'TSU_DDKEY' : 'DDKEY'},inplace=True)\n",
        "PMU.rename(columns = {'PMU_DDKEY' : 'DDKEY'},inplace=True)\n",
        "DDECU=pd.merge(DATA_DEVICE,ECU,how = 'left', on = 'DDKEY')\n",
        "DDANU=pd.merge(DATA_DEVICE,ANU,how = 'left', on = 'DDKEY')\n",
        "DDPMU=pd.merge(DATA_DEVICE,PMU,how = 'left', on = 'DDKEY')\n",
        "DDTSU=pd.merge(DATA_DEVICE,TSU,how = 'left', on = 'DDKEY')\n",
        "DDECU.drop(columns = ['ECU_SHIP_ID','ECU_D_INDEX','ECU_DEVICE_ID','ECU_SYSTEM','ECU_SECTION','ECU_DEVICETYPE'],inplace = True)\n",
        "DDANU.drop(columns = ['ANU_SHIP_ID','ANU_D_INDEX','ANU_DEVICE_ID','ANU_SYSTEM','ANU_SECTION','ANU_DEVICETYPE'],inplace = True)\n",
        "DDPMU.drop(columns = ['PMU_SHIP_ID','PMU_D_INDEX','PMU_DEVICE_ID','PMU_SYSTEM','PMU_SECTION','PMU_DEVICETYPE'],inplace = True)\n",
        "DDTSU.drop(columns = ['TSU_SHIP_ID','TSU_D_INDEX','TSU_DEVICE_ID','TSU_SYSTEM','TSU_SECTION','TSU_DEVICETYPE'],inplace = True)\n",
        "DDANU.drop(columns = ['DATA_INDEX', 'OP_INDEX', 'DEVICETYPE','DEVICE_ID','D_INDEX','SHIP_ID','SYSTEM','SECTION','DDKEY'],inplace = True)\n",
        "DDPMU.drop(columns = ['DATA_INDEX', 'OP_INDEX', 'DEVICETYPE','DEVICE_ID','D_INDEX','SHIP_ID','SYSTEM','SECTION','DDKEY'],inplace = True)\n",
        "DDTSU.drop(columns = ['DATA_INDEX', 'OP_INDEX', 'DEVICETYPE','DEVICE_ID','D_INDEX','SHIP_ID','SYSTEM','SECTION','DDKEY'],inplace = True)\n",
        "DATA_DEVICE_TYPE=pd.concat([DDECU,DDANU,DDTSU,DDPMU],axis = 1)\n",
        "DATA_DEVICE_TYPE.drop(columns = ['DDKEY'],inplace = True)\n",
        "DATA_DEVICE_TYPE['KEY'] = DATA_DEVICE_TYPE['SHIP_ID'] + \"_\" + DATA_DEVICE_TYPE['SECTION'].astype(str) + \"_\" + DATA_DEVICE_TYPE['OP_INDEX'].astype(str) + \"_\" + DATA_DEVICE_TYPE['DATA_INDEX'].astype(str)\n",
        "DATA['KEY'] = DATA['SHIP_ID'] + \"_\" + DATA['SECTION'].astype(str) + \"_\" + DATA['OP_INDEX'].astype(str) + \"_\" + DATA['DATA_INDEX'].astype(str)\n",
        "DATA.drop(columns = ['OP_INDEX','DATA_INDEX','SHIP_ID','SYSTEM', 'SECTION'],inplace = True)\n",
        "DATA_DEVICE_JOIN_DATA=pd.merge(DATA_DEVICE_TYPE,DATA,how = 'left', on = 'KEY')\n",
        "DATA_DEVICE_JOIN_DATA.drop(columns = ['KEY'], inplace = True)\n",
        "DATA_DEVICE_JOIN_DATA['KEY'] = DATA_DEVICE_JOIN_DATA['SHIP_ID'] + \"_\" + DATA_DEVICE_JOIN_DATA['SECTION'].astype(str) + \"_\" + DATA_DEVICE_JOIN_DATA['OP_INDEX'].astype(str)\n",
        "OPTIME['KEY'] = OPTIME['SHIP_ID'] + \"_\" + OPTIME['SECTION'].astype(str) + \"_\" + OPTIME['OP_INDEX'].astype(str)\n",
        "OPTIME.drop(columns = ['SHIP_ID', 'SECTION', 'OP_INDEX','SYSTEM'], inplace = True)\n",
        "DATA_DEVICE_JOIN_DATA_JOIN_OPTIME=pd.merge(DATA_DEVICE_JOIN_DATA,OPTIME,how = 'left', on = 'KEY')\n",
        "DATA_DEVICE_JOIN_DATA_JOIN_OPTIME.drop(columns = ['KEY'], inplace = True)"
      ],
      "metadata": {
        "id": "Dc4lNBX4H61r"
      },
      "execution_count": 120,
      "outputs": []
    },
    {
      "cell_type": "markdown",
      "source": [
        "# PMU 테이블만 추출\n",
        "\n",
        "- DEVICETYPE = 4 인 테이블이 PMU 테이블이다.\n",
        "\n",
        "- 열의 정보 또한 PMU에만 해당하는 정보만 담고있어야한다.\n",
        "\n",
        "- 'SHIP_ID', 'SECTION','LINE', 'DEVICE_ID', 'OP_INDEX', 'DATA_INDEX', 'D_INDEX','PMU_V1', 'PMU_V2', 'PMU_V3', 'PMU_C1', 'PMU_C2', 'PMU_C3', 'PMU_PSUM' 열만 존재하면 분석하는데 어려움이 없다."
      ],
      "metadata": {
        "id": "axF5rIEFIctP"
      }
    },
    {
      "cell_type": "code",
      "source": [
        "DATA=DATA_DEVICE_JOIN_DATA_JOIN_OPTIME.loc[DATA_DEVICE_JOIN_DATA_JOIN_OPTIME['DEVICETYPE'] == 4,:]\n",
        "PMU=DATA[['SHIP_ID', 'SECTION','LINE', 'DEVICE_ID', 'OP_INDEX', 'DATA_INDEX', 'D_INDEX','PMU_V1', 'PMU_V2', 'PMU_V3', 'PMU_C1', 'PMU_C2', 'PMU_C3', 'PMU_PSUM']]"
      ],
      "metadata": {
        "id": "ZKYDEBfSJDMM"
      },
      "execution_count": 121,
      "outputs": []
    },
    {
      "cell_type": "markdown",
      "source": [
        "# LINE의 정보가 없는 호선의 경우 데이터에서 제외시킴"
      ],
      "metadata": {
        "id": "6Kp9HP6wXQ2t"
      }
    },
    {
      "cell_type": "code",
      "source": [
        "PMU=PMU.loc[PMU['LINE'].isna() != True,:]"
      ],
      "metadata": {
        "id": "IF07y9nRXU1v"
      },
      "execution_count": 122,
      "outputs": []
    },
    {
      "cell_type": "markdown",
      "source": [
        "# KEY 값 만들기\n",
        "\n",
        "- SHIP_ID, SECTION, LINE으로 키를 만들어준다. \n",
        "\n",
        "- 즉, 테이블을 나눌 기준으로 키를 만들어준다."
      ],
      "metadata": {
        "id": "Fv5hcIzFLG1z"
      }
    },
    {
      "cell_type": "code",
      "source": [
        "PMU['SHIP_ID']=PMU['SHIP_ID'].str.replace(\"-\",\"_\")\n",
        "PMU['KEY'] = PMU['SHIP_ID'] +\"_\"+ PMU['SECTION'].astype(str) + \"_\" + PMU['LINE'].astype(int).astype(str)"
      ],
      "metadata": {
        "id": "zMab-WEFLqiG"
      },
      "execution_count": 144,
      "outputs": []
    },
    {
      "cell_type": "markdown",
      "source": [
        "# KEY_LIST 값 만들기\n",
        "\n",
        "- 유일키에 해당하는 값들을 모아놓은 LIST를 만든다.\n",
        "\n",
        "- 유일키 생성 : unique()\n",
        "\n",
        "- 리스트 생성 : tolist()\n",
        "\n",
        "- 이는 테이블을 SPLIT할 기준이 된다.\n",
        "\n",
        "- replace : 문자열 변환, 이 때 - 가 minus의 의미를 가질 수 있기 때문에 문자열을 변환시켜서 문자로 제대로 인식시켜준다."
      ],
      "metadata": {
        "id": "EB98yT_IL9ok"
      }
    },
    {
      "cell_type": "code",
      "source": [
        "KEY_LIST = PMU['KEY'].unique().tolist()"
      ],
      "metadata": {
        "id": "-Y9I9mNqMbOe"
      },
      "execution_count": 145,
      "outputs": []
    },
    {
      "cell_type": "markdown",
      "source": [
        "# 데이터 SPLIT\n",
        "\n",
        "- PMU['KEY']와 KEY_LIST의 값이 일치하면, KEY_LIST를 기준으로 데이터들이 나뉘어지는 것을 확인할 수 있다.\n",
        "\n",
        "- f-string을 이용하여 리스트에 이름을 붙인다.\n",
        "  - f'{____}'의 형식으로, ___안의 값이 변수취급을 당한다.\n",
        "\n",
        "- 이 때, 테이블 이름은 ship_id, section, line으로 한다.(KEY_LIST)의 값이 테이블 이름\n",
        "\n",
        "- 지역변수로 지정한 후, 테이블을 불러오고, 모두 변수로 지정해준다.\n",
        "  - locals()[변수로 지정할 문자열을 모아놓은 리스트] = 불러올 파일"
      ],
      "metadata": {
        "id": "GGtR9rbbM1gc"
      }
    },
    {
      "cell_type": "code",
      "source": [
        "# 빈 테이블 생성\n",
        "PMU_LIST = []\n",
        "\n",
        "# 테이블 분할\n",
        "for i in range(0,len(KEY_LIST)) :\n",
        "  PMU_LIST.append(PMU.loc[PMU['KEY'] == KEY_LIST[i],:])\n",
        "\n",
        "# 테이블 이름 저장 및 csv 파일로 이동\n",
        "for i in range(0,len(KEY_LIST)) :\n",
        "  PMU_LIST[i].to_csv(f'{KEY_LIST[i]}.csv')\n",
        "\n",
        "# 테이블 불러오기\n",
        "path = '/content/'\n",
        "save = '.csv'\n",
        "for i in range(len(KEY_LIST)) : \n",
        "  locals()[KEY_LIST[i]] = pd.read_csv(path + KEY_LIST[i] + save)"
      ],
      "metadata": {
        "id": "jM4jGFtQNi-I"
      },
      "execution_count": 146,
      "outputs": []
    }
  ]
}
