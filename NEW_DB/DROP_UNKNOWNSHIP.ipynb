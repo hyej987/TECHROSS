{
  "nbformat": 4,
  "nbformat_minor": 0,
  "metadata": {
    "colab": {
      "name": "DROP_UNKNOWNSHIP.ipynb",
      "provenance": [],
      "authorship_tag": "ABX9TyNn6Npw8bIjJLecpqIeSe3C",
      "include_colab_link": true
    },
    "kernelspec": {
      "name": "python3",
      "display_name": "Python 3"
    },
    "language_info": {
      "name": "python"
    }
  },
  "cells": [
    {
      "cell_type": "markdown",
      "metadata": {
        "id": "view-in-github",
        "colab_type": "text"
      },
      "source": [
        "<a href=\"https://colab.research.google.com/github/hyej987/TECHROSS/blob/master/NEW_DB/DROP_UNKNOWNSHIP.ipynb\" target=\"_parent\"><img src=\"https://colab.research.google.com/assets/colab-badge.svg\" alt=\"Open In Colab\"/></a>"
      ]
    },
    {
      "cell_type": "code",
      "execution_count": null,
      "metadata": {
        "colab": {
          "base_uri": "https://localhost:8080/"
        },
        "id": "HKyxhSRr0r-Z",
        "outputId": "2abf6a44-8201-4c3d-8e11-2f2de866dfa6"
      },
      "outputs": [
        {
          "output_type": "stream",
          "name": "stdout",
          "text": [
            "Mounted at /content/gdrive\n"
          ]
        }
      ],
      "source": [
        "from google.colab import drive\n",
        "drive.mount('/content/gdrive')\n",
        "import pandas as pd\n",
        "import numpy as np"
      ]
    },
    {
      "cell_type": "code",
      "source": [
        "DATA = pd.read_csv(\"/content/gdrive/MyDrive/NEW_DB/DATA.csv\")\n",
        "ANU = pd.read_csv(\"/content/gdrive/MyDrive/NEW_DB/ANU.csv\")\n",
        "PMU = pd.read_csv(\"/content/gdrive/MyDrive/NEW_DB/PMU.csv\")\n",
        "TSU = pd.read_csv(\"/content/gdrive/MyDrive/NEW_DB/TSU.csv\")\n",
        "ECU = pd.read_csv(\"/content/gdrive/MyDrive/NEW_DB/ECU.csv\")\n",
        "DATA_DEVICE = pd.read_csv(\"/content/gdrive/MyDrive/NEW_DB/DATA_DEVICE.csv\")"
      ],
      "metadata": {
        "id": "G0eOGs2f0ykn"
      },
      "execution_count": null,
      "outputs": []
    },
    {
      "cell_type": "code",
      "source": [
        "DATA.drop(columns = [\"Unnamed: 0\"], inplace = True)\n",
        "ANU.drop(columns = [\"Unnamed: 0\"], inplace = True)\n",
        "PMU.drop(columns = [\"Unnamed: 0\"], inplace = True)\n",
        "TSU.drop(columns = [\"Unnamed: 0\"], inplace = True)\n",
        "ECU.drop(columns = [\"Unnamed: 0\"], inplace = True)\n",
        "DATA_DEVICE.drop(columns = [\"Unnamed: 0\"], inplace = True)"
      ],
      "metadata": {
        "id": "VVNWFzkF1oKa"
      },
      "execution_count": null,
      "outputs": []
    },
    {
      "cell_type": "code",
      "source": [
        "ANU=ANU.loc[(ANU['SHIP_ID'] != 'UnkownShip') & (ANU['SHIP_ID'] != 'Unknown')]\n",
        "PMU=PMU.loc[(PMU['SHIP_ID'] != 'UnkownShip') & (PMU['SHIP_ID'] != 'Unknown')]\n",
        "TSU=TSU.loc[(TSU['SHIP_ID'] != 'UnkownShip') & (TSU['SHIP_ID'] != 'Unknown')]\n",
        "ECU=ECU.loc[(ECU['SHIP_ID'] != 'UnkownShip') & (ECU['SHIP_ID'] != 'Unknown')]\n",
        "DATA=DATA.loc[(DATA['SHIP_ID'] != 'UnkownShip') & (DATA['SHIP_ID'] != 'Unknown')]\n",
        "DATA_DEVICE=DATA_DEVICE.loc[(DATA_DEVICE['SHIP_ID'] != 'UnkownShip') & (DATA_DEVICE['SHIP_ID'] != 'Unknown')]"
      ],
      "metadata": {
        "id": "BeZ3k7INJEyM"
      },
      "execution_count": null,
      "outputs": []
    },
    {
      "cell_type": "code",
      "source": [
        "ANU.to_csv('/content/gdrive/MyDrive/NEW_DB/ANU.csv')\n",
        "PMU.to_csv('/content/gdrive/MyDrive/NEW_DB/PMU.csv')\n",
        "TSU.to_csv('/content/gdrive/MyDrive/NEW_DB/TSU.csv')\n",
        "ECU.to_csv('/content/gdrive/MyDrive/NEW_DB/ECU.csv')\n",
        "DATA.to_csv('/content/gdrive/MyDrive/NEW_DB/DATA.csv')\n",
        "DATA_DEVICE.to_csv('/content/gdrive/MyDrive/NEW_DB/DATA_DEVICE.csv')"
      ],
      "metadata": {
        "id": "F7ieb2C0K512"
      },
      "execution_count": null,
      "outputs": []
    }
  ]
}