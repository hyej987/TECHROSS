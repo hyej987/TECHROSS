{
  "nbformat": 4,
  "nbformat_minor": 0,
  "metadata": {
    "colab": {
      "name": "New_data_set_maker.ipynb",
      "provenance": [],
      "collapsed_sections": [],
      "authorship_tag": "ABX9TyMdHGeeGcK392oR3/zJrMvW",
      "include_colab_link": true
    },
    "kernelspec": {
      "name": "python3",
      "display_name": "Python 3"
    },
    "language_info": {
      "name": "python"
    }
  },
  "cells": [
    {
      "cell_type": "markdown",
      "metadata": {
        "id": "view-in-github",
        "colab_type": "text"
      },
      "source": [
        "<a href=\"https://colab.research.google.com/github/hyej987/TECHROSS/blob/master/NEW_DB/New_data_set_maker.ipynb\" target=\"_parent\"><img src=\"https://colab.research.google.com/assets/colab-badge.svg\" alt=\"Open In Colab\"/></a>"
      ]
    },
    {
      "cell_type": "markdown",
      "source": [
        "# 패키지로딩"
      ],
      "metadata": {
        "id": "hhqiPV9D84Wg"
      }
    },
    {
      "cell_type": "code",
      "execution_count": null,
      "metadata": {
        "colab": {
          "base_uri": "https://localhost:8080/"
        },
        "id": "BxIjQl-d8r3g",
        "outputId": "064a8837-2b06-4d12-fd2d-2e148f5a976c"
      },
      "outputs": [
        {
          "output_type": "stream",
          "name": "stdout",
          "text": [
            "Drive already mounted at /content/gdrive; to attempt to forcibly remount, call drive.mount(\"/content/gdrive\", force_remount=True).\n"
          ]
        }
      ],
      "source": [
        "from google.colab import drive\n",
        "drive.mount('/content/gdrive')\n",
        "import pandas as pd\n",
        "import numpy as np"
      ]
    },
    {
      "cell_type": "markdown",
      "source": [
        "# 데이터로딩"
      ],
      "metadata": {
        "id": "KdYkCqe289St"
      }
    },
    {
      "cell_type": "code",
      "source": [
        "ANU = pd.read_csv('/content/gdrive/MyDrive/DB/ANU.csv')\n",
        "PMU = pd.read_csv('/content/gdrive/MyDrive/DB/PMU.csv')\n",
        "TSU = pd.read_csv('/content/gdrive/MyDrive/DB/TSU.csv')\n",
        "ECU = pd.read_csv('/content/gdrive/MyDrive/DB/ECU.csv')\n",
        "DATA = pd.read_csv('/content/gdrive/MyDrive/DB/DATA.csv')\n",
        "EVENT = pd.read_csv('/content/gdrive/MyDrive/DB/EVENT.csv')\n",
        "OPTIME = pd.read_csv('/content/gdrive/MyDrive/DB/OPTIME.csv')\n",
        "DATA_DEVICE = pd.read_csv('/content/gdrive/MyDrive/DB/DATA_DEVICE.csv')\n",
        "OPTIME_EVENT = pd.read_csv('/content/gdrive/MyDrive/DB/OPTIME_EVENT.csv')"
      ],
      "metadata": {
        "id": "_FMCLNWE8-3d"
      },
      "execution_count": null,
      "outputs": []
    },
    {
      "cell_type": "code",
      "source": [
        "ECU_COL = ECU.columns\n",
        "ANU_COL = ANU.columns\n",
        "TSU_COL = TSU.columns\n",
        "PMU_COL = PMU.columns"
      ],
      "metadata": {
        "id": "8w2XDyDkhEeT"
      },
      "execution_count": null,
      "outputs": []
    },
    {
      "cell_type": "markdown",
      "source": [
        "# 데이터 품질과 관련된 유의점\n",
        "\n",
        "- 중복 \n",
        " - 데이터 모델은 같은 데이터를 사용하는 사람, 시간, 그리고 장소를 파악하는데 도움을 준다. \\\\\n",
        " - 데이터베이스가 여러 장소에 같은 정보를 저장하는 잘못을 하지 않도록 한다. \\\\ \n",
        " - 테이블 내에 여러 개의 동일한 정보가 저장되어 있으면 안된다.\n",
        "\n",
        "- 비유연성\n",
        " - 데이터 모델을 어떻게 설계했느냐에 따라 사소한 업무 변화에 대해서도 데이터 모델이 수시로 변경된다면, 유지보수의 어려움을 가중시킬 수 있다. \\\\\n",
        " - 새로운 정보가 생기더라도, 기존에 있던 정보는 변하면 안된다.\n",
        "\n",
        "- 비일관성\n",
        " - 데이터의 중복이 없더라도 비일관성이 발생한다.\n",
        " - 데이터 모델링 시, 데이터와 데이터 간 상호 연관 관계에 대한 명확한 정의가 필요하다.\n",
        " - 규칙은 항상 일관적이어야 한다.\n",
        " - 다른 테이블 내에서 작동할 시, 같은 값이 있어야 하며, 일관적인 규칙이 유지되어야 한다."
      ],
      "metadata": {
        "id": "oloFJY5F-AT-"
      }
    },
    {
      "cell_type": "markdown",
      "source": [
        "# DATA_DEVICE와 ANU, PMU, TSU, ECU 간의 비 일관성 발생\n",
        "\n",
        "- DATA_DEVICE 테이블도 1분에 1개씩 기록이 되는 테이블\n",
        "- 4개 DEVICE 테이블 또한 1분에 1개씩 기록이 되고 있음\n",
        "- 두 테이블의 관측치의 갯수가 같아야함. 다르다면, 1분에 1개씩 기록되는 규칙이 어겨지기 때문에, 데이터를 분석 할 때, 일관적이지 않아서 문제가 발생함\n",
        "- DATA_DEVICE 테이블에 없지만 DEVICE 테이블에 있는 정보에 대해서, DEVICE 테이블에 있는 관측치들을 삭제할 필요성이 있음"
      ],
      "metadata": {
        "id": "HDX76WmcDmym"
      }
    },
    {
      "cell_type": "code",
      "source": [
        "origin_col_DATA_DEVICE = DATA_DEVICE.columns"
      ],
      "metadata": {
        "id": "w8mH9ffnEoFX"
      },
      "execution_count": null,
      "outputs": []
    },
    {
      "cell_type": "code",
      "source": [
        "DATA_DEVICE['KEY'] = DATA_DEVICE['SHIP_ID'] + \"_\" + DATA_DEVICE['SECTION'].astype(str) + \"_\" + DATA_DEVICE['DEVICE_ID'].astype(str) + \"_\" +DATA_DEVICE['D_INDEX'].astype(str)"
      ],
      "metadata": {
        "id": "VFEPzybtE1k3"
      },
      "execution_count": null,
      "outputs": []
    },
    {
      "cell_type": "code",
      "source": [
        "ECUDD=DATA_DEVICE[DATA_DEVICE['DEVICETYPE'] == 1]"
      ],
      "metadata": {
        "id": "USW5Z9c8HNVq"
      },
      "execution_count": null,
      "outputs": []
    },
    {
      "cell_type": "code",
      "source": [
        "ANUDD=DATA_DEVICE[DATA_DEVICE['DEVICETYPE'] == 2]"
      ],
      "metadata": {
        "id": "KTHCR8eKHWmf"
      },
      "execution_count": null,
      "outputs": []
    },
    {
      "cell_type": "code",
      "source": [
        "TSUDD=DATA_DEVICE[DATA_DEVICE['DEVICETYPE'] == 3]"
      ],
      "metadata": {
        "id": "6AQnM1dUHWdn"
      },
      "execution_count": null,
      "outputs": []
    },
    {
      "cell_type": "code",
      "source": [
        "PMUDD=DATA_DEVICE[DATA_DEVICE['DEVICETYPE'] == 4]"
      ],
      "metadata": {
        "id": "ASZ2u_z4HWXI"
      },
      "execution_count": null,
      "outputs": []
    },
    {
      "cell_type": "code",
      "source": [
        "ANU['KEY'] = ANU['SHIP_ID'] + \"_\" + ANU['SECTION'].astype(str) + \"_\" + ANU['DEVICE_ID'].astype(str) + \"_\" +ANU['D_INDEX'].astype(str)"
      ],
      "metadata": {
        "id": "c7hHld15F584"
      },
      "execution_count": null,
      "outputs": []
    },
    {
      "cell_type": "code",
      "source": [
        "TSU['KEY'] = TSU['SHIP_ID'] + \"_\" + TSU['SECTION'].astype(str) + \"_\" + TSU['DEVICE_ID'].astype(str) + \"_\" +TSU['D_INDEX'].astype(str)"
      ],
      "metadata": {
        "id": "6iOU8_ZVF53G"
      },
      "execution_count": null,
      "outputs": []
    },
    {
      "cell_type": "code",
      "source": [
        "PMU['KEY'] = PMU['SHIP_ID'] + \"_\" + PMU['SECTION'].astype(str) + \"_\" + PMU['DEVICE_ID'].astype(str) + \"_\" +PMU['D_INDEX'].astype(str)"
      ],
      "metadata": {
        "id": "mt2-tYU4F5xx"
      },
      "execution_count": null,
      "outputs": []
    },
    {
      "cell_type": "code",
      "source": [
        "ECU['KEY'] = ECU['SHIP_ID'] + \"_\" + ECU['SECTION'].astype(str) + \"_\" + ECU['DEVICE_ID'].astype(str) + \"_\" +ECU['D_INDEX'].astype(str)"
      ],
      "metadata": {
        "id": "4sl-u0V7F5g3"
      },
      "execution_count": null,
      "outputs": []
    },
    {
      "cell_type": "markdown",
      "source": [
        "## ECU 테이블에서 비일관성을 띄는 관측치들"
      ],
      "metadata": {
        "id": "ywVxf7z6IRRQ"
      }
    },
    {
      "cell_type": "code",
      "source": [
        "mer_DATA_DEVICE_ECU=pd.merge(ECU,ECUDD, how = 'left' , on = 'KEY')"
      ],
      "metadata": {
        "id": "R063WAqPIGjK"
      },
      "execution_count": null,
      "outputs": []
    },
    {
      "cell_type": "code",
      "source": [
        "mer_DATA_DEVICE_ECU[mer_DATA_DEVICE_ECU['SHIP_ID_y'].isna()]"
      ],
      "metadata": {
        "id": "wl1WpCq1IHrq"
      },
      "execution_count": null,
      "outputs": []
    },
    {
      "cell_type": "markdown",
      "source": [
        "## ANU 테이블에서 비일관성을 띄는 관측치들"
      ],
      "metadata": {
        "id": "jIST323VIekr"
      }
    },
    {
      "cell_type": "code",
      "source": [
        "mer_DATA_DEVICE_ANU=pd.merge(ANU,ANUDD, how = 'left' , on = 'KEY')"
      ],
      "metadata": {
        "id": "Jx4JmV2VFph4"
      },
      "execution_count": null,
      "outputs": []
    },
    {
      "cell_type": "code",
      "source": [
        "mer_DATA_DEVICE_ANU[mer_DATA_DEVICE_ANU['SHIP_ID_y'].isna()]"
      ],
      "metadata": {
        "id": "EFoG4GFFGU7y"
      },
      "execution_count": null,
      "outputs": []
    },
    {
      "cell_type": "markdown",
      "source": [
        "## TSU 테이블에서 비일관성을 띄는 관측치들"
      ],
      "metadata": {
        "id": "yzrbo80oIg7b"
      }
    },
    {
      "cell_type": "code",
      "source": [
        "mer_DATA_DEVICE_TSU=pd.merge(TSU,TSUDD, how = 'left' , on = 'KEY')"
      ],
      "metadata": {
        "id": "LZgb4OkpIj6z"
      },
      "execution_count": null,
      "outputs": []
    },
    {
      "cell_type": "code",
      "source": [
        "mer_DATA_DEVICE_TSU[mer_DATA_DEVICE_TSU['SHIP_ID_y'].isna()]"
      ],
      "metadata": {
        "id": "UBSGXtPxIlKZ"
      },
      "execution_count": null,
      "outputs": []
    },
    {
      "cell_type": "markdown",
      "source": [
        "## PMU 테이블에서 비일관성을 띄는 관측치들"
      ],
      "metadata": {
        "id": "oZXkuYS4IrN_"
      }
    },
    {
      "cell_type": "code",
      "source": [
        "mer_DATA_DEVICE_PMU=pd.merge(PMU,PMUDD, how = 'left' , on = 'KEY')"
      ],
      "metadata": {
        "id": "FvgOsvRlIuHy"
      },
      "execution_count": null,
      "outputs": []
    },
    {
      "cell_type": "code",
      "source": [
        "mer_DATA_DEVICE_PMU[mer_DATA_DEVICE_PMU['SHIP_ID_y'].isna()]"
      ],
      "metadata": {
        "id": "cBz0QxlmIt1X"
      },
      "execution_count": null,
      "outputs": []
    },
    {
      "cell_type": "markdown",
      "source": [
        "- 현재, ANU 테이블을 제외한 테이블에서 모두 비일관성이 발생한다는 사실을 알 수 있다.\n",
        "- DATA_DEVICE에는 존재하지 않지만, DEVICE 테이블에는 존재하는 데이터들이 있다는 것을 확인할 수 있다.\n",
        "- 이러한 비일관성이 발생하는 관측치에 대해서 모두 제거해준다."
      ],
      "metadata": {
        "id": "XElhUR1pI4XE"
      }
    },
    {
      "cell_type": "code",
      "source": [
        "ECU_DROP_KEY = mer_DATA_DEVICE_ECU[mer_DATA_DEVICE_ECU['SHIP_ID_y'].isna()]['KEY']\n",
        "ANU_DROP_KEY = mer_DATA_DEVICE_ANU[mer_DATA_DEVICE_ANU['SHIP_ID_y'].isna()]['KEY']\n",
        "TSU_DROP_KEY = mer_DATA_DEVICE_TSU[mer_DATA_DEVICE_TSU['SHIP_ID_y'].isna()]['KEY']\n",
        "PMU_DROP_KEY = mer_DATA_DEVICE_PMU[mer_DATA_DEVICE_PMU['SHIP_ID_y'].isna()]['KEY']\n",
        "ECU_DROP_KEY=ECU_DROP_KEY.to_list()\n",
        "ANU_DROP_KEY=ANU_DROP_KEY.to_list()\n",
        "TSU_DROP_KEY=TSU_DROP_KEY.to_list()\n",
        "PMU_DROP_KEY=PMU_DROP_KEY.to_list()"
      ],
      "metadata": {
        "id": "Dp16Nd-tJVdR"
      },
      "execution_count": null,
      "outputs": []
    },
    {
      "cell_type": "code",
      "source": [
        "ECU.index = ECU['KEY']\n",
        "ANU.index = ANU['KEY']\n",
        "TSU.index = TSU['KEY']\n",
        "PMU.index = PMU['KEY']"
      ],
      "metadata": {
        "id": "W7zVQf3tSFlh"
      },
      "execution_count": null,
      "outputs": []
    },
    {
      "cell_type": "code",
      "source": [
        "print(\"원래 갯수 : \" , len(ECU))\n",
        "print(\"처리 후 갯수 : \" , len(ECU.drop(ECU_DROP_KEY)))"
      ],
      "metadata": {
        "colab": {
          "base_uri": "https://localhost:8080/"
        },
        "id": "9wBl3AIcQpFI",
        "outputId": "7e623a3f-775e-42bb-dddd-17ddd1c733f8"
      },
      "execution_count": null,
      "outputs": [
        {
          "output_type": "stream",
          "name": "stdout",
          "text": [
            "원래 갯수 :  620535\n",
            "처리 후 갯수 :  620478\n"
          ]
        }
      ]
    },
    {
      "cell_type": "code",
      "source": [
        "print(\"원래 갯수 : \" , len(ANU))\n",
        "print(\"처리 후 갯수 : \" , len(ANU.drop(ANU_DROP_KEY)))"
      ],
      "metadata": {
        "colab": {
          "base_uri": "https://localhost:8080/"
        },
        "id": "eRAKXLj-TxBe",
        "outputId": "11b458ef-a7ce-424f-f76b-53d0e1fdd049"
      },
      "execution_count": null,
      "outputs": [
        {
          "output_type": "stream",
          "name": "stdout",
          "text": [
            "원래 갯수 :  688342\n",
            "처리 후 갯수 :  688342\n"
          ]
        }
      ]
    },
    {
      "cell_type": "code",
      "source": [
        "print(\"원래 갯수 : \" , len(TSU))\n",
        "print(\"처리 후 갯수 : \" , len(TSU.drop(TSU_DROP_KEY)))"
      ],
      "metadata": {
        "colab": {
          "base_uri": "https://localhost:8080/"
        },
        "id": "X0oSr8kqTw6L",
        "outputId": "21a317fc-c105-40d9-dd5b-a2d91d39e723"
      },
      "execution_count": null,
      "outputs": [
        {
          "output_type": "stream",
          "name": "stdout",
          "text": [
            "원래 갯수 :  583186\n",
            "처리 후 갯수 :  583166\n"
          ]
        }
      ]
    },
    {
      "cell_type": "code",
      "source": [
        "print(\"원래 갯수 : \" , len(PMU))\n",
        "print(\"처리 후 갯수 : \" , len(PMU.drop(PMU_DROP_KEY)))"
      ],
      "metadata": {
        "colab": {
          "base_uri": "https://localhost:8080/"
        },
        "id": "HRP1dCDpTwfz",
        "outputId": "94a4c406-fc0d-4cf1-95f0-54608a9b33ee"
      },
      "execution_count": null,
      "outputs": [
        {
          "output_type": "stream",
          "name": "stdout",
          "text": [
            "원래 갯수 :  242766\n",
            "처리 후 갯수 :  242670\n"
          ]
        }
      ]
    },
    {
      "cell_type": "code",
      "source": [
        "ECU = ECU.drop(ECU_DROP_KEY)\n",
        "ECU.drop(columns = ['KEY'], inplace  = True)\n",
        "ECU=ECU.reset_index()\n",
        "ECU = ECU.drop(columns = ['KEY'])\n",
        "ECU"
      ],
      "metadata": {
        "id": "5uzrFE5lQbXp"
      },
      "execution_count": null,
      "outputs": []
    },
    {
      "cell_type": "code",
      "source": [
        "ANU = ANU.drop(ANU_DROP_KEY)\n",
        "ANU.drop(columns = ['KEY'], inplace  = True)\n",
        "ANU=ANU.reset_index()\n",
        "ANU = ANU.drop(columns = ['KEY'])\n",
        "ANU"
      ],
      "metadata": {
        "id": "TDBnykvFUuj6"
      },
      "execution_count": null,
      "outputs": []
    },
    {
      "cell_type": "code",
      "source": [
        "TSU = TSU.drop(TSU_DROP_KEY)\n",
        "TSU.drop(columns = ['KEY'], inplace  = True)\n",
        "TSU=TSU.reset_index()\n",
        "TSU = TSU.drop(columns = ['KEY'])\n",
        "TSU"
      ],
      "metadata": {
        "id": "tyhOt0fUUycw"
      },
      "execution_count": null,
      "outputs": []
    },
    {
      "cell_type": "code",
      "source": [
        "PMU = PMU.drop(PMU_DROP_KEY)\n",
        "PMU.drop(columns = ['KEY'], inplace  = True)\n",
        "PMU=PMU.reset_index()\n",
        "PMU = PMU.drop(columns = ['KEY'])\n",
        "PMU"
      ],
      "metadata": {
        "id": "I76OzA65U2dg"
      },
      "execution_count": null,
      "outputs": []
    },
    {
      "cell_type": "markdown",
      "source": [
        "# DATA 테이블의 정보 중복\n",
        "\n",
        "- 모든 값이 다 일치하지만, DATA_INDEX만 다른 경우가 존재한다.\n",
        "- 데이터는 1분마다 1개씩 수집되는 데이터 이기 때문에, 동일한 선박의 섹션에서 데이터가 수집될 시, 같은 분단위에서 데이터가 수집될 수 없다.\n",
        "- 이러한 중복값들을 모두 제거해야 한다."
      ],
      "metadata": {
        "id": "m0jaaXqrWEda"
      }
    },
    {
      "cell_type": "code",
      "source": [
        "DATA['DUP'] = DATA['SHIP_ID'] + \"_\" + DATA[\"SECTION\"].astype(str) + \"_\" + DATA[\"OP_INDEX\"].astype(str)+ DATA[\"DATA_TIME\"]\n",
        "print(\"시간 데이터 사이의 유일성 : \" , len(DATA['DUP'].unique()))\n",
        "print(\"실제 데이터 갯수 : \", len(DATA))"
      ],
      "metadata": {
        "id": "hYewgOMEWe24",
        "colab": {
          "base_uri": "https://localhost:8080/"
        },
        "outputId": "082aa4ba-8569-49d1-8822-46e6850e923b"
      },
      "execution_count": null,
      "outputs": [
        {
          "output_type": "stream",
          "name": "stdout",
          "text": [
            "시간 데이터 사이의 유일성 :  452686\n",
            "실제 데이터 갯수 :  583072\n"
          ]
        }
      ]
    },
    {
      "cell_type": "code",
      "source": [
        "data_time_key = DATA['DUP']\n",
        "pd.DataFrame(data_time_key.value_counts())"
      ],
      "metadata": {
        "id": "tXJ4lpT_XzsJ"
      },
      "execution_count": null,
      "outputs": []
    },
    {
      "cell_type": "markdown",
      "source": [
        "- 예시 1 : DATA_INDEX만 제외하고 모든 값이 같은 것을 볼 수 있다."
      ],
      "metadata": {
        "id": "xk238pIZYpF6"
      }
    },
    {
      "cell_type": "code",
      "source": [
        "DATA[DATA['DUP'] == 'T140110-00206_0_1892020-08-31 11:15:21']"
      ],
      "metadata": {
        "id": "PlTE1F1fYY8s"
      },
      "execution_count": null,
      "outputs": []
    },
    {
      "cell_type": "markdown",
      "source": [
        "- 예시 2 : DATA_INDEX만 제외하고 모든 값이 같은 것을 볼 수 있다."
      ],
      "metadata": {
        "id": "RbDOzMWYYwyH"
      }
    },
    {
      "cell_type": "code",
      "source": [
        "DATA[DATA['DUP'] == 'T140110-00206_0_1972020-09-14 08:12:18']"
      ],
      "metadata": {
        "id": "Zt5xrXd-Yya9"
      },
      "execution_count": null,
      "outputs": []
    },
    {
      "cell_type": "markdown",
      "source": [
        "- 예시 3 : DATA_INDEX만 제외하고 모든 값이 같은 것을 볼 수 있다."
      ],
      "metadata": {
        "id": "Zb0cX0EyZKFJ"
      }
    },
    {
      "cell_type": "code",
      "source": [
        "DATA[DATA['DUP'] == 'T20180208001_0_4442021-02-08 02:09:33']"
      ],
      "metadata": {
        "id": "qgv29BeyY62j"
      },
      "execution_count": null,
      "outputs": []
    },
    {
      "cell_type": "markdown",
      "source": [
        "그러므로, 겹치는 데이터를 모두 제거해야한다.\n",
        "데이터가 많이 겹치기 때문에, 우리는 drop.duplicates() 함수를 사용하여 첫번째 값을 제외한 모든 값에 대해서 중복값을 제거해 줄 것이다."
      ],
      "metadata": {
        "id": "is9uR5x7ZN-g"
      }
    },
    {
      "cell_type": "code",
      "source": [
        "DATA = DATA.drop_duplicates(subset = ['OP_INDEX', 'DATA_TIME', 'CSU', 'STS', 'FTS','FMU','TRO','ANU', 'RATE','CURRENT','VOLTAGE','TRO_COUNT','SHIP_ID','SECTION','DUP'])"
      ],
      "metadata": {
        "id": "I1IIt8OFZes1"
      },
      "execution_count": null,
      "outputs": []
    },
    {
      "cell_type": "code",
      "source": [
        "DATA=DATA.reset_index().drop(columns = ['index','DUP'])"
      ],
      "metadata": {
        "id": "rri1vlNza--q"
      },
      "execution_count": null,
      "outputs": []
    },
    {
      "cell_type": "code",
      "source": [
        "DATA"
      ],
      "metadata": {
        "id": "_jyw_GMcbHiD"
      },
      "execution_count": null,
      "outputs": []
    },
    {
      "cell_type": "markdown",
      "source": [
        "중복이 제거된 것을 확인할 수 있다."
      ],
      "metadata": {
        "id": "c_opK4iQbJUj"
      }
    },
    {
      "cell_type": "markdown",
      "source": [
        "# 4 DEVICE 테이블의 중복 값 존재 여부\n",
        "\n",
        "- 4 DEVICE 테이블도 DATA 테이블과 마찬가지로 1분에 하나씩 수집되는 데이터이다.\n",
        "- 또한, DATA 테이블은 4 DEVICE 테이블에서 산출되는 값으로 만들어진 테이블이므로, DATA 테이블의 TIME LINE과 4 DEVICE 테이블의 타임라인이 서로 일치해야한다.\n",
        "- 만약, 타임라인을 어기는 관측치가 있다면, 과감히 삭제해야한다."
      ],
      "metadata": {
        "id": "59LJovQxcGlC"
      }
    },
    {
      "cell_type": "markdown",
      "source": [
        "## DATA_DEVICE 테이블을 이용하여 DATA 테이블과 4 DEVICE 테이블의 결합 유도\n",
        "- 4 DEVICE 테이블에 타임라인을 형성시켜줌으로써 4 DEVICE 테이블의 타임라인 중복 여부를 확인한다.\n",
        "- 타임라인이 겹친다면, 그 값은 중복을 일으키므로 제거해도 무방하다.\n",
        "- 또한, 타임라인이 nan으로 들어온다면, 그 값도 제거해도 무방하다. 1분마다 들어오는 센서 데이터에 언제 데이터가 들어왔는지에 대한 정보가 누락된 것이기 때문에, 이 데이터는 사용할 수 없다."
      ],
      "metadata": {
        "id": "pmCGbOzeBRKP"
      }
    },
    {
      "cell_type": "code",
      "source": [
        "ECUDD_ECU = pd.merge(ECUDD,ECU,how = \"left\", on = ['SHIP_ID', 'SECTION','D_INDEX','DEVICE_ID'])\n",
        "ECU_TIME = pd.merge(ECUDD_ECU,DATA[['SHIP_ID','SECTION','OP_INDEX','DATA_INDEX','DATA_TIME']],how = \"left\", on = ['SHIP_ID','SECTION','OP_INDEX','DATA_INDEX'])"
      ],
      "metadata": {
        "id": "_ausGTtOddfK"
      },
      "execution_count": null,
      "outputs": []
    },
    {
      "cell_type": "code",
      "source": [
        "ANUDD_ANU = pd.merge(ANUDD,ANU,how = \"left\", on = ['SHIP_ID', 'SECTION','D_INDEX','DEVICE_ID'])\n",
        "ANU_TIME = pd.merge(ANUDD_ANU,DATA[['SHIP_ID','SECTION','OP_INDEX','DATA_INDEX','DATA_TIME']],how = \"left\", on = ['SHIP_ID','SECTION','OP_INDEX','DATA_INDEX'])"
      ],
      "metadata": {
        "id": "3ee0zSsofhke"
      },
      "execution_count": null,
      "outputs": []
    },
    {
      "cell_type": "code",
      "source": [
        "TSUDD_TSU = pd.merge(TSUDD,TSU,how = \"left\", on = ['SHIP_ID', 'SECTION','D_INDEX','DEVICE_ID'])\n",
        "TSU_TIME = pd.merge(TSUDD_TSU,DATA[['SHIP_ID','SECTION','OP_INDEX','DATA_INDEX','DATA_TIME']],how = \"left\", on = ['SHIP_ID','SECTION','OP_INDEX','DATA_INDEX'])"
      ],
      "metadata": {
        "id": "TZ8TQ8Drd4um"
      },
      "execution_count": null,
      "outputs": []
    },
    {
      "cell_type": "code",
      "source": [
        "PMUDD_PMU = pd.merge(PMUDD,PMU,how = \"left\", on = ['SHIP_ID', 'SECTION','D_INDEX','DEVICE_ID'])\n",
        "PMU_TIME = pd.merge(PMUDD_PMU,DATA[['SHIP_ID','SECTION','OP_INDEX','DATA_INDEX','DATA_TIME']],how = \"left\", on = ['SHIP_ID','SECTION','OP_INDEX','DATA_INDEX'])"
      ],
      "metadata": {
        "id": "D5tjlaV0gOJs"
      },
      "execution_count": null,
      "outputs": []
    },
    {
      "cell_type": "markdown",
      "source": [
        "## 시간이 들어오지 않은 데이터에 대한 제거"
      ],
      "metadata": {
        "id": "Z_zB8bPtgi7E"
      }
    },
    {
      "cell_type": "code",
      "source": [
        "print(\"ECU 테이블에서 시간이 들어오지 않은 데이터의 갯수 : \" , ECU_TIME['DATA_TIME'].isna().sum())\n",
        "print(\"ANU 테이블에서 시간이 들어오지 않은 데이터의 갯수 : \" , ANU_TIME['DATA_TIME'].isna().sum())\n",
        "print(\"TSU 테이블에서 시간이 들어오지 않은 데이터의 갯수 : \" , TSU_TIME['DATA_TIME'].isna().sum())\n",
        "print(\"PMU 테이블에서 시간이 들어오지 않은 데이터의 갯수 : \" , PMU_TIME['DATA_TIME'].isna().sum())"
      ],
      "metadata": {
        "id": "a_HCzXlJglmD"
      },
      "execution_count": null,
      "outputs": []
    },
    {
      "cell_type": "code",
      "source": [
        "ECU_TIME = ECU_TIME[ECU_TIME['DATA_TIME'].isna() == False]\n",
        "ANU_TIME  = ANU_TIME[ANU_TIME['DATA_TIME'].isna() == False]\n",
        "TSU_TIME  = TSU_TIME[TSU_TIME['DATA_TIME'].isna() == False]\n",
        "PMU_TIME  = PMU_TIME[PMU_TIME['DATA_TIME'].isna() == False]"
      ],
      "metadata": {
        "id": "j6UCDpK8hbKy"
      },
      "execution_count": null,
      "outputs": []
    },
    {
      "cell_type": "markdown",
      "source": [
        "## 중복되는 시간 데이터 제거\n",
        "\n",
        "- 선박과 선박 안에 있는 섹션, 그 안에 있는 디바이스들에 대해서 시간이 모두 같을 때, 이는 1분에 1개씩 데이터가 들어온다는 규칙에 위배되므로, 이들을 모두 제거해주면 된다."
      ],
      "metadata": {
        "id": "gTYmxmxBkFEW"
      }
    },
    {
      "cell_type": "code",
      "source": [
        "ECU_TIME[\"DUP\"] = ECU_TIME['SHIP_ID'] + \"_\" + ECU_TIME['SECTION'].astype(str) + \"_\" + ECU_TIME['OP_INDEX'].astype(str)  + \"_\" + ECU_TIME['DEVICE_ID'].astype(str) + ECU_TIME['DATA_TIME']\n",
        "print(\"ECU의 유일한 시간 데이터 갯수 : \" , len(ECU_TIME[\"DUP\"].unique()))\n",
        "ANU_TIME[\"DUP\"] = ANU_TIME['SHIP_ID'] + \"_\" + ANU_TIME['SECTION'].astype(str) + \"_\" +  ANU_TIME['OP_INDEX'].astype(str)  + \"_\"  + ANU_TIME['DEVICE_ID'].astype(str) + ANU_TIME['DATA_TIME']\n",
        "print(\"ANU의 유일한 시간 데이터 갯수 : \" , len(ANU_TIME[\"DUP\"].unique()))\n",
        "TSU_TIME[\"DUP\"] = TSU_TIME['SHIP_ID'] + \"_\" + TSU_TIME['SECTION'].astype(str) + \"_\" + TSU_TIME['OP_INDEX'].astype(str)  + \"_\"  +TSU_TIME['DEVICE_ID'].astype(str) + TSU_TIME['DATA_TIME']\n",
        "print(\"TSU의 유일한 시간 데이터 갯수 : \" , len(TSU_TIME[\"DUP\"].unique()))\n",
        "PMU_TIME[\"DUP\"] = PMU_TIME['SHIP_ID'] + \"_\" + PMU_TIME['SECTION'].astype(str) + \"_\" + PMU_TIME['OP_INDEX'].astype(str)  + \"_\" + PMU_TIME['DEVICE_ID'].astype(str) + PMU_TIME['DATA_TIME']\n",
        "print(\"PMU의 유일한 시간 데이터 갯수 : \" , len(PMU_TIME[\"DUP\"].unique()))"
      ],
      "metadata": {
        "id": "Ag_D68nHkIfP"
      },
      "execution_count": null,
      "outputs": []
    },
    {
      "cell_type": "markdown",
      "source": [
        "### ECU"
      ],
      "metadata": {
        "id": "9gLhiMPyoNG2"
      }
    },
    {
      "cell_type": "code",
      "source": [
        "ECU_TIME[\"DUP\"].value_counts()"
      ],
      "metadata": {
        "id": "sgm-3AnkmEHL"
      },
      "execution_count": null,
      "outputs": []
    },
    {
      "cell_type": "markdown",
      "source": [
        "- 예시 1 : D_INDEX를 제외하고 모두 같은 값을 가진다는 사실을 알 수 있다."
      ],
      "metadata": {
        "id": "gY0UxKormb5s"
      }
    },
    {
      "cell_type": "code",
      "source": [
        "ECU_TIME[ECU_TIME[\"DUP\"] == 'T20180208001_0_321_62021-11-21 23:37:15']"
      ],
      "metadata": {
        "id": "ZZrj4mpgmbjr"
      },
      "execution_count": null,
      "outputs": []
    },
    {
      "cell_type": "markdown",
      "source": [
        "- 예시 2 : D_INDEX를 제외하고 모두 같은 값을 가진다는 사실을 알 수 있다."
      ],
      "metadata": {
        "id": "nRShBsBqnGJa"
      }
    },
    {
      "cell_type": "code",
      "source": [
        "ECU_TIME[ECU_TIME[\"DUP\"] == 'T20180208001_0_321_42021-11-21 23:38:15']"
      ],
      "metadata": {
        "id": "o_Rahjk5nKw1"
      },
      "execution_count": null,
      "outputs": []
    },
    {
      "cell_type": "markdown",
      "source": [
        "### ANU"
      ],
      "metadata": {
        "id": "zYCGwsQLoP4v"
      }
    },
    {
      "cell_type": "code",
      "source": [
        "ANU_TIME[\"DUP\"].value_counts()"
      ],
      "metadata": {
        "id": "S80JqAILoSCT"
      },
      "execution_count": null,
      "outputs": []
    },
    {
      "cell_type": "code",
      "source": [
        "ANU_TIME[ANU_TIME[\"DUP\"] == 'T20180208001_0_869_32022-02-07 14:33:18']"
      ],
      "metadata": {
        "id": "A01VQzNDoWpj"
      },
      "execution_count": null,
      "outputs": []
    },
    {
      "cell_type": "markdown",
      "source": [
        "### TSU"
      ],
      "metadata": {
        "id": "_gadeLCLojv9"
      }
    },
    {
      "cell_type": "code",
      "source": [
        "TSU_TIME[\"DUP\"].value_counts()"
      ],
      "metadata": {
        "id": "nMIuGYvkolI-"
      },
      "execution_count": null,
      "outputs": []
    },
    {
      "cell_type": "code",
      "source": [
        "TSU_TIME[TSU_TIME[\"DUP\"] == 'T20180208001_0_134_12021-07-26 12:02:22']"
      ],
      "metadata": {
        "id": "Q9YU0gxfouJJ"
      },
      "execution_count": null,
      "outputs": []
    },
    {
      "cell_type": "markdown",
      "source": [
        "### PMU"
      ],
      "metadata": {
        "id": "31VT-gohqtGM"
      }
    },
    {
      "cell_type": "code",
      "source": [
        "PMU_TIME[\"DUP\"].value_counts()"
      ],
      "metadata": {
        "id": "DQ7QQPM7qvGJ"
      },
      "execution_count": null,
      "outputs": []
    },
    {
      "cell_type": "code",
      "source": [
        "PMU_TIME[PMU_TIME[\"DUP\"] == 'T20200113001_1_214_92021-06-15 08:13:16']"
      ],
      "metadata": {
        "id": "h1cWrM_-qzBG"
      },
      "execution_count": null,
      "outputs": []
    },
    {
      "cell_type": "markdown",
      "source": [
        "## 중복값 제거"
      ],
      "metadata": {
        "id": "y5nGjPhzrtZT"
      }
    },
    {
      "cell_type": "code",
      "source": [
        "ECU_TIME=ECU_TIME.drop_duplicates(\"DUP\")\n",
        "ANU_TIME=ANU_TIME.drop_duplicates(\"DUP\")\n",
        "TSU_TIME=TSU_TIME.drop_duplicates(\"DUP\")\n",
        "PMU_TIME=PMU_TIME.drop_duplicates(\"DUP\")"
      ],
      "metadata": {
        "id": "78VCckg8rY8u"
      },
      "execution_count": null,
      "outputs": []
    },
    {
      "cell_type": "markdown",
      "source": [
        "# SYSTEM과 SECTION의 정보 중복\n",
        "\n",
        "- SYSTEM과 SECTION 칼럼의 정보는 동일하다.\n",
        "- 테이블 내에 열 단위로 동일한 정보가 존재한다.\n",
        "- 모든테이블에 SYSTEM과 SECTION이 중복된 정보로 등록되어 있기 때문에, 이 정보들을 모두 제거해야함."
      ],
      "metadata": {
        "id": "8cFHCyRrBStJ"
      }
    },
    {
      "cell_type": "markdown",
      "source": [
        "## 원래 열로 돌리기"
      ],
      "metadata": {
        "id": "Aqnbe8trkW4i"
      }
    },
    {
      "cell_type": "code",
      "source": [
        "ECU = ECU_TIME.reset_index().drop(columns = ['index'])\n",
        "ANU = ANU_TIME.reset_index().drop(columns = ['index'])\n",
        "TSU = TSU_TIME.reset_index().drop(columns = ['index'])\n",
        "PMU = PMU_TIME.reset_index().drop(columns = ['index'])"
      ],
      "metadata": {
        "id": "RyTdhLYniLj6"
      },
      "execution_count": null,
      "outputs": []
    },
    {
      "cell_type": "code",
      "source": [
        "ECU_COL=list(set(ECU_COL) - set(['SYSTEM']))\n",
        "ANU_COL=list(set(ANU_COL) - set(['SYSTEM']))\n",
        "TSU_COL=list(set(TSU_COL) - set(['SYSTEM']))\n",
        "PMU_COL=list(set(PMU_COL) - set(['SYSTEM']))\n",
        "ECU = ECU[ECU_COL]\n",
        "ANU = ANU[ANU_COL]\n",
        "TSU = TSU[TSU_COL]\n",
        "PMU = PMU[PMU_COL]"
      ],
      "metadata": {
        "id": "lG-CrqUstFcY"
      },
      "execution_count": null,
      "outputs": []
    },
    {
      "cell_type": "markdown",
      "source": [
        "## 남은 정리"
      ],
      "metadata": {
        "id": "l1E9JBdZtzf4"
      }
    },
    {
      "cell_type": "code",
      "source": [
        "DATA_DEVICE.drop(columns = ['KEY'], inplace = True)"
      ],
      "metadata": {
        "id": "R5vSP-Frt14J"
      },
      "execution_count": null,
      "outputs": []
    },
    {
      "cell_type": "markdown",
      "source": [
        "# 저장"
      ],
      "metadata": {
        "id": "5H0-u0LcseKK"
      }
    },
    {
      "cell_type": "code",
      "source": [
        "ECU.to_csv('/content/gdrive/MyDrive/NEW_DB/ECU.csv')\n",
        "ANU.to_csv('/content/gdrive/MyDrive/NEW_DB/ANU.csv')\n",
        "TSU.to_csv('/content/gdrive/MyDrive/NEW_DB/TSU.csv')\n",
        "PMU.to_csv('/content/gdrive/MyDrive/NEW_DB/PMU.csv')\n",
        "DATA_DEVICE.to_csv('/content/gdrive/MyDrive/NEW_DB/DATA_DEVICE.csv')\n",
        "DATA.to_csv('/content/gdrive/MyDrive/NEW_DB/DATA.csv')"
      ],
      "metadata": {
        "id": "rfv_A6kSsgBe"
      },
      "execution_count": null,
      "outputs": []
    }
  ]
}