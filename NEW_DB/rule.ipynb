{
  "nbformat": 4,
  "nbformat_minor": 0,
  "metadata": {
    "colab": {
      "name": "rule.ipynb",
      "provenance": [],
      "authorship_tag": "ABX9TyOc/FptN58q3pwC70VmOM+C",
      "include_colab_link": true
    },
    "kernelspec": {
      "name": "python3",
      "display_name": "Python 3"
    },
    "language_info": {
      "name": "python"
    }
  },
  "cells": [
    {
      "cell_type": "markdown",
      "metadata": {
        "id": "view-in-github",
        "colab_type": "text"
      },
      "source": [
        "<a href=\"https://colab.research.google.com/github/hyej987/TECHROSS/blob/master/NEW_DB/rule.ipynb\" target=\"_parent\"><img src=\"https://colab.research.google.com/assets/colab-badge.svg\" alt=\"Open In Colab\"/></a>"
      ]
    },
    {
      "cell_type": "markdown",
      "source": [
        "# 패키지 & 데이터 로딩"
      ],
      "metadata": {
        "id": "bHwUgcVgkmHb"
      }
    },
    {
      "cell_type": "code",
      "execution_count": null,
      "metadata": {
        "colab": {
          "base_uri": "https://localhost:8080/"
        },
        "id": "9E1XJ8sfgUAW",
        "outputId": "c4145983-c106-4f45-ec05-09b9473fd9eb"
      },
      "outputs": [
        {
          "output_type": "stream",
          "name": "stdout",
          "text": [
            "Drive already mounted at /content/gdrive; to attempt to forcibly remount, call drive.mount(\"/content/gdrive\", force_remount=True).\n"
          ]
        }
      ],
      "source": [
        "from google.colab import drive\n",
        "drive.mount('/content/gdrive')\n",
        "import pandas as pd\n",
        "import numpy as np"
      ]
    },
    {
      "cell_type": "code",
      "source": [
        "DATA_DATA_DEVICE=pd.read_csv('/content/gdrive/MyDrive/NEW_DB/JOIN_DB/DATA_DATA_DEVICE.csv')"
      ],
      "metadata": {
        "id": "Vlef71V3gk7K"
      },
      "execution_count": null,
      "outputs": []
    },
    {
      "cell_type": "code",
      "source": [
        "OPTIME=pd.read_csv('/content/gdrive/MyDrive/DB/OPTIME.csv')"
      ],
      "metadata": {
        "id": "E__5FzCZtva1"
      },
      "execution_count": null,
      "outputs": []
    },
    {
      "cell_type": "code",
      "source": [
        "DATA_DATA_DEVICE =DATA_DATA_DEVICE.drop(columns = ['Unnamed: 0'])"
      ],
      "metadata": {
        "id": "HmHhvD35hTwh"
      },
      "execution_count": null,
      "outputs": []
    },
    {
      "cell_type": "markdown",
      "source": [
        "# 데이터의 통일성 맞춰주기\n",
        "\n",
        "- ECU 테이블의 VOLTAGE는 ECU 테이블의 V1~V8의 평균\n",
        "- ECU 테이블의 CURRENT는 ECU 테이블의 C1~C8의 합\n",
        "- DATA 테이블의 VOLTAGE는 각각의 센서들의 VOLTAGE의 평균\n",
        "- DATA 테이블의 CURRENT는 각각의 센서들의 CUURENT의 합\n",
        "- DATA 테이블의 TRO는 TSU 테이블의 각각의 센서들의  BP1_CLX1 + BP1_CLX2 +BP2_CLX1 +BP2_CLX2 + BP3_CLX1 + BP3_CLX2\n",
        "- DATA 테이블의 ANU는 ANU 테이블의 각각의 센서들의 AMOUT1+ AMOUNT2\n",
        "\n",
        "# 열의 삭제\n",
        "- 위 두개의 규칙을 취합해본결과, 서로 결과가 일치하지 않는 것이 존재함\n",
        "- 서로 상관성이 있는 칼럼들이었으며, 오히려 다중공산성만 유발하므로, 칼럼을 모두 삭제함\n",
        "- ECU 테이블의 VOLATE, CURRENT\n",
        "- DATA 테이블의 VOLTAGE, CURRENT\n",
        "- DATA 테이블의 TRO\n",
        "- DATA 테이블의 ANU"
      ],
      "metadata": {
        "id": "kNUQWGICkVFS"
      }
    },
    {
      "cell_type": "code",
      "source": [
        "name_list = list(DATA_DATA_DEVICE.columns)\n",
        "\n",
        "delete_list=[i for i in name_list if 'VOLTAGE' in i]\n",
        "delete_list.remove('VOLTAGE')\n",
        "\n",
        "temp = [i for i in name_list if 'CURRENT' in i if 'CONTROL' not in i]\n",
        "temp.remove('CURRENT')\n",
        "\n",
        "for i in range(len(temp)) :\n",
        "    delete_list.append(temp[i])\n",
        "\n",
        "delete_list.append('VOLTAGE')\n",
        "delete_list.append('CURRENT')\n",
        "delete_list.append('TRO')\n",
        "delete_list.append('ANU')"
      ],
      "metadata": {
        "id": "DgnJ_AvbmcB7"
      },
      "execution_count": null,
      "outputs": []
    },
    {
      "cell_type": "code",
      "source": [
        "for i in range(len(delete_list)) :\n",
        "    name_list.remove(delete_list[i])"
      ],
      "metadata": {
        "id": "SRNqmbv6m5lg"
      },
      "execution_count": null,
      "outputs": []
    },
    {
      "cell_type": "code",
      "source": [
        "DATA_DATA_DEVICE=DATA_DATA_DEVICE[name_list]"
      ],
      "metadata": {
        "id": "r-NLTV9znX7y"
      },
      "execution_count": null,
      "outputs": []
    },
    {
      "cell_type": "markdown",
      "source": [
        "# 선박으로 데이터 SPLIT"
      ],
      "metadata": {
        "id": "g6Ry9XrBt8Fp"
      }
    },
    {
      "cell_type": "code",
      "source": [
        "ship_id = list(DATA_DATA_DEVICE['SHIP_ID'].unique())\n",
        "\n",
        "for i in range(len(ship_id)) :\n",
        "    temp=DATA_DATA_DEVICE[DATA_DATA_DEVICE['SHIP_ID'] == ship_id[i]]\n",
        "    temp.to_csv(\"/content/gdrive/MyDrive/NEW_DB/SPLIT_DB/\" + f\"{ship_id[i]}\" + \".csv\")"
      ],
      "metadata": {
        "id": "5Zdegy_muBkp"
      },
      "execution_count": null,
      "outputs": []
    }
  ]
}