{
 "cells": [
  {
   "cell_type": "markdown",
   "metadata": {
    "id": "VKvMKcpMT1QY"
   },
   "source": [
    "# ECU의 CONTROL은 어떻게 산출되었는가?\n",
    "\n",
    "- CONTROL은 비트신호로 알려져 있음\n",
    "\n",
    "- 하지만, CONTROL에는 십진수 형태의 데이터로 구성되어 있음\n",
    "\n",
    "- 십진수를 이진수로 변환하여 비트신호를 파악해본 결과, CONTROL이 의미하는 것을 판단할 수 없었음\n",
    "\n",
    "- 8비트로 나타낼 수 있는 모든 2진법의 수를 나타낸 후, 이를 CONTROL과 대조하여 CONTROL의 의미를 파악할 것임"
   ]
  },
  {
   "cell_type": "markdown",
   "metadata": {
    "id": "3DS7vJpMTaHF"
   },
   "source": [
    "# 패키지 로딩"
   ]
  },
  {
   "cell_type": "code",
   "execution_count": null,
   "metadata": {
    "colab": {
     "base_uri": "https://localhost:8080/"
    },
    "id": "dxk-Gm_TS-KT",
    "outputId": "3e53dfe9-0ed7-4a25-ecc7-5a8545bf86ed"
   },
   "outputs": [
    {
     "name": "stdout",
     "output_type": "stream",
     "text": [
      "Drive already mounted at /content/gdrive; to attempt to forcibly remount, call drive.mount(\"/content/gdrive\", force_remount=True).\n"
     ]
    }
   ],
   "source": [
    "from google.colab import drive\n",
    "drive.mount('/content/gdrive')\n",
    "import numpy as np\n",
    "import pandas as pd"
   ]
  },
  {
   "cell_type": "markdown",
   "metadata": {
    "id": "UknyEAfsTdAn"
   },
   "source": [
    "# 데이터 로딩"
   ]
  },
  {
   "cell_type": "code",
   "execution_count": null,
   "metadata": {
    "id": "Nzz5o-OiTNLH"
   },
   "outputs": [],
   "source": [
    "ECU = pd.read_csv('/content/gdrive/MyDrive/DB/ECU.csv')"
   ]
  },
  {
   "cell_type": "code",
   "execution_count": null,
   "metadata": {
    "colab": {
     "base_uri": "https://localhost:8080/"
    },
    "id": "-imG0I_PTngu",
    "outputId": "3fd6bf43-9b24-4baa-d5f3-282e69c28dc6"
   },
   "outputs": [
    {
     "name": "stdout",
     "output_type": "stream",
     "text": [
      "<class 'pandas.core.frame.DataFrame'>\n",
      "RangeIndex: 620535 entries, 0 to 620534\n",
      "Data columns (total 26 columns):\n",
      " #   Column           Non-Null Count   Dtype  \n",
      "---  ------           --------------   -----  \n",
      " 0   SHIP_ID          620535 non-null  object \n",
      " 1   D_INDEX          620535 non-null  int64  \n",
      " 2   DEVICE_ID        620535 non-null  int64  \n",
      " 3   CONTROL          620535 non-null  int64  \n",
      " 4   V1               620535 non-null  float64\n",
      " 5   V2               620535 non-null  float64\n",
      " 6   V3               620535 non-null  float64\n",
      " 7   V4               620535 non-null  float64\n",
      " 8   V5               620535 non-null  float64\n",
      " 9   V6               620535 non-null  float64\n",
      " 10  V7               620535 non-null  float64\n",
      " 11  V8               620535 non-null  float64\n",
      " 12  C1               620535 non-null  int64  \n",
      " 13  C2               620535 non-null  int64  \n",
      " 14  C3               620535 non-null  int64  \n",
      " 15  C4               620535 non-null  int64  \n",
      " 16  C5               620535 non-null  int64  \n",
      " 17  C6               620535 non-null  int64  \n",
      " 18  C7               620535 non-null  int64  \n",
      " 19  C8               620535 non-null  int64  \n",
      " 20  TEMP             620535 non-null  float64\n",
      " 21  CURRENT          620535 non-null  int64  \n",
      " 22  VOLTAGE          620535 non-null  float64\n",
      " 23  CONTROL_CURRENT  620535 non-null  int64  \n",
      " 24  SYSTEM           620535 non-null  int64  \n",
      " 25  SECTION          620535 non-null  int64  \n",
      "dtypes: float64(10), int64(15), object(1)\n",
      "memory usage: 123.1+ MB\n"
     ]
    }
   ],
   "source": [
    "ECU.info()"
   ]
  },
  {
   "cell_type": "code",
   "execution_count": null,
   "metadata": {
    "colab": {
     "base_uri": "https://localhost:8080/"
    },
    "id": "ubgq3e3eXMXn",
    "outputId": "6d7c7ef0-8bcc-4492-b89a-91cc96c54e97"
   },
   "outputs": [
    {
     "data": {
      "text/plain": [
       "array(['T140113-00101', 'T140113-00102', 'T140113-00103', 'T140113-00104',\n",
       "       'T140128-00703', 'T140703-00101', 'T140708-00101', 'T141027-00501',\n",
       "       'T160127-00202', 'T170102-00101', 'T20180208001', 'T20180614001',\n",
       "       'T20181218003', 'T20190115004', 'T20190324001', 'T20190527002',\n",
       "       'T20191014001', 'T20191016008', 'T20200218004', 'T20200603001',\n",
       "       'T20201209001', 'T20201210002', 'T20201210003', 'T20201210004',\n",
       "       'T20201210005', 'T20201210006', 'T20201210008', 'T20210521011',\n",
       "       'UnkownShip', 'T20191119009', 'T20181031003', 'T140110-00206',\n",
       "       'T20201110002', 'T20180910004', 'T20200113001'], dtype=object)"
      ]
     },
     "execution_count": 4,
     "metadata": {},
     "output_type": "execute_result"
    }
   ],
   "source": [
    "SHIP_ID=ECU['SHIP_ID'].unique()\n",
    "SHIP_ID"
   ]
  },
  {
   "cell_type": "code",
   "execution_count": null,
   "metadata": {
    "id": "eGcLfZc2Xdgm"
   },
   "outputs": [],
   "source": [
    "for i in range(35):\n",
    "  SHIP_ID[i]=ECU.loc[ECU['SHIP_ID'] == SHIP_ID[i],:]"
   ]
  },
  {
   "cell_type": "markdown",
   "metadata": {
    "id": "4_6gngbyluks"
   },
   "source": [
    "11110000\n",
    "11111100\n",
    "11111111\n",
    "00000000\n",
    "\n"
   ]
  },
  {
   "cell_type": "markdown",
   "metadata": {
    "id": "UznMPQUBUSCO"
   },
   "source": [
    "# C1~C8과 CONTROL의 관계"
   ]
  },
  {
   "cell_type": "code",
   "execution_count": null,
   "metadata": {
    "id": "Frjm_p1eTOKl"
   },
   "outputs": [],
   "source": [
    "SHIP_ID_BIT = []\n",
    "SHIP_CONTROL = []\n",
    "C = []\n",
    "BIT_CONTROL = []\n",
    "BIT = []\n",
    "for i in range(35) :\n",
    "  SHIP_CONTROL.append(pd.concat([SHIP_ID[i]['CONTROL'],SHIP_ID[i].iloc[:,12:20]],axis = 1))\n",
    "  C.append(SHIP_CONTROL[i].iloc[:,1:])\n",
    "  C[i] = C[i] != 0 \n",
    "  C[i]=C[i].astype(int)\n",
    "  C[i]=C[i]['C1'].astype(str) + C[i]['C2'].astype(str) + C[i]['C3'].astype(str) + C[i]['C4'].astype(str) + C[i]['C5'].astype(str) + C[i]['C6'].astype(str) + C[i]['C7'].astype(str) + C[i]['C8'].astype(str)\n",
    "  BIT_CONTROL.append(pd.concat([SHIP_ID[i]['CONTROL'],C[i]],axis = 1))\n",
    "  BIT.append(BIT_CONTROL[i].drop_duplicates())\n",
    "  SHIP_ID_BIT.append(pd.DataFrame(BIT[i].sort_values(by = 'CONTROL')))"
   ]
  },
  {
   "cell_type": "code",
   "execution_count": null,
   "metadata": {},
   "outputs": [],
   "source": [
    "for _ in range(0, len(SHIP_ID)):\n",
    "    print(SHIP_ID[_])\n",
    "    print(SHIP_ID_BIT[_])\n",
    "pd.set_option('display.max_row', 1000)\n",
    "pd.set_option('display.min_row', 1000)"
   ]
  }
 ],
 "metadata": {
  "colab": {
   "name": "ECU_BIT_BY_SHIP.ipynb",
   "provenance": []
  },
  "kernelspec": {
   "display_name": "Python 3 (ipykernel)",
   "language": "python",
   "name": "python3"
  },
  "language_info": {
   "codemirror_mode": {
    "name": "ipython",
    "version": 3
   },
   "file_extension": ".py",
   "mimetype": "text/x-python",
   "name": "python",
   "nbconvert_exporter": "python",
   "pygments_lexer": "ipython3",
   "version": "3.9.7"
  }
 },
 "nbformat": 4,
 "nbformat_minor": 4
}
