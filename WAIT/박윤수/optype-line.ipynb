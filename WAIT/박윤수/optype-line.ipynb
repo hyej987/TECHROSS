{
 "cells": [
  {
   "cell_type": "code",
   "execution_count": 1,
   "id": "60cba117-216c-44bb-81be-ccac5879c8de",
   "metadata": {},
   "outputs": [],
   "source": [
    "import numpy as np\n",
    "import pandas as pd\n",
    "import matplotlib.pyplot as plt\n",
    "import seaborn as sns\n",
    "import warnings\n",
    "warnings.filterwarnings('ignore')"
   ]
  },
  {
   "cell_type": "code",
   "execution_count": 2,
   "id": "25fbdf53-6adb-4784-922c-6c2f2c8acb7f",
   "metadata": {},
   "outputs": [],
   "source": [
    "opt_d_dd = pd.read_csv('../../../Work/techcross/0318/DATA_DEVICE_DATA_OPTIME.csv')"
   ]
  },
  {
   "cell_type": "code",
   "execution_count": 11,
   "id": "ef247922-2d8b-4647-bed8-a4bbc9de4aab",
   "metadata": {},
   "outputs": [],
   "source": [
    "olcheck = opt_d_dd[['OP_TYPE', 'LINE']]"
   ]
  },
  {
   "cell_type": "code",
   "execution_count": 13,
   "id": "e6fb5021-9b73-469e-b59d-3ec48c093220",
   "metadata": {},
   "outputs": [],
   "source": [
    "olcheck['key'] = olcheck['OP_TYPE'].astype(str) + '_' + olcheck['LINE'].astype(str)"
   ]
  },
  {
   "cell_type": "code",
   "execution_count": 14,
   "id": "5cae98d1-4ddc-48f6-ab30-f95cf122a1fd",
   "metadata": {},
   "outputs": [
    {
     "data": {
      "text/plain": [
       "1.0_1.0    601430\n",
       "1.0_2.0    491646\n",
       "2.0_1.0    380362\n",
       "2.0_2.0    367724\n",
       "4.0_1.0    141338\n",
       "4.0_2.0     72236\n",
       "1.0_3.0     19830\n",
       "2.0_3.0     19708\n",
       "4.0_3.0     19440\n",
       "4.0_4.0     18560\n",
       "2.0_4.0      2190\n",
       "nan_nan       169\n",
       "1.0_4.0        24\n",
       "Name: key, dtype: int64"
      ]
     },
     "execution_count": 14,
     "metadata": {},
     "output_type": "execute_result"
    }
   ],
   "source": [
    "olcheck['key'].value_counts()"
   ]
  }
 ],
 "metadata": {
  "kernelspec": {
   "display_name": "Python 3 (ipykernel)",
   "language": "python",
   "name": "python3"
  },
  "language_info": {
   "codemirror_mode": {
    "name": "ipython",
    "version": 3
   },
   "file_extension": ".py",
   "mimetype": "text/x-python",
   "name": "python",
   "nbconvert_exporter": "python",
   "pygments_lexer": "ipython3",
   "version": "3.9.7"
  }
 },
 "nbformat": 4,
 "nbformat_minor": 5
}
