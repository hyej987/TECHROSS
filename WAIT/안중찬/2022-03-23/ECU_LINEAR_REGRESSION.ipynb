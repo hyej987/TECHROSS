{
  "nbformat": 4,
  "nbformat_minor": 0,
  "metadata": {
    "colab": {
      "name": "ECU_LINEAR_REGRESSION.ipynb",
      "provenance": [],
      "collapsed_sections": [],
      "authorship_tag": "ABX9TyMgj7lCYzSxa3GETLQ8ms5x",
      "include_colab_link": true
    },
    "kernelspec": {
      "name": "python3",
      "display_name": "Python 3"
    },
    "language_info": {
      "name": "python"
    }
  },
  "cells": [
    {
      "cell_type": "markdown",
      "metadata": {
        "id": "view-in-github",
        "colab_type": "text"
      },
      "source": [
        "<a href=\"https://colab.research.google.com/github/AnnJungChan/TECHLOSS_SIGNLAB/blob/main/WAIT/%EC%95%88%EC%A4%91%EC%B0%AC/2022-03-23/ECU_LINEAR_REGRESSION.ipynb\" target=\"_parent\"><img src=\"https://colab.research.google.com/assets/colab-badge.svg\" alt=\"Open In Colab\"/></a>"
      ]
    },
    {
      "cell_type": "markdown",
      "source": [
        "# ECU 테이블의 C1~C8과 CURRENT사이의 관계\n",
        "\n",
        "- C1~C8을 모두 더하면 CURRENT가 되는지 파악한다.\n",
        "- 다 더했을 때, CURRENT가 되지 않으면, 이유가 무엇인지 파악한다.\n",
        "  - C1~C8까지의 합과 CURRENT간의 선형관계가 CONTROL이 달라짐에 따라서 바뀌는지 판단한다."
      ],
      "metadata": {
        "id": "HJ0QYEdREYh9"
      }
    },
    {
      "cell_type": "markdown",
      "source": [
        "## 패키지 로딩"
      ],
      "metadata": {
        "id": "qbNEEcn-FBNd"
      }
    },
    {
      "cell_type": "code",
      "source": [
        "from google.colab import drive\n",
        "drive.mount('/content/gdrive')\n",
        "import numpy as np\n",
        "import pandas as pd\n",
        "import seaborn as sns\n",
        "import matplotlib.pyplot as plt\n",
        "%matplotlib inline"
      ],
      "metadata": {
        "colab": {
          "base_uri": "https://localhost:8080/"
        },
        "id": "4WFyS6K6EKoA",
        "outputId": "be27b4d2-504a-4a7b-9e99-2f3f9512bdbb"
      },
      "execution_count": 1,
      "outputs": [
        {
          "output_type": "stream",
          "name": "stdout",
          "text": [
            "Drive already mounted at /content/gdrive; to attempt to forcibly remount, call drive.mount(\"/content/gdrive\", force_remount=True).\n"
          ]
        }
      ]
    },
    {
      "cell_type": "markdown",
      "source": [
        "## 데이터 로딩"
      ],
      "metadata": {
        "id": "qgAIZb-JFFvr"
      }
    },
    {
      "cell_type": "code",
      "source": [
        "ECU = pd.read_csv('/content/gdrive/MyDrive/DB/ECU.csv')"
      ],
      "metadata": {
        "id": "8fqMilxJFFVl"
      },
      "execution_count": 2,
      "outputs": []
    },
    {
      "cell_type": "code",
      "source": [
        "ECU=pd.concat([ECU.iloc[:,0:4],ECU.iloc[:,12:22], ECU.iloc[:,23:26]], axis = 1)"
      ],
      "metadata": {
        "id": "46aLm1qxFe-8"
      },
      "execution_count": 3,
      "outputs": []
    },
    {
      "cell_type": "markdown",
      "source": [
        "C1~C8과 CURRENT사이의 관계를 규명하기 위해 필요한 정보들만 불러옴"
      ],
      "metadata": {
        "id": "EeaM9tg7F89F"
      }
    },
    {
      "cell_type": "code",
      "source": [
        "ECU.info()"
      ],
      "metadata": {
        "colab": {
          "base_uri": "https://localhost:8080/"
        },
        "id": "udcGdyj5E_EM",
        "outputId": "1eb95667-308d-4fb5-d91e-62fca5b9d346"
      },
      "execution_count": 4,
      "outputs": [
        {
          "output_type": "stream",
          "name": "stdout",
          "text": [
            "<class 'pandas.core.frame.DataFrame'>\n",
            "RangeIndex: 620535 entries, 0 to 620534\n",
            "Data columns (total 17 columns):\n",
            " #   Column           Non-Null Count   Dtype  \n",
            "---  ------           --------------   -----  \n",
            " 0   SHIP_ID          620535 non-null  object \n",
            " 1   D_INDEX          620535 non-null  int64  \n",
            " 2   DEVICE_ID        620535 non-null  int64  \n",
            " 3   CONTROL          620535 non-null  int64  \n",
            " 4   C1               620535 non-null  int64  \n",
            " 5   C2               620535 non-null  int64  \n",
            " 6   C3               620535 non-null  int64  \n",
            " 7   C4               620535 non-null  int64  \n",
            " 8   C5               620535 non-null  int64  \n",
            " 9   C6               620535 non-null  int64  \n",
            " 10  C7               620535 non-null  int64  \n",
            " 11  C8               620535 non-null  int64  \n",
            " 12  TEMP             620535 non-null  float64\n",
            " 13  CURRENT          620535 non-null  int64  \n",
            " 14  CONTROL_CURRENT  620535 non-null  int64  \n",
            " 15  SYSTEM           620535 non-null  int64  \n",
            " 16  SECTION          620535 non-null  int64  \n",
            "dtypes: float64(1), int64(15), object(1)\n",
            "memory usage: 80.5+ MB\n"
          ]
        }
      ]
    },
    {
      "cell_type": "markdown",
      "source": [
        "# C1~C8의 합과 CURRENT 사이의 관계"
      ],
      "metadata": {
        "id": "JW3mFpDwE6Hd"
      }
    },
    {
      "cell_type": "code",
      "source": [
        "ECU['SUM'] = ECU.iloc[:,4:12].sum(1)"
      ],
      "metadata": {
        "id": "9inM1-3SGMOl"
      },
      "execution_count": 5,
      "outputs": []
    },
    {
      "cell_type": "code",
      "source": [
        "ECU_SAME = ECU.loc[ECU['SUM'] == ECU['CURRENT']]"
      ],
      "metadata": {
        "id": "xUr20AEpGWav"
      },
      "execution_count": 6,
      "outputs": []
    },
    {
      "cell_type": "code",
      "source": [
        "ECU_SAME"
      ],
      "metadata": {
        "colab": {
          "base_uri": "https://localhost:8080/",
          "height": 424
        },
        "id": "PUf3-y0KG81O",
        "outputId": "0c9c474d-f36e-4630-ec19-9106d0d6701c"
      },
      "execution_count": 7,
      "outputs": [
        {
          "output_type": "execute_result",
          "data": {
            "text/plain": [
              "              SHIP_ID  D_INDEX  DEVICE_ID  CONTROL   C1   C2   C3   C4   C5  \\\n",
              "1       T140113-00102        1          1       -1    0    0    0    0    0   \n",
              "2       T140113-00103        1          1       34  736  738  738  739  738   \n",
              "4       T140128-00703        1          1       -1    0    0    0    0    0   \n",
              "5       T140703-00101        1          1        0  936  943  937    0    0   \n",
              "7       T141027-00501        1          1       34  498  498  498  498  498   \n",
              "...               ...      ...        ...      ...  ...  ...  ...  ...  ...   \n",
              "620530   T20200113001    19680          9       34  718  717  717  717  717   \n",
              "620531   T20200113001    19683          9       34  846  848  849  847  850   \n",
              "620532   T20200113001    19686          9       34  989  989  989  990  989   \n",
              "620533   T20200113001    19689          9       34  998  998  997  997  997   \n",
              "620534   T20200113001    19692          9       34  995  995  995  995  995   \n",
              "\n",
              "         C6   C7   C8    TEMP  CURRENT  CONTROL_CURRENT  SYSTEM  SECTION   SUM  \n",
              "1         0    0    0 -9999.0        0               -1       0        0     0  \n",
              "2       736  736  736     3.9     5897             5901       0        0  5897  \n",
              "4         0    0    0 -9999.0        0               -1       0        0     0  \n",
              "5         0    0    0     0.0     2816                0       0        0  2816  \n",
              "7       498  498  498     3.5     3984                0       0        0  3984  \n",
              "...     ...  ...  ...     ...      ...              ...     ...      ...   ...  \n",
              "620530  717  718  717     0.0     5738             5745       1        1  5738  \n",
              "620531  848  850  831     0.0     6769             8000       1        1  6769  \n",
              "620532  989  989  989     0.0     7913             7927       1        1  7913  \n",
              "620533  997  997  998     0.0     7979             7991       1        1  7979  \n",
              "620534  995  995  995     0.0     7960             7960       1        1  7960  \n",
              "\n",
              "[217244 rows x 18 columns]"
            ],
            "text/html": [
              "\n",
              "  <div id=\"df-4637f224-89ff-4774-a56e-b97fc5523592\">\n",
              "    <div class=\"colab-df-container\">\n",
              "      <div>\n",
              "<style scoped>\n",
              "    .dataframe tbody tr th:only-of-type {\n",
              "        vertical-align: middle;\n",
              "    }\n",
              "\n",
              "    .dataframe tbody tr th {\n",
              "        vertical-align: top;\n",
              "    }\n",
              "\n",
              "    .dataframe thead th {\n",
              "        text-align: right;\n",
              "    }\n",
              "</style>\n",
              "<table border=\"1\" class=\"dataframe\">\n",
              "  <thead>\n",
              "    <tr style=\"text-align: right;\">\n",
              "      <th></th>\n",
              "      <th>SHIP_ID</th>\n",
              "      <th>D_INDEX</th>\n",
              "      <th>DEVICE_ID</th>\n",
              "      <th>CONTROL</th>\n",
              "      <th>C1</th>\n",
              "      <th>C2</th>\n",
              "      <th>C3</th>\n",
              "      <th>C4</th>\n",
              "      <th>C5</th>\n",
              "      <th>C6</th>\n",
              "      <th>C7</th>\n",
              "      <th>C8</th>\n",
              "      <th>TEMP</th>\n",
              "      <th>CURRENT</th>\n",
              "      <th>CONTROL_CURRENT</th>\n",
              "      <th>SYSTEM</th>\n",
              "      <th>SECTION</th>\n",
              "      <th>SUM</th>\n",
              "    </tr>\n",
              "  </thead>\n",
              "  <tbody>\n",
              "    <tr>\n",
              "      <th>1</th>\n",
              "      <td>T140113-00102</td>\n",
              "      <td>1</td>\n",
              "      <td>1</td>\n",
              "      <td>-1</td>\n",
              "      <td>0</td>\n",
              "      <td>0</td>\n",
              "      <td>0</td>\n",
              "      <td>0</td>\n",
              "      <td>0</td>\n",
              "      <td>0</td>\n",
              "      <td>0</td>\n",
              "      <td>0</td>\n",
              "      <td>-9999.0</td>\n",
              "      <td>0</td>\n",
              "      <td>-1</td>\n",
              "      <td>0</td>\n",
              "      <td>0</td>\n",
              "      <td>0</td>\n",
              "    </tr>\n",
              "    <tr>\n",
              "      <th>2</th>\n",
              "      <td>T140113-00103</td>\n",
              "      <td>1</td>\n",
              "      <td>1</td>\n",
              "      <td>34</td>\n",
              "      <td>736</td>\n",
              "      <td>738</td>\n",
              "      <td>738</td>\n",
              "      <td>739</td>\n",
              "      <td>738</td>\n",
              "      <td>736</td>\n",
              "      <td>736</td>\n",
              "      <td>736</td>\n",
              "      <td>3.9</td>\n",
              "      <td>5897</td>\n",
              "      <td>5901</td>\n",
              "      <td>0</td>\n",
              "      <td>0</td>\n",
              "      <td>5897</td>\n",
              "    </tr>\n",
              "    <tr>\n",
              "      <th>4</th>\n",
              "      <td>T140128-00703</td>\n",
              "      <td>1</td>\n",
              "      <td>1</td>\n",
              "      <td>-1</td>\n",
              "      <td>0</td>\n",
              "      <td>0</td>\n",
              "      <td>0</td>\n",
              "      <td>0</td>\n",
              "      <td>0</td>\n",
              "      <td>0</td>\n",
              "      <td>0</td>\n",
              "      <td>0</td>\n",
              "      <td>-9999.0</td>\n",
              "      <td>0</td>\n",
              "      <td>-1</td>\n",
              "      <td>0</td>\n",
              "      <td>0</td>\n",
              "      <td>0</td>\n",
              "    </tr>\n",
              "    <tr>\n",
              "      <th>5</th>\n",
              "      <td>T140703-00101</td>\n",
              "      <td>1</td>\n",
              "      <td>1</td>\n",
              "      <td>0</td>\n",
              "      <td>936</td>\n",
              "      <td>943</td>\n",
              "      <td>937</td>\n",
              "      <td>0</td>\n",
              "      <td>0</td>\n",
              "      <td>0</td>\n",
              "      <td>0</td>\n",
              "      <td>0</td>\n",
              "      <td>0.0</td>\n",
              "      <td>2816</td>\n",
              "      <td>0</td>\n",
              "      <td>0</td>\n",
              "      <td>0</td>\n",
              "      <td>2816</td>\n",
              "    </tr>\n",
              "    <tr>\n",
              "      <th>7</th>\n",
              "      <td>T141027-00501</td>\n",
              "      <td>1</td>\n",
              "      <td>1</td>\n",
              "      <td>34</td>\n",
              "      <td>498</td>\n",
              "      <td>498</td>\n",
              "      <td>498</td>\n",
              "      <td>498</td>\n",
              "      <td>498</td>\n",
              "      <td>498</td>\n",
              "      <td>498</td>\n",
              "      <td>498</td>\n",
              "      <td>3.5</td>\n",
              "      <td>3984</td>\n",
              "      <td>0</td>\n",
              "      <td>0</td>\n",
              "      <td>0</td>\n",
              "      <td>3984</td>\n",
              "    </tr>\n",
              "    <tr>\n",
              "      <th>...</th>\n",
              "      <td>...</td>\n",
              "      <td>...</td>\n",
              "      <td>...</td>\n",
              "      <td>...</td>\n",
              "      <td>...</td>\n",
              "      <td>...</td>\n",
              "      <td>...</td>\n",
              "      <td>...</td>\n",
              "      <td>...</td>\n",
              "      <td>...</td>\n",
              "      <td>...</td>\n",
              "      <td>...</td>\n",
              "      <td>...</td>\n",
              "      <td>...</td>\n",
              "      <td>...</td>\n",
              "      <td>...</td>\n",
              "      <td>...</td>\n",
              "      <td>...</td>\n",
              "    </tr>\n",
              "    <tr>\n",
              "      <th>620530</th>\n",
              "      <td>T20200113001</td>\n",
              "      <td>19680</td>\n",
              "      <td>9</td>\n",
              "      <td>34</td>\n",
              "      <td>718</td>\n",
              "      <td>717</td>\n",
              "      <td>717</td>\n",
              "      <td>717</td>\n",
              "      <td>717</td>\n",
              "      <td>717</td>\n",
              "      <td>718</td>\n",
              "      <td>717</td>\n",
              "      <td>0.0</td>\n",
              "      <td>5738</td>\n",
              "      <td>5745</td>\n",
              "      <td>1</td>\n",
              "      <td>1</td>\n",
              "      <td>5738</td>\n",
              "    </tr>\n",
              "    <tr>\n",
              "      <th>620531</th>\n",
              "      <td>T20200113001</td>\n",
              "      <td>19683</td>\n",
              "      <td>9</td>\n",
              "      <td>34</td>\n",
              "      <td>846</td>\n",
              "      <td>848</td>\n",
              "      <td>849</td>\n",
              "      <td>847</td>\n",
              "      <td>850</td>\n",
              "      <td>848</td>\n",
              "      <td>850</td>\n",
              "      <td>831</td>\n",
              "      <td>0.0</td>\n",
              "      <td>6769</td>\n",
              "      <td>8000</td>\n",
              "      <td>1</td>\n",
              "      <td>1</td>\n",
              "      <td>6769</td>\n",
              "    </tr>\n",
              "    <tr>\n",
              "      <th>620532</th>\n",
              "      <td>T20200113001</td>\n",
              "      <td>19686</td>\n",
              "      <td>9</td>\n",
              "      <td>34</td>\n",
              "      <td>989</td>\n",
              "      <td>989</td>\n",
              "      <td>989</td>\n",
              "      <td>990</td>\n",
              "      <td>989</td>\n",
              "      <td>989</td>\n",
              "      <td>989</td>\n",
              "      <td>989</td>\n",
              "      <td>0.0</td>\n",
              "      <td>7913</td>\n",
              "      <td>7927</td>\n",
              "      <td>1</td>\n",
              "      <td>1</td>\n",
              "      <td>7913</td>\n",
              "    </tr>\n",
              "    <tr>\n",
              "      <th>620533</th>\n",
              "      <td>T20200113001</td>\n",
              "      <td>19689</td>\n",
              "      <td>9</td>\n",
              "      <td>34</td>\n",
              "      <td>998</td>\n",
              "      <td>998</td>\n",
              "      <td>997</td>\n",
              "      <td>997</td>\n",
              "      <td>997</td>\n",
              "      <td>997</td>\n",
              "      <td>997</td>\n",
              "      <td>998</td>\n",
              "      <td>0.0</td>\n",
              "      <td>7979</td>\n",
              "      <td>7991</td>\n",
              "      <td>1</td>\n",
              "      <td>1</td>\n",
              "      <td>7979</td>\n",
              "    </tr>\n",
              "    <tr>\n",
              "      <th>620534</th>\n",
              "      <td>T20200113001</td>\n",
              "      <td>19692</td>\n",
              "      <td>9</td>\n",
              "      <td>34</td>\n",
              "      <td>995</td>\n",
              "      <td>995</td>\n",
              "      <td>995</td>\n",
              "      <td>995</td>\n",
              "      <td>995</td>\n",
              "      <td>995</td>\n",
              "      <td>995</td>\n",
              "      <td>995</td>\n",
              "      <td>0.0</td>\n",
              "      <td>7960</td>\n",
              "      <td>7960</td>\n",
              "      <td>1</td>\n",
              "      <td>1</td>\n",
              "      <td>7960</td>\n",
              "    </tr>\n",
              "  </tbody>\n",
              "</table>\n",
              "<p>217244 rows × 18 columns</p>\n",
              "</div>\n",
              "      <button class=\"colab-df-convert\" onclick=\"convertToInteractive('df-4637f224-89ff-4774-a56e-b97fc5523592')\"\n",
              "              title=\"Convert this dataframe to an interactive table.\"\n",
              "              style=\"display:none;\">\n",
              "        \n",
              "  <svg xmlns=\"http://www.w3.org/2000/svg\" height=\"24px\"viewBox=\"0 0 24 24\"\n",
              "       width=\"24px\">\n",
              "    <path d=\"M0 0h24v24H0V0z\" fill=\"none\"/>\n",
              "    <path d=\"M18.56 5.44l.94 2.06.94-2.06 2.06-.94-2.06-.94-.94-2.06-.94 2.06-2.06.94zm-11 1L8.5 8.5l.94-2.06 2.06-.94-2.06-.94L8.5 2.5l-.94 2.06-2.06.94zm10 10l.94 2.06.94-2.06 2.06-.94-2.06-.94-.94-2.06-.94 2.06-2.06.94z\"/><path d=\"M17.41 7.96l-1.37-1.37c-.4-.4-.92-.59-1.43-.59-.52 0-1.04.2-1.43.59L10.3 9.45l-7.72 7.72c-.78.78-.78 2.05 0 2.83L4 21.41c.39.39.9.59 1.41.59.51 0 1.02-.2 1.41-.59l7.78-7.78 2.81-2.81c.8-.78.8-2.07 0-2.86zM5.41 20L4 18.59l7.72-7.72 1.47 1.35L5.41 20z\"/>\n",
              "  </svg>\n",
              "      </button>\n",
              "      \n",
              "  <style>\n",
              "    .colab-df-container {\n",
              "      display:flex;\n",
              "      flex-wrap:wrap;\n",
              "      gap: 12px;\n",
              "    }\n",
              "\n",
              "    .colab-df-convert {\n",
              "      background-color: #E8F0FE;\n",
              "      border: none;\n",
              "      border-radius: 50%;\n",
              "      cursor: pointer;\n",
              "      display: none;\n",
              "      fill: #1967D2;\n",
              "      height: 32px;\n",
              "      padding: 0 0 0 0;\n",
              "      width: 32px;\n",
              "    }\n",
              "\n",
              "    .colab-df-convert:hover {\n",
              "      background-color: #E2EBFA;\n",
              "      box-shadow: 0px 1px 2px rgba(60, 64, 67, 0.3), 0px 1px 3px 1px rgba(60, 64, 67, 0.15);\n",
              "      fill: #174EA6;\n",
              "    }\n",
              "\n",
              "    [theme=dark] .colab-df-convert {\n",
              "      background-color: #3B4455;\n",
              "      fill: #D2E3FC;\n",
              "    }\n",
              "\n",
              "    [theme=dark] .colab-df-convert:hover {\n",
              "      background-color: #434B5C;\n",
              "      box-shadow: 0px 1px 3px 1px rgba(0, 0, 0, 0.15);\n",
              "      filter: drop-shadow(0px 1px 2px rgba(0, 0, 0, 0.3));\n",
              "      fill: #FFFFFF;\n",
              "    }\n",
              "  </style>\n",
              "\n",
              "      <script>\n",
              "        const buttonEl =\n",
              "          document.querySelector('#df-4637f224-89ff-4774-a56e-b97fc5523592 button.colab-df-convert');\n",
              "        buttonEl.style.display =\n",
              "          google.colab.kernel.accessAllowed ? 'block' : 'none';\n",
              "\n",
              "        async function convertToInteractive(key) {\n",
              "          const element = document.querySelector('#df-4637f224-89ff-4774-a56e-b97fc5523592');\n",
              "          const dataTable =\n",
              "            await google.colab.kernel.invokeFunction('convertToInteractive',\n",
              "                                                     [key], {});\n",
              "          if (!dataTable) return;\n",
              "\n",
              "          const docLinkHtml = 'Like what you see? Visit the ' +\n",
              "            '<a target=\"_blank\" href=https://colab.research.google.com/notebooks/data_table.ipynb>data table notebook</a>'\n",
              "            + ' to learn more about interactive tables.';\n",
              "          element.innerHTML = '';\n",
              "          dataTable['output_type'] = 'display_data';\n",
              "          await google.colab.output.renderOutput(dataTable, element);\n",
              "          const docLink = document.createElement('div');\n",
              "          docLink.innerHTML = docLinkHtml;\n",
              "          element.appendChild(docLink);\n",
              "        }\n",
              "      </script>\n",
              "    </div>\n",
              "  </div>\n",
              "  "
            ]
          },
          "metadata": {},
          "execution_count": 7
        }
      ]
    },
    {
      "cell_type": "markdown",
      "source": [
        "217244개의 행들이 C1~C8의 합과 CURRENT의 값이 같다는 사실을 알 수 있다."
      ],
      "metadata": {
        "id": "TGklzWmoGhcg"
      }
    },
    {
      "cell_type": "code",
      "source": [
        "ECU_DIFF = ECU.loc[ECU['SUM'] != ECU['CURRENT']]"
      ],
      "metadata": {
        "id": "eDbR4pUaGqpg"
      },
      "execution_count": 8,
      "outputs": []
    },
    {
      "cell_type": "code",
      "source": [
        "ECU_DIFF"
      ],
      "metadata": {
        "colab": {
          "base_uri": "https://localhost:8080/",
          "height": 424
        },
        "id": "Jkc_AaDcG9r9",
        "outputId": "7f0aa5d4-b6ea-4606-efb1-e0da38f8a775"
      },
      "execution_count": 9,
      "outputs": [
        {
          "output_type": "execute_result",
          "data": {
            "text/plain": [
              "              SHIP_ID  D_INDEX  DEVICE_ID  CONTROL   C1   C2   C3   C4   C5  \\\n",
              "0       T140113-00101        1          1       -1    0    0    0    0    0   \n",
              "3       T140113-00104        1          1       34  658  658  657  661  660   \n",
              "6       T140708-00101        1          1       -1    0    0    0    0    0   \n",
              "17       T20191016008        1          1       -1  119  120    0    0    0   \n",
              "29      T170102-00101        2          1       -1    0    0    0    0    0   \n",
              "...               ...      ...        ...      ...  ...  ...  ...  ...  ...   \n",
              "620084   T20200113001    15531          9       34  732  732  732  732    8   \n",
              "620085   T20200113001    15534          9       34  735  735  734  735    8   \n",
              "620086   T20200113001    15537          9       34  731  731  731  731    8   \n",
              "620087   T20200113001    15540          9       34  738  738  738  738    8   \n",
              "620088   T20200113001    15543          9       34  733  733  733  733    8   \n",
              "\n",
              "         C6   C7   C8    TEMP  CURRENT  CONTROL_CURRENT  SYSTEM  SECTION   SUM  \n",
              "0         0    0    0 -9999.0       64               -1       0        0     0  \n",
              "3         4  658  657     3.2     4609             5306       0        0  4613  \n",
              "6         0    0    0 -9999.0      312               -1       0        0     0  \n",
              "17        0    0    0 -9999.0        0               -1       0        0   239  \n",
              "29        0    0    0 -9999.0     1472               -1       0        0     0  \n",
              "...     ...  ...  ...     ...      ...              ...     ...      ...   ...  \n",
              "620084  732  733  732     0.0     5125             5871       1        1  5133  \n",
              "620085  735  734  733     0.0     5141             5871       1        1  5149  \n",
              "620086  731  731  731     0.0     5117             5856       1        1  5125  \n",
              "620087  738  738  738     0.0     5166             5919       1        1  5174  \n",
              "620088  734  733  733     0.0     5132             5877       1        1  5140  \n",
              "\n",
              "[403291 rows x 18 columns]"
            ],
            "text/html": [
              "\n",
              "  <div id=\"df-54d5e559-ab4e-4012-abb8-e8a2d31d8e56\">\n",
              "    <div class=\"colab-df-container\">\n",
              "      <div>\n",
              "<style scoped>\n",
              "    .dataframe tbody tr th:only-of-type {\n",
              "        vertical-align: middle;\n",
              "    }\n",
              "\n",
              "    .dataframe tbody tr th {\n",
              "        vertical-align: top;\n",
              "    }\n",
              "\n",
              "    .dataframe thead th {\n",
              "        text-align: right;\n",
              "    }\n",
              "</style>\n",
              "<table border=\"1\" class=\"dataframe\">\n",
              "  <thead>\n",
              "    <tr style=\"text-align: right;\">\n",
              "      <th></th>\n",
              "      <th>SHIP_ID</th>\n",
              "      <th>D_INDEX</th>\n",
              "      <th>DEVICE_ID</th>\n",
              "      <th>CONTROL</th>\n",
              "      <th>C1</th>\n",
              "      <th>C2</th>\n",
              "      <th>C3</th>\n",
              "      <th>C4</th>\n",
              "      <th>C5</th>\n",
              "      <th>C6</th>\n",
              "      <th>C7</th>\n",
              "      <th>C8</th>\n",
              "      <th>TEMP</th>\n",
              "      <th>CURRENT</th>\n",
              "      <th>CONTROL_CURRENT</th>\n",
              "      <th>SYSTEM</th>\n",
              "      <th>SECTION</th>\n",
              "      <th>SUM</th>\n",
              "    </tr>\n",
              "  </thead>\n",
              "  <tbody>\n",
              "    <tr>\n",
              "      <th>0</th>\n",
              "      <td>T140113-00101</td>\n",
              "      <td>1</td>\n",
              "      <td>1</td>\n",
              "      <td>-1</td>\n",
              "      <td>0</td>\n",
              "      <td>0</td>\n",
              "      <td>0</td>\n",
              "      <td>0</td>\n",
              "      <td>0</td>\n",
              "      <td>0</td>\n",
              "      <td>0</td>\n",
              "      <td>0</td>\n",
              "      <td>-9999.0</td>\n",
              "      <td>64</td>\n",
              "      <td>-1</td>\n",
              "      <td>0</td>\n",
              "      <td>0</td>\n",
              "      <td>0</td>\n",
              "    </tr>\n",
              "    <tr>\n",
              "      <th>3</th>\n",
              "      <td>T140113-00104</td>\n",
              "      <td>1</td>\n",
              "      <td>1</td>\n",
              "      <td>34</td>\n",
              "      <td>658</td>\n",
              "      <td>658</td>\n",
              "      <td>657</td>\n",
              "      <td>661</td>\n",
              "      <td>660</td>\n",
              "      <td>4</td>\n",
              "      <td>658</td>\n",
              "      <td>657</td>\n",
              "      <td>3.2</td>\n",
              "      <td>4609</td>\n",
              "      <td>5306</td>\n",
              "      <td>0</td>\n",
              "      <td>0</td>\n",
              "      <td>4613</td>\n",
              "    </tr>\n",
              "    <tr>\n",
              "      <th>6</th>\n",
              "      <td>T140708-00101</td>\n",
              "      <td>1</td>\n",
              "      <td>1</td>\n",
              "      <td>-1</td>\n",
              "      <td>0</td>\n",
              "      <td>0</td>\n",
              "      <td>0</td>\n",
              "      <td>0</td>\n",
              "      <td>0</td>\n",
              "      <td>0</td>\n",
              "      <td>0</td>\n",
              "      <td>0</td>\n",
              "      <td>-9999.0</td>\n",
              "      <td>312</td>\n",
              "      <td>-1</td>\n",
              "      <td>0</td>\n",
              "      <td>0</td>\n",
              "      <td>0</td>\n",
              "    </tr>\n",
              "    <tr>\n",
              "      <th>17</th>\n",
              "      <td>T20191016008</td>\n",
              "      <td>1</td>\n",
              "      <td>1</td>\n",
              "      <td>-1</td>\n",
              "      <td>119</td>\n",
              "      <td>120</td>\n",
              "      <td>0</td>\n",
              "      <td>0</td>\n",
              "      <td>0</td>\n",
              "      <td>0</td>\n",
              "      <td>0</td>\n",
              "      <td>0</td>\n",
              "      <td>-9999.0</td>\n",
              "      <td>0</td>\n",
              "      <td>-1</td>\n",
              "      <td>0</td>\n",
              "      <td>0</td>\n",
              "      <td>239</td>\n",
              "    </tr>\n",
              "    <tr>\n",
              "      <th>29</th>\n",
              "      <td>T170102-00101</td>\n",
              "      <td>2</td>\n",
              "      <td>1</td>\n",
              "      <td>-1</td>\n",
              "      <td>0</td>\n",
              "      <td>0</td>\n",
              "      <td>0</td>\n",
              "      <td>0</td>\n",
              "      <td>0</td>\n",
              "      <td>0</td>\n",
              "      <td>0</td>\n",
              "      <td>0</td>\n",
              "      <td>-9999.0</td>\n",
              "      <td>1472</td>\n",
              "      <td>-1</td>\n",
              "      <td>0</td>\n",
              "      <td>0</td>\n",
              "      <td>0</td>\n",
              "    </tr>\n",
              "    <tr>\n",
              "      <th>...</th>\n",
              "      <td>...</td>\n",
              "      <td>...</td>\n",
              "      <td>...</td>\n",
              "      <td>...</td>\n",
              "      <td>...</td>\n",
              "      <td>...</td>\n",
              "      <td>...</td>\n",
              "      <td>...</td>\n",
              "      <td>...</td>\n",
              "      <td>...</td>\n",
              "      <td>...</td>\n",
              "      <td>...</td>\n",
              "      <td>...</td>\n",
              "      <td>...</td>\n",
              "      <td>...</td>\n",
              "      <td>...</td>\n",
              "      <td>...</td>\n",
              "      <td>...</td>\n",
              "    </tr>\n",
              "    <tr>\n",
              "      <th>620084</th>\n",
              "      <td>T20200113001</td>\n",
              "      <td>15531</td>\n",
              "      <td>9</td>\n",
              "      <td>34</td>\n",
              "      <td>732</td>\n",
              "      <td>732</td>\n",
              "      <td>732</td>\n",
              "      <td>732</td>\n",
              "      <td>8</td>\n",
              "      <td>732</td>\n",
              "      <td>733</td>\n",
              "      <td>732</td>\n",
              "      <td>0.0</td>\n",
              "      <td>5125</td>\n",
              "      <td>5871</td>\n",
              "      <td>1</td>\n",
              "      <td>1</td>\n",
              "      <td>5133</td>\n",
              "    </tr>\n",
              "    <tr>\n",
              "      <th>620085</th>\n",
              "      <td>T20200113001</td>\n",
              "      <td>15534</td>\n",
              "      <td>9</td>\n",
              "      <td>34</td>\n",
              "      <td>735</td>\n",
              "      <td>735</td>\n",
              "      <td>734</td>\n",
              "      <td>735</td>\n",
              "      <td>8</td>\n",
              "      <td>735</td>\n",
              "      <td>734</td>\n",
              "      <td>733</td>\n",
              "      <td>0.0</td>\n",
              "      <td>5141</td>\n",
              "      <td>5871</td>\n",
              "      <td>1</td>\n",
              "      <td>1</td>\n",
              "      <td>5149</td>\n",
              "    </tr>\n",
              "    <tr>\n",
              "      <th>620086</th>\n",
              "      <td>T20200113001</td>\n",
              "      <td>15537</td>\n",
              "      <td>9</td>\n",
              "      <td>34</td>\n",
              "      <td>731</td>\n",
              "      <td>731</td>\n",
              "      <td>731</td>\n",
              "      <td>731</td>\n",
              "      <td>8</td>\n",
              "      <td>731</td>\n",
              "      <td>731</td>\n",
              "      <td>731</td>\n",
              "      <td>0.0</td>\n",
              "      <td>5117</td>\n",
              "      <td>5856</td>\n",
              "      <td>1</td>\n",
              "      <td>1</td>\n",
              "      <td>5125</td>\n",
              "    </tr>\n",
              "    <tr>\n",
              "      <th>620087</th>\n",
              "      <td>T20200113001</td>\n",
              "      <td>15540</td>\n",
              "      <td>9</td>\n",
              "      <td>34</td>\n",
              "      <td>738</td>\n",
              "      <td>738</td>\n",
              "      <td>738</td>\n",
              "      <td>738</td>\n",
              "      <td>8</td>\n",
              "      <td>738</td>\n",
              "      <td>738</td>\n",
              "      <td>738</td>\n",
              "      <td>0.0</td>\n",
              "      <td>5166</td>\n",
              "      <td>5919</td>\n",
              "      <td>1</td>\n",
              "      <td>1</td>\n",
              "      <td>5174</td>\n",
              "    </tr>\n",
              "    <tr>\n",
              "      <th>620088</th>\n",
              "      <td>T20200113001</td>\n",
              "      <td>15543</td>\n",
              "      <td>9</td>\n",
              "      <td>34</td>\n",
              "      <td>733</td>\n",
              "      <td>733</td>\n",
              "      <td>733</td>\n",
              "      <td>733</td>\n",
              "      <td>8</td>\n",
              "      <td>734</td>\n",
              "      <td>733</td>\n",
              "      <td>733</td>\n",
              "      <td>0.0</td>\n",
              "      <td>5132</td>\n",
              "      <td>5877</td>\n",
              "      <td>1</td>\n",
              "      <td>1</td>\n",
              "      <td>5140</td>\n",
              "    </tr>\n",
              "  </tbody>\n",
              "</table>\n",
              "<p>403291 rows × 18 columns</p>\n",
              "</div>\n",
              "      <button class=\"colab-df-convert\" onclick=\"convertToInteractive('df-54d5e559-ab4e-4012-abb8-e8a2d31d8e56')\"\n",
              "              title=\"Convert this dataframe to an interactive table.\"\n",
              "              style=\"display:none;\">\n",
              "        \n",
              "  <svg xmlns=\"http://www.w3.org/2000/svg\" height=\"24px\"viewBox=\"0 0 24 24\"\n",
              "       width=\"24px\">\n",
              "    <path d=\"M0 0h24v24H0V0z\" fill=\"none\"/>\n",
              "    <path d=\"M18.56 5.44l.94 2.06.94-2.06 2.06-.94-2.06-.94-.94-2.06-.94 2.06-2.06.94zm-11 1L8.5 8.5l.94-2.06 2.06-.94-2.06-.94L8.5 2.5l-.94 2.06-2.06.94zm10 10l.94 2.06.94-2.06 2.06-.94-2.06-.94-.94-2.06-.94 2.06-2.06.94z\"/><path d=\"M17.41 7.96l-1.37-1.37c-.4-.4-.92-.59-1.43-.59-.52 0-1.04.2-1.43.59L10.3 9.45l-7.72 7.72c-.78.78-.78 2.05 0 2.83L4 21.41c.39.39.9.59 1.41.59.51 0 1.02-.2 1.41-.59l7.78-7.78 2.81-2.81c.8-.78.8-2.07 0-2.86zM5.41 20L4 18.59l7.72-7.72 1.47 1.35L5.41 20z\"/>\n",
              "  </svg>\n",
              "      </button>\n",
              "      \n",
              "  <style>\n",
              "    .colab-df-container {\n",
              "      display:flex;\n",
              "      flex-wrap:wrap;\n",
              "      gap: 12px;\n",
              "    }\n",
              "\n",
              "    .colab-df-convert {\n",
              "      background-color: #E8F0FE;\n",
              "      border: none;\n",
              "      border-radius: 50%;\n",
              "      cursor: pointer;\n",
              "      display: none;\n",
              "      fill: #1967D2;\n",
              "      height: 32px;\n",
              "      padding: 0 0 0 0;\n",
              "      width: 32px;\n",
              "    }\n",
              "\n",
              "    .colab-df-convert:hover {\n",
              "      background-color: #E2EBFA;\n",
              "      box-shadow: 0px 1px 2px rgba(60, 64, 67, 0.3), 0px 1px 3px 1px rgba(60, 64, 67, 0.15);\n",
              "      fill: #174EA6;\n",
              "    }\n",
              "\n",
              "    [theme=dark] .colab-df-convert {\n",
              "      background-color: #3B4455;\n",
              "      fill: #D2E3FC;\n",
              "    }\n",
              "\n",
              "    [theme=dark] .colab-df-convert:hover {\n",
              "      background-color: #434B5C;\n",
              "      box-shadow: 0px 1px 3px 1px rgba(0, 0, 0, 0.15);\n",
              "      filter: drop-shadow(0px 1px 2px rgba(0, 0, 0, 0.3));\n",
              "      fill: #FFFFFF;\n",
              "    }\n",
              "  </style>\n",
              "\n",
              "      <script>\n",
              "        const buttonEl =\n",
              "          document.querySelector('#df-54d5e559-ab4e-4012-abb8-e8a2d31d8e56 button.colab-df-convert');\n",
              "        buttonEl.style.display =\n",
              "          google.colab.kernel.accessAllowed ? 'block' : 'none';\n",
              "\n",
              "        async function convertToInteractive(key) {\n",
              "          const element = document.querySelector('#df-54d5e559-ab4e-4012-abb8-e8a2d31d8e56');\n",
              "          const dataTable =\n",
              "            await google.colab.kernel.invokeFunction('convertToInteractive',\n",
              "                                                     [key], {});\n",
              "          if (!dataTable) return;\n",
              "\n",
              "          const docLinkHtml = 'Like what you see? Visit the ' +\n",
              "            '<a target=\"_blank\" href=https://colab.research.google.com/notebooks/data_table.ipynb>data table notebook</a>'\n",
              "            + ' to learn more about interactive tables.';\n",
              "          element.innerHTML = '';\n",
              "          dataTable['output_type'] = 'display_data';\n",
              "          await google.colab.output.renderOutput(dataTable, element);\n",
              "          const docLink = document.createElement('div');\n",
              "          docLink.innerHTML = docLinkHtml;\n",
              "          element.appendChild(docLink);\n",
              "        }\n",
              "      </script>\n",
              "    </div>\n",
              "  </div>\n",
              "  "
            ]
          },
          "metadata": {},
          "execution_count": 9
        }
      ]
    },
    {
      "cell_type": "markdown",
      "source": [
        "403291개의 행들이 C1~C8의 합과 CURRENT의 값이 다르다는 사실을 알 수 있다."
      ],
      "metadata": {
        "id": "FOh20WMdGupB"
      }
    },
    {
      "cell_type": "markdown",
      "source": [
        "# C1~C8까지의 합과 CURRENT의 값이 같을 때\n",
        "\n",
        "- ECU_SAME 테이블은 C1~C8까지의 합과 CURRENT의 값이 같을 때를 모두 모아놓은 데이터 셋이다.\n",
        "\n",
        "- CONTROL, TEMP가 어떻게 형성되는지 파악할 것이다.\n",
        "\n",
        "- 같을 때의 SHIP_ID/SECTION/DEVICE_ID를 파악할 것이다."
      ],
      "metadata": {
        "id": "6GrO-IMLHDmd"
      }
    },
    {
      "cell_type": "markdown",
      "source": [
        "**CONTROL의 의미**\n",
        "\n",
        "\n",
        "\n",
        "```\n",
        "- -1 \n",
        "  - 부호 절대값: 10000001\n",
        "  - 1의 보수 : 11111110\n",
        "  - 2의 보수 : 11111111\n",
        "    (#default or null 로 해석?)\n",
        "- 34 : 00100010\n",
        "- 0 : 00000000\n",
        "- 33 : 00100001\n",
        "- 160 : 10100000\n",
        "- 32 : 00100000\n",
        "- 1 : 00000001\n",
        "- 40 : 00101000\n",
        "```"
      ],
      "metadata": {
        "id": "ToP2eJdPIe7E"
      }
    },
    {
      "cell_type": "code",
      "source": [
        "ECU_SAME['CONTROL'].value_counts()"
      ],
      "metadata": {
        "colab": {
          "base_uri": "https://localhost:8080/"
        },
        "id": "ZxURsxaqHDeJ",
        "outputId": "3ab7a97e-8d10-4162-d6cd-22c0c7de8081"
      },
      "execution_count": 10,
      "outputs": [
        {
          "output_type": "execute_result",
          "data": {
            "text/plain": [
              " 34     94604\n",
              "-1      78521\n",
              " 0      44055\n",
              " 33        55\n",
              " 160        3\n",
              " 32         3\n",
              " 1          2\n",
              " 40         1\n",
              "Name: CONTROL, dtype: int64"
            ]
          },
          "metadata": {},
          "execution_count": 10
        }
      ]
    },
    {
      "cell_type": "markdown",
      "source": [
        "## CONTROL이 -1일 때"
      ],
      "metadata": {
        "id": "Y4BXYg0mMIRy"
      }
    },
    {
      "cell_type": "markdown",
      "source": [
        "### TEMP의 분포"
      ],
      "metadata": {
        "id": "TqCbdOoINKK9"
      }
    },
    {
      "cell_type": "code",
      "source": [
        "ECU_SAME_m1=ECU_SAME.loc[ECU_SAME['CONTROL'] == -1,:]\n",
        "ECU_SAME_m1"
      ],
      "metadata": {
        "colab": {
          "base_uri": "https://localhost:8080/",
          "height": 424
        },
        "id": "-8Za2ScoL-xO",
        "outputId": "5eec6184-aeef-4bc0-f9c9-9186280f37f8"
      },
      "execution_count": 11,
      "outputs": [
        {
          "output_type": "execute_result",
          "data": {
            "text/plain": [
              "              SHIP_ID  D_INDEX  DEVICE_ID  CONTROL   C1   C2   C3   C4   C5  \\\n",
              "1       T140113-00102        1          1       -1    0    0    0    0    0   \n",
              "4       T140128-00703        1          1       -1    0    0    0    0    0   \n",
              "8       T160127-00202        1          1       -1    0    0    0    0    0   \n",
              "9       T170102-00101        1          1       -1    0    0    0    0    0   \n",
              "12       T20181218003        1          1       -1    0    0    0    0    0   \n",
              "...               ...      ...        ...      ...  ...  ...  ...  ...  ...   \n",
              "617216   T20190115004     6924          8       -1  869  869  869  870  869   \n",
              "617217   T20190115004     6928          8       -1  868  868  868  868  868   \n",
              "617218   T20190115004     6932          8       -1  872  872  872  872  872   \n",
              "617221   T20190115004     6936          8       -1  871  870  871  870  871   \n",
              "617228   T20190115004     6948          8       -1  862  862  862  862  862   \n",
              "\n",
              "         C6   C7   C8    TEMP  CURRENT  CONTROL_CURRENT  SYSTEM  SECTION   SUM  \n",
              "1         0    0    0 -9999.0        0               -1       0        0     0  \n",
              "4         0    0    0 -9999.0        0               -1       0        0     0  \n",
              "8         0    0    0 -9999.0        0               -1       0        0     0  \n",
              "9         0    0    0 -9999.0        0               -1       0        0     0  \n",
              "12        0    0    0 -9999.0        0               -1       0        0     0  \n",
              "...     ...  ...  ...     ...      ...              ...     ...      ...   ...  \n",
              "617216  869  870  869 -9999.0     6954               -1       0        0  6954  \n",
              "617217  868  868  869 -9999.0     6945               -1       0        0  6945  \n",
              "617218  872  872  873 -9999.0     6977               -1       0        0  6977  \n",
              "617221  870  871  870 -9999.0     6964               -1       0        0  6964  \n",
              "617228  862  862  862 -9999.0     6896               -1       0        0  6896  \n",
              "\n",
              "[78521 rows x 18 columns]"
            ],
            "text/html": [
              "\n",
              "  <div id=\"df-64ef4a3d-dfad-4dee-a8f7-3860ba30d238\">\n",
              "    <div class=\"colab-df-container\">\n",
              "      <div>\n",
              "<style scoped>\n",
              "    .dataframe tbody tr th:only-of-type {\n",
              "        vertical-align: middle;\n",
              "    }\n",
              "\n",
              "    .dataframe tbody tr th {\n",
              "        vertical-align: top;\n",
              "    }\n",
              "\n",
              "    .dataframe thead th {\n",
              "        text-align: right;\n",
              "    }\n",
              "</style>\n",
              "<table border=\"1\" class=\"dataframe\">\n",
              "  <thead>\n",
              "    <tr style=\"text-align: right;\">\n",
              "      <th></th>\n",
              "      <th>SHIP_ID</th>\n",
              "      <th>D_INDEX</th>\n",
              "      <th>DEVICE_ID</th>\n",
              "      <th>CONTROL</th>\n",
              "      <th>C1</th>\n",
              "      <th>C2</th>\n",
              "      <th>C3</th>\n",
              "      <th>C4</th>\n",
              "      <th>C5</th>\n",
              "      <th>C6</th>\n",
              "      <th>C7</th>\n",
              "      <th>C8</th>\n",
              "      <th>TEMP</th>\n",
              "      <th>CURRENT</th>\n",
              "      <th>CONTROL_CURRENT</th>\n",
              "      <th>SYSTEM</th>\n",
              "      <th>SECTION</th>\n",
              "      <th>SUM</th>\n",
              "    </tr>\n",
              "  </thead>\n",
              "  <tbody>\n",
              "    <tr>\n",
              "      <th>1</th>\n",
              "      <td>T140113-00102</td>\n",
              "      <td>1</td>\n",
              "      <td>1</td>\n",
              "      <td>-1</td>\n",
              "      <td>0</td>\n",
              "      <td>0</td>\n",
              "      <td>0</td>\n",
              "      <td>0</td>\n",
              "      <td>0</td>\n",
              "      <td>0</td>\n",
              "      <td>0</td>\n",
              "      <td>0</td>\n",
              "      <td>-9999.0</td>\n",
              "      <td>0</td>\n",
              "      <td>-1</td>\n",
              "      <td>0</td>\n",
              "      <td>0</td>\n",
              "      <td>0</td>\n",
              "    </tr>\n",
              "    <tr>\n",
              "      <th>4</th>\n",
              "      <td>T140128-00703</td>\n",
              "      <td>1</td>\n",
              "      <td>1</td>\n",
              "      <td>-1</td>\n",
              "      <td>0</td>\n",
              "      <td>0</td>\n",
              "      <td>0</td>\n",
              "      <td>0</td>\n",
              "      <td>0</td>\n",
              "      <td>0</td>\n",
              "      <td>0</td>\n",
              "      <td>0</td>\n",
              "      <td>-9999.0</td>\n",
              "      <td>0</td>\n",
              "      <td>-1</td>\n",
              "      <td>0</td>\n",
              "      <td>0</td>\n",
              "      <td>0</td>\n",
              "    </tr>\n",
              "    <tr>\n",
              "      <th>8</th>\n",
              "      <td>T160127-00202</td>\n",
              "      <td>1</td>\n",
              "      <td>1</td>\n",
              "      <td>-1</td>\n",
              "      <td>0</td>\n",
              "      <td>0</td>\n",
              "      <td>0</td>\n",
              "      <td>0</td>\n",
              "      <td>0</td>\n",
              "      <td>0</td>\n",
              "      <td>0</td>\n",
              "      <td>0</td>\n",
              "      <td>-9999.0</td>\n",
              "      <td>0</td>\n",
              "      <td>-1</td>\n",
              "      <td>0</td>\n",
              "      <td>0</td>\n",
              "      <td>0</td>\n",
              "    </tr>\n",
              "    <tr>\n",
              "      <th>9</th>\n",
              "      <td>T170102-00101</td>\n",
              "      <td>1</td>\n",
              "      <td>1</td>\n",
              "      <td>-1</td>\n",
              "      <td>0</td>\n",
              "      <td>0</td>\n",
              "      <td>0</td>\n",
              "      <td>0</td>\n",
              "      <td>0</td>\n",
              "      <td>0</td>\n",
              "      <td>0</td>\n",
              "      <td>0</td>\n",
              "      <td>-9999.0</td>\n",
              "      <td>0</td>\n",
              "      <td>-1</td>\n",
              "      <td>0</td>\n",
              "      <td>0</td>\n",
              "      <td>0</td>\n",
              "    </tr>\n",
              "    <tr>\n",
              "      <th>12</th>\n",
              "      <td>T20181218003</td>\n",
              "      <td>1</td>\n",
              "      <td>1</td>\n",
              "      <td>-1</td>\n",
              "      <td>0</td>\n",
              "      <td>0</td>\n",
              "      <td>0</td>\n",
              "      <td>0</td>\n",
              "      <td>0</td>\n",
              "      <td>0</td>\n",
              "      <td>0</td>\n",
              "      <td>0</td>\n",
              "      <td>-9999.0</td>\n",
              "      <td>0</td>\n",
              "      <td>-1</td>\n",
              "      <td>0</td>\n",
              "      <td>0</td>\n",
              "      <td>0</td>\n",
              "    </tr>\n",
              "    <tr>\n",
              "      <th>...</th>\n",
              "      <td>...</td>\n",
              "      <td>...</td>\n",
              "      <td>...</td>\n",
              "      <td>...</td>\n",
              "      <td>...</td>\n",
              "      <td>...</td>\n",
              "      <td>...</td>\n",
              "      <td>...</td>\n",
              "      <td>...</td>\n",
              "      <td>...</td>\n",
              "      <td>...</td>\n",
              "      <td>...</td>\n",
              "      <td>...</td>\n",
              "      <td>...</td>\n",
              "      <td>...</td>\n",
              "      <td>...</td>\n",
              "      <td>...</td>\n",
              "      <td>...</td>\n",
              "    </tr>\n",
              "    <tr>\n",
              "      <th>617216</th>\n",
              "      <td>T20190115004</td>\n",
              "      <td>6924</td>\n",
              "      <td>8</td>\n",
              "      <td>-1</td>\n",
              "      <td>869</td>\n",
              "      <td>869</td>\n",
              "      <td>869</td>\n",
              "      <td>870</td>\n",
              "      <td>869</td>\n",
              "      <td>869</td>\n",
              "      <td>870</td>\n",
              "      <td>869</td>\n",
              "      <td>-9999.0</td>\n",
              "      <td>6954</td>\n",
              "      <td>-1</td>\n",
              "      <td>0</td>\n",
              "      <td>0</td>\n",
              "      <td>6954</td>\n",
              "    </tr>\n",
              "    <tr>\n",
              "      <th>617217</th>\n",
              "      <td>T20190115004</td>\n",
              "      <td>6928</td>\n",
              "      <td>8</td>\n",
              "      <td>-1</td>\n",
              "      <td>868</td>\n",
              "      <td>868</td>\n",
              "      <td>868</td>\n",
              "      <td>868</td>\n",
              "      <td>868</td>\n",
              "      <td>868</td>\n",
              "      <td>868</td>\n",
              "      <td>869</td>\n",
              "      <td>-9999.0</td>\n",
              "      <td>6945</td>\n",
              "      <td>-1</td>\n",
              "      <td>0</td>\n",
              "      <td>0</td>\n",
              "      <td>6945</td>\n",
              "    </tr>\n",
              "    <tr>\n",
              "      <th>617218</th>\n",
              "      <td>T20190115004</td>\n",
              "      <td>6932</td>\n",
              "      <td>8</td>\n",
              "      <td>-1</td>\n",
              "      <td>872</td>\n",
              "      <td>872</td>\n",
              "      <td>872</td>\n",
              "      <td>872</td>\n",
              "      <td>872</td>\n",
              "      <td>872</td>\n",
              "      <td>872</td>\n",
              "      <td>873</td>\n",
              "      <td>-9999.0</td>\n",
              "      <td>6977</td>\n",
              "      <td>-1</td>\n",
              "      <td>0</td>\n",
              "      <td>0</td>\n",
              "      <td>6977</td>\n",
              "    </tr>\n",
              "    <tr>\n",
              "      <th>617221</th>\n",
              "      <td>T20190115004</td>\n",
              "      <td>6936</td>\n",
              "      <td>8</td>\n",
              "      <td>-1</td>\n",
              "      <td>871</td>\n",
              "      <td>870</td>\n",
              "      <td>871</td>\n",
              "      <td>870</td>\n",
              "      <td>871</td>\n",
              "      <td>870</td>\n",
              "      <td>871</td>\n",
              "      <td>870</td>\n",
              "      <td>-9999.0</td>\n",
              "      <td>6964</td>\n",
              "      <td>-1</td>\n",
              "      <td>0</td>\n",
              "      <td>0</td>\n",
              "      <td>6964</td>\n",
              "    </tr>\n",
              "    <tr>\n",
              "      <th>617228</th>\n",
              "      <td>T20190115004</td>\n",
              "      <td>6948</td>\n",
              "      <td>8</td>\n",
              "      <td>-1</td>\n",
              "      <td>862</td>\n",
              "      <td>862</td>\n",
              "      <td>862</td>\n",
              "      <td>862</td>\n",
              "      <td>862</td>\n",
              "      <td>862</td>\n",
              "      <td>862</td>\n",
              "      <td>862</td>\n",
              "      <td>-9999.0</td>\n",
              "      <td>6896</td>\n",
              "      <td>-1</td>\n",
              "      <td>0</td>\n",
              "      <td>0</td>\n",
              "      <td>6896</td>\n",
              "    </tr>\n",
              "  </tbody>\n",
              "</table>\n",
              "<p>78521 rows × 18 columns</p>\n",
              "</div>\n",
              "      <button class=\"colab-df-convert\" onclick=\"convertToInteractive('df-64ef4a3d-dfad-4dee-a8f7-3860ba30d238')\"\n",
              "              title=\"Convert this dataframe to an interactive table.\"\n",
              "              style=\"display:none;\">\n",
              "        \n",
              "  <svg xmlns=\"http://www.w3.org/2000/svg\" height=\"24px\"viewBox=\"0 0 24 24\"\n",
              "       width=\"24px\">\n",
              "    <path d=\"M0 0h24v24H0V0z\" fill=\"none\"/>\n",
              "    <path d=\"M18.56 5.44l.94 2.06.94-2.06 2.06-.94-2.06-.94-.94-2.06-.94 2.06-2.06.94zm-11 1L8.5 8.5l.94-2.06 2.06-.94-2.06-.94L8.5 2.5l-.94 2.06-2.06.94zm10 10l.94 2.06.94-2.06 2.06-.94-2.06-.94-.94-2.06-.94 2.06-2.06.94z\"/><path d=\"M17.41 7.96l-1.37-1.37c-.4-.4-.92-.59-1.43-.59-.52 0-1.04.2-1.43.59L10.3 9.45l-7.72 7.72c-.78.78-.78 2.05 0 2.83L4 21.41c.39.39.9.59 1.41.59.51 0 1.02-.2 1.41-.59l7.78-7.78 2.81-2.81c.8-.78.8-2.07 0-2.86zM5.41 20L4 18.59l7.72-7.72 1.47 1.35L5.41 20z\"/>\n",
              "  </svg>\n",
              "      </button>\n",
              "      \n",
              "  <style>\n",
              "    .colab-df-container {\n",
              "      display:flex;\n",
              "      flex-wrap:wrap;\n",
              "      gap: 12px;\n",
              "    }\n",
              "\n",
              "    .colab-df-convert {\n",
              "      background-color: #E8F0FE;\n",
              "      border: none;\n",
              "      border-radius: 50%;\n",
              "      cursor: pointer;\n",
              "      display: none;\n",
              "      fill: #1967D2;\n",
              "      height: 32px;\n",
              "      padding: 0 0 0 0;\n",
              "      width: 32px;\n",
              "    }\n",
              "\n",
              "    .colab-df-convert:hover {\n",
              "      background-color: #E2EBFA;\n",
              "      box-shadow: 0px 1px 2px rgba(60, 64, 67, 0.3), 0px 1px 3px 1px rgba(60, 64, 67, 0.15);\n",
              "      fill: #174EA6;\n",
              "    }\n",
              "\n",
              "    [theme=dark] .colab-df-convert {\n",
              "      background-color: #3B4455;\n",
              "      fill: #D2E3FC;\n",
              "    }\n",
              "\n",
              "    [theme=dark] .colab-df-convert:hover {\n",
              "      background-color: #434B5C;\n",
              "      box-shadow: 0px 1px 3px 1px rgba(0, 0, 0, 0.15);\n",
              "      filter: drop-shadow(0px 1px 2px rgba(0, 0, 0, 0.3));\n",
              "      fill: #FFFFFF;\n",
              "    }\n",
              "  </style>\n",
              "\n",
              "      <script>\n",
              "        const buttonEl =\n",
              "          document.querySelector('#df-64ef4a3d-dfad-4dee-a8f7-3860ba30d238 button.colab-df-convert');\n",
              "        buttonEl.style.display =\n",
              "          google.colab.kernel.accessAllowed ? 'block' : 'none';\n",
              "\n",
              "        async function convertToInteractive(key) {\n",
              "          const element = document.querySelector('#df-64ef4a3d-dfad-4dee-a8f7-3860ba30d238');\n",
              "          const dataTable =\n",
              "            await google.colab.kernel.invokeFunction('convertToInteractive',\n",
              "                                                     [key], {});\n",
              "          if (!dataTable) return;\n",
              "\n",
              "          const docLinkHtml = 'Like what you see? Visit the ' +\n",
              "            '<a target=\"_blank\" href=https://colab.research.google.com/notebooks/data_table.ipynb>data table notebook</a>'\n",
              "            + ' to learn more about interactive tables.';\n",
              "          element.innerHTML = '';\n",
              "          dataTable['output_type'] = 'display_data';\n",
              "          await google.colab.output.renderOutput(dataTable, element);\n",
              "          const docLink = document.createElement('div');\n",
              "          docLink.innerHTML = docLinkHtml;\n",
              "          element.appendChild(docLink);\n",
              "        }\n",
              "      </script>\n",
              "    </div>\n",
              "  </div>\n",
              "  "
            ]
          },
          "metadata": {},
          "execution_count": 11
        }
      ]
    },
    {
      "cell_type": "code",
      "source": [
        "ECU_SAME_m1['TEMP'].unique()"
      ],
      "metadata": {
        "colab": {
          "base_uri": "https://localhost:8080/"
        },
        "id": "HReMHVbNHDVZ",
        "outputId": "51b96bed-5d0a-4b20-feb5-e25eb9789b04"
      },
      "execution_count": 14,
      "outputs": [
        {
          "output_type": "execute_result",
          "data": {
            "text/plain": [
              "array([-9999.])"
            ]
          },
          "metadata": {},
          "execution_count": 14
        }
      ]
    },
    {
      "cell_type": "markdown",
      "source": [
        "control = -1 일 때, 온도가 모두 -9999인 것이 확인되었다."
      ],
      "metadata": {
        "id": "VKcX1mrAMzlN"
      }
    },
    {
      "cell_type": "markdown",
      "source": [
        "### CONTROL_CURRENT\n",
        "\n",
        "- CURRENT의 목표값을 설정하는 곳\n",
        "\n",
        "- CURRENT의 목표값과 실제 CURRENT가 일치하면 가장 최적이고, 비슷해도 최적이라고 할 수 있다. 하지만, 너무 엇나가버리면, 목표치를 달성하지 않았다는 의미로 받아들여도 된다."
      ],
      "metadata": {
        "id": "VXkEl07WQHxw"
      }
    },
    {
      "cell_type": "code",
      "source": [
        "ECU_SAME_m1['CONTROL_CURRENT'].unique()"
      ],
      "metadata": {
        "colab": {
          "base_uri": "https://localhost:8080/"
        },
        "id": "_jHvtS9tPyO9",
        "outputId": "dce6ddd2-b99c-44ef-d053-398976bbf066"
      },
      "execution_count": 17,
      "outputs": [
        {
          "output_type": "execute_result",
          "data": {
            "text/plain": [
              "array([-1])"
            ]
          },
          "metadata": {},
          "execution_count": 17
        }
      ]
    },
    {
      "cell_type": "markdown",
      "source": [
        "CONTROL_CURRENT가 모두 -1로써, 디폴트 값으로 기록되고 있다. 이 경우 CURRENT가 0이어야 하는 것으로 \"*추측*\"된다."
      ],
      "metadata": {
        "id": "m7482ZsjQXVN"
      }
    },
    {
      "cell_type": "code",
      "source": [
        "ECU_SAME_m1[ECU_SAME_m1['SUM'] != 0]"
      ],
      "metadata": {
        "colab": {
          "base_uri": "https://localhost:8080/",
          "height": 424
        },
        "id": "Dl1RvtWhQvf1",
        "outputId": "5041af25-02f8-436f-9905-eef8acdecdc7"
      },
      "execution_count": 19,
      "outputs": [
        {
          "output_type": "execute_result",
          "data": {
            "text/plain": [
              "             SHIP_ID  D_INDEX  DEVICE_ID  CONTROL   C1   C2   C3   C4   C5  \\\n",
              "38      T20181218003        3          1       -1  900  900    0    0    0   \n",
              "39      T20190324001        3          1       -1  751  751  752  751  752   \n",
              "59      T20201210005        4          1       -1  877  877  877  877  877   \n",
              "60      T20201210006        4          1       -1  546  545  546  545  546   \n",
              "69      T20181218003        5          1       -1  898  899    0    0    0   \n",
              "...              ...      ...        ...      ...  ...  ...  ...  ...  ...   \n",
              "617216  T20190115004     6924          8       -1  869  869  869  870  869   \n",
              "617217  T20190115004     6928          8       -1  868  868  868  868  868   \n",
              "617218  T20190115004     6932          8       -1  872  872  872  872  872   \n",
              "617221  T20190115004     6936          8       -1  871  870  871  870  871   \n",
              "617228  T20190115004     6948          8       -1  862  862  862  862  862   \n",
              "\n",
              "         C6   C7   C8    TEMP  CURRENT  CONTROL_CURRENT  SYSTEM  SECTION   SUM  \n",
              "38        0    0    0 -9999.0     1800               -1       0        0  1800  \n",
              "39      751  752  751 -9999.0     6011               -1       0        0  6011  \n",
              "59      877  877  877 -9999.0     7016               -1       0        0  7016  \n",
              "60      545  545  546 -9999.0     4364               -1       0        0  4364  \n",
              "69        0    0    0 -9999.0     1797               -1       0        0  1797  \n",
              "...     ...  ...  ...     ...      ...              ...     ...      ...   ...  \n",
              "617216  869  870  869 -9999.0     6954               -1       0        0  6954  \n",
              "617217  868  868  869 -9999.0     6945               -1       0        0  6945  \n",
              "617218  872  872  873 -9999.0     6977               -1       0        0  6977  \n",
              "617221  870  871  870 -9999.0     6964               -1       0        0  6964  \n",
              "617228  862  862  862 -9999.0     6896               -1       0        0  6896  \n",
              "\n",
              "[42616 rows x 18 columns]"
            ],
            "text/html": [
              "\n",
              "  <div id=\"df-fdacf685-ad31-4007-b6d2-1aceb581608a\">\n",
              "    <div class=\"colab-df-container\">\n",
              "      <div>\n",
              "<style scoped>\n",
              "    .dataframe tbody tr th:only-of-type {\n",
              "        vertical-align: middle;\n",
              "    }\n",
              "\n",
              "    .dataframe tbody tr th {\n",
              "        vertical-align: top;\n",
              "    }\n",
              "\n",
              "    .dataframe thead th {\n",
              "        text-align: right;\n",
              "    }\n",
              "</style>\n",
              "<table border=\"1\" class=\"dataframe\">\n",
              "  <thead>\n",
              "    <tr style=\"text-align: right;\">\n",
              "      <th></th>\n",
              "      <th>SHIP_ID</th>\n",
              "      <th>D_INDEX</th>\n",
              "      <th>DEVICE_ID</th>\n",
              "      <th>CONTROL</th>\n",
              "      <th>C1</th>\n",
              "      <th>C2</th>\n",
              "      <th>C3</th>\n",
              "      <th>C4</th>\n",
              "      <th>C5</th>\n",
              "      <th>C6</th>\n",
              "      <th>C7</th>\n",
              "      <th>C8</th>\n",
              "      <th>TEMP</th>\n",
              "      <th>CURRENT</th>\n",
              "      <th>CONTROL_CURRENT</th>\n",
              "      <th>SYSTEM</th>\n",
              "      <th>SECTION</th>\n",
              "      <th>SUM</th>\n",
              "    </tr>\n",
              "  </thead>\n",
              "  <tbody>\n",
              "    <tr>\n",
              "      <th>38</th>\n",
              "      <td>T20181218003</td>\n",
              "      <td>3</td>\n",
              "      <td>1</td>\n",
              "      <td>-1</td>\n",
              "      <td>900</td>\n",
              "      <td>900</td>\n",
              "      <td>0</td>\n",
              "      <td>0</td>\n",
              "      <td>0</td>\n",
              "      <td>0</td>\n",
              "      <td>0</td>\n",
              "      <td>0</td>\n",
              "      <td>-9999.0</td>\n",
              "      <td>1800</td>\n",
              "      <td>-1</td>\n",
              "      <td>0</td>\n",
              "      <td>0</td>\n",
              "      <td>1800</td>\n",
              "    </tr>\n",
              "    <tr>\n",
              "      <th>39</th>\n",
              "      <td>T20190324001</td>\n",
              "      <td>3</td>\n",
              "      <td>1</td>\n",
              "      <td>-1</td>\n",
              "      <td>751</td>\n",
              "      <td>751</td>\n",
              "      <td>752</td>\n",
              "      <td>751</td>\n",
              "      <td>752</td>\n",
              "      <td>751</td>\n",
              "      <td>752</td>\n",
              "      <td>751</td>\n",
              "      <td>-9999.0</td>\n",
              "      <td>6011</td>\n",
              "      <td>-1</td>\n",
              "      <td>0</td>\n",
              "      <td>0</td>\n",
              "      <td>6011</td>\n",
              "    </tr>\n",
              "    <tr>\n",
              "      <th>59</th>\n",
              "      <td>T20201210005</td>\n",
              "      <td>4</td>\n",
              "      <td>1</td>\n",
              "      <td>-1</td>\n",
              "      <td>877</td>\n",
              "      <td>877</td>\n",
              "      <td>877</td>\n",
              "      <td>877</td>\n",
              "      <td>877</td>\n",
              "      <td>877</td>\n",
              "      <td>877</td>\n",
              "      <td>877</td>\n",
              "      <td>-9999.0</td>\n",
              "      <td>7016</td>\n",
              "      <td>-1</td>\n",
              "      <td>0</td>\n",
              "      <td>0</td>\n",
              "      <td>7016</td>\n",
              "    </tr>\n",
              "    <tr>\n",
              "      <th>60</th>\n",
              "      <td>T20201210006</td>\n",
              "      <td>4</td>\n",
              "      <td>1</td>\n",
              "      <td>-1</td>\n",
              "      <td>546</td>\n",
              "      <td>545</td>\n",
              "      <td>546</td>\n",
              "      <td>545</td>\n",
              "      <td>546</td>\n",
              "      <td>545</td>\n",
              "      <td>545</td>\n",
              "      <td>546</td>\n",
              "      <td>-9999.0</td>\n",
              "      <td>4364</td>\n",
              "      <td>-1</td>\n",
              "      <td>0</td>\n",
              "      <td>0</td>\n",
              "      <td>4364</td>\n",
              "    </tr>\n",
              "    <tr>\n",
              "      <th>69</th>\n",
              "      <td>T20181218003</td>\n",
              "      <td>5</td>\n",
              "      <td>1</td>\n",
              "      <td>-1</td>\n",
              "      <td>898</td>\n",
              "      <td>899</td>\n",
              "      <td>0</td>\n",
              "      <td>0</td>\n",
              "      <td>0</td>\n",
              "      <td>0</td>\n",
              "      <td>0</td>\n",
              "      <td>0</td>\n",
              "      <td>-9999.0</td>\n",
              "      <td>1797</td>\n",
              "      <td>-1</td>\n",
              "      <td>0</td>\n",
              "      <td>0</td>\n",
              "      <td>1797</td>\n",
              "    </tr>\n",
              "    <tr>\n",
              "      <th>...</th>\n",
              "      <td>...</td>\n",
              "      <td>...</td>\n",
              "      <td>...</td>\n",
              "      <td>...</td>\n",
              "      <td>...</td>\n",
              "      <td>...</td>\n",
              "      <td>...</td>\n",
              "      <td>...</td>\n",
              "      <td>...</td>\n",
              "      <td>...</td>\n",
              "      <td>...</td>\n",
              "      <td>...</td>\n",
              "      <td>...</td>\n",
              "      <td>...</td>\n",
              "      <td>...</td>\n",
              "      <td>...</td>\n",
              "      <td>...</td>\n",
              "      <td>...</td>\n",
              "    </tr>\n",
              "    <tr>\n",
              "      <th>617216</th>\n",
              "      <td>T20190115004</td>\n",
              "      <td>6924</td>\n",
              "      <td>8</td>\n",
              "      <td>-1</td>\n",
              "      <td>869</td>\n",
              "      <td>869</td>\n",
              "      <td>869</td>\n",
              "      <td>870</td>\n",
              "      <td>869</td>\n",
              "      <td>869</td>\n",
              "      <td>870</td>\n",
              "      <td>869</td>\n",
              "      <td>-9999.0</td>\n",
              "      <td>6954</td>\n",
              "      <td>-1</td>\n",
              "      <td>0</td>\n",
              "      <td>0</td>\n",
              "      <td>6954</td>\n",
              "    </tr>\n",
              "    <tr>\n",
              "      <th>617217</th>\n",
              "      <td>T20190115004</td>\n",
              "      <td>6928</td>\n",
              "      <td>8</td>\n",
              "      <td>-1</td>\n",
              "      <td>868</td>\n",
              "      <td>868</td>\n",
              "      <td>868</td>\n",
              "      <td>868</td>\n",
              "      <td>868</td>\n",
              "      <td>868</td>\n",
              "      <td>868</td>\n",
              "      <td>869</td>\n",
              "      <td>-9999.0</td>\n",
              "      <td>6945</td>\n",
              "      <td>-1</td>\n",
              "      <td>0</td>\n",
              "      <td>0</td>\n",
              "      <td>6945</td>\n",
              "    </tr>\n",
              "    <tr>\n",
              "      <th>617218</th>\n",
              "      <td>T20190115004</td>\n",
              "      <td>6932</td>\n",
              "      <td>8</td>\n",
              "      <td>-1</td>\n",
              "      <td>872</td>\n",
              "      <td>872</td>\n",
              "      <td>872</td>\n",
              "      <td>872</td>\n",
              "      <td>872</td>\n",
              "      <td>872</td>\n",
              "      <td>872</td>\n",
              "      <td>873</td>\n",
              "      <td>-9999.0</td>\n",
              "      <td>6977</td>\n",
              "      <td>-1</td>\n",
              "      <td>0</td>\n",
              "      <td>0</td>\n",
              "      <td>6977</td>\n",
              "    </tr>\n",
              "    <tr>\n",
              "      <th>617221</th>\n",
              "      <td>T20190115004</td>\n",
              "      <td>6936</td>\n",
              "      <td>8</td>\n",
              "      <td>-1</td>\n",
              "      <td>871</td>\n",
              "      <td>870</td>\n",
              "      <td>871</td>\n",
              "      <td>870</td>\n",
              "      <td>871</td>\n",
              "      <td>870</td>\n",
              "      <td>871</td>\n",
              "      <td>870</td>\n",
              "      <td>-9999.0</td>\n",
              "      <td>6964</td>\n",
              "      <td>-1</td>\n",
              "      <td>0</td>\n",
              "      <td>0</td>\n",
              "      <td>6964</td>\n",
              "    </tr>\n",
              "    <tr>\n",
              "      <th>617228</th>\n",
              "      <td>T20190115004</td>\n",
              "      <td>6948</td>\n",
              "      <td>8</td>\n",
              "      <td>-1</td>\n",
              "      <td>862</td>\n",
              "      <td>862</td>\n",
              "      <td>862</td>\n",
              "      <td>862</td>\n",
              "      <td>862</td>\n",
              "      <td>862</td>\n",
              "      <td>862</td>\n",
              "      <td>862</td>\n",
              "      <td>-9999.0</td>\n",
              "      <td>6896</td>\n",
              "      <td>-1</td>\n",
              "      <td>0</td>\n",
              "      <td>0</td>\n",
              "      <td>6896</td>\n",
              "    </tr>\n",
              "  </tbody>\n",
              "</table>\n",
              "<p>42616 rows × 18 columns</p>\n",
              "</div>\n",
              "      <button class=\"colab-df-convert\" onclick=\"convertToInteractive('df-fdacf685-ad31-4007-b6d2-1aceb581608a')\"\n",
              "              title=\"Convert this dataframe to an interactive table.\"\n",
              "              style=\"display:none;\">\n",
              "        \n",
              "  <svg xmlns=\"http://www.w3.org/2000/svg\" height=\"24px\"viewBox=\"0 0 24 24\"\n",
              "       width=\"24px\">\n",
              "    <path d=\"M0 0h24v24H0V0z\" fill=\"none\"/>\n",
              "    <path d=\"M18.56 5.44l.94 2.06.94-2.06 2.06-.94-2.06-.94-.94-2.06-.94 2.06-2.06.94zm-11 1L8.5 8.5l.94-2.06 2.06-.94-2.06-.94L8.5 2.5l-.94 2.06-2.06.94zm10 10l.94 2.06.94-2.06 2.06-.94-2.06-.94-.94-2.06-.94 2.06-2.06.94z\"/><path d=\"M17.41 7.96l-1.37-1.37c-.4-.4-.92-.59-1.43-.59-.52 0-1.04.2-1.43.59L10.3 9.45l-7.72 7.72c-.78.78-.78 2.05 0 2.83L4 21.41c.39.39.9.59 1.41.59.51 0 1.02-.2 1.41-.59l7.78-7.78 2.81-2.81c.8-.78.8-2.07 0-2.86zM5.41 20L4 18.59l7.72-7.72 1.47 1.35L5.41 20z\"/>\n",
              "  </svg>\n",
              "      </button>\n",
              "      \n",
              "  <style>\n",
              "    .colab-df-container {\n",
              "      display:flex;\n",
              "      flex-wrap:wrap;\n",
              "      gap: 12px;\n",
              "    }\n",
              "\n",
              "    .colab-df-convert {\n",
              "      background-color: #E8F0FE;\n",
              "      border: none;\n",
              "      border-radius: 50%;\n",
              "      cursor: pointer;\n",
              "      display: none;\n",
              "      fill: #1967D2;\n",
              "      height: 32px;\n",
              "      padding: 0 0 0 0;\n",
              "      width: 32px;\n",
              "    }\n",
              "\n",
              "    .colab-df-convert:hover {\n",
              "      background-color: #E2EBFA;\n",
              "      box-shadow: 0px 1px 2px rgba(60, 64, 67, 0.3), 0px 1px 3px 1px rgba(60, 64, 67, 0.15);\n",
              "      fill: #174EA6;\n",
              "    }\n",
              "\n",
              "    [theme=dark] .colab-df-convert {\n",
              "      background-color: #3B4455;\n",
              "      fill: #D2E3FC;\n",
              "    }\n",
              "\n",
              "    [theme=dark] .colab-df-convert:hover {\n",
              "      background-color: #434B5C;\n",
              "      box-shadow: 0px 1px 3px 1px rgba(0, 0, 0, 0.15);\n",
              "      filter: drop-shadow(0px 1px 2px rgba(0, 0, 0, 0.3));\n",
              "      fill: #FFFFFF;\n",
              "    }\n",
              "  </style>\n",
              "\n",
              "      <script>\n",
              "        const buttonEl =\n",
              "          document.querySelector('#df-fdacf685-ad31-4007-b6d2-1aceb581608a button.colab-df-convert');\n",
              "        buttonEl.style.display =\n",
              "          google.colab.kernel.accessAllowed ? 'block' : 'none';\n",
              "\n",
              "        async function convertToInteractive(key) {\n",
              "          const element = document.querySelector('#df-fdacf685-ad31-4007-b6d2-1aceb581608a');\n",
              "          const dataTable =\n",
              "            await google.colab.kernel.invokeFunction('convertToInteractive',\n",
              "                                                     [key], {});\n",
              "          if (!dataTable) return;\n",
              "\n",
              "          const docLinkHtml = 'Like what you see? Visit the ' +\n",
              "            '<a target=\"_blank\" href=https://colab.research.google.com/notebooks/data_table.ipynb>data table notebook</a>'\n",
              "            + ' to learn more about interactive tables.';\n",
              "          element.innerHTML = '';\n",
              "          dataTable['output_type'] = 'display_data';\n",
              "          await google.colab.output.renderOutput(dataTable, element);\n",
              "          const docLink = document.createElement('div');\n",
              "          docLink.innerHTML = docLinkHtml;\n",
              "          element.appendChild(docLink);\n",
              "        }\n",
              "      </script>\n",
              "    </div>\n",
              "  </div>\n",
              "  "
            ]
          },
          "metadata": {},
          "execution_count": 19
        }
      ]
    },
    {
      "cell_type": "markdown",
      "source": [
        "### CONTROL의 작동\n",
        "\n",
        "- CONTROL = -1이면 2의 보수로써의 이진법으로 나타낼 시 11111111이 됨을 알 수 있다.\n",
        "\n",
        "- 즉, C1~C8이 모두 작동했을 때, CONTROL값이 -1임을 알 수 있다.\n",
        "\n",
        "- SUM = 0이면, SUM과 CURRENT가 모두 같을 경우, C1~C8이 모두 작동했다고 간주하고, 정상이라고 판단한다. 즉, SUM이 0이 아닐때, 모든 C1~C8값이 정상적으로 들어왔는지 판단한다."
      ],
      "metadata": {
        "id": "wZAJatVpNRKP"
      }
    },
    {
      "cell_type": "code",
      "source": [
        "ECU_SAME_m1ECU_SAME_m1['SUM'] != 0"
      ],
      "metadata": {
        "colab": {
          "base_uri": "https://localhost:8080/"
        },
        "id": "Rk7aqwTMHDRz",
        "outputId": "e93e3f0a-a7b7-48e1-de62-eeb967d02ff0"
      },
      "execution_count": 16,
      "outputs": [
        {
          "output_type": "execute_result",
          "data": {
            "text/plain": [
              "1         False\n",
              "4         False\n",
              "8         False\n",
              "9         False\n",
              "12        False\n",
              "          ...  \n",
              "617216     True\n",
              "617217     True\n",
              "617218     True\n",
              "617221     True\n",
              "617228     True\n",
              "Name: SUM, Length: 78521, dtype: bool"
            ]
          },
          "metadata": {},
          "execution_count": 16
        }
      ]
    },
    {
      "cell_type": "code",
      "source": [
        ""
      ],
      "metadata": {
        "id": "z0faHt_LHDPD"
      },
      "execution_count": 12,
      "outputs": []
    },
    {
      "cell_type": "code",
      "source": [
        ""
      ],
      "metadata": {
        "id": "s3AaJU3nHDMa"
      },
      "execution_count": 12,
      "outputs": []
    },
    {
      "cell_type": "code",
      "source": [
        ""
      ],
      "metadata": {
        "id": "eEW1is8jHDJ9"
      },
      "execution_count": 12,
      "outputs": []
    },
    {
      "cell_type": "code",
      "source": [
        ""
      ],
      "metadata": {
        "id": "ToAimgQlHDH4"
      },
      "execution_count": 12,
      "outputs": []
    },
    {
      "cell_type": "code",
      "source": [
        ""
      ],
      "metadata": {
        "id": "NJmwQzYKHDFR"
      },
      "execution_count": 12,
      "outputs": []
    },
    {
      "cell_type": "code",
      "source": [
        ""
      ],
      "metadata": {
        "id": "QvKB7wvaHDC6"
      },
      "execution_count": 12,
      "outputs": []
    },
    {
      "cell_type": "code",
      "source": [
        ""
      ],
      "metadata": {
        "id": "5D7TsrL4HDAW"
      },
      "execution_count": 12,
      "outputs": []
    },
    {
      "cell_type": "code",
      "source": [
        ""
      ],
      "metadata": {
        "id": "ebVL6lzBHC97"
      },
      "execution_count": 12,
      "outputs": []
    },
    {
      "cell_type": "code",
      "source": [
        ""
      ],
      "metadata": {
        "id": "wJU9qOYHHC7e"
      },
      "execution_count": 12,
      "outputs": []
    },
    {
      "cell_type": "markdown",
      "source": [
        "# control 값이 c1~c8과 current 사이의 선형관계를 해치는가?"
      ],
      "metadata": {
        "id": "0S4A3poPgPQW"
      }
    },
    {
      "cell_type": "markdown",
      "source": [
        "## CONTROL = 0 일때"
      ],
      "metadata": {
        "id": "7x9T3g_biI7Y"
      }
    },
    {
      "cell_type": "code",
      "source": [
        "CONTROL_CURRENT=pd.concat([CONTROL, CURRENT],axis = 1)"
      ],
      "metadata": {
        "id": "xnHOTSaFgqYw",
        "colab": {
          "base_uri": "https://localhost:8080/",
          "height": 174
        },
        "outputId": "715c8f96-2126-4812-c311-3c2b7d23b4ac"
      },
      "execution_count": 13,
      "outputs": [
        {
          "output_type": "error",
          "ename": "NameError",
          "evalue": "ignored",
          "traceback": [
            "\u001b[0;31m---------------------------------------------------------------------------\u001b[0m",
            "\u001b[0;31mNameError\u001b[0m                                 Traceback (most recent call last)",
            "\u001b[0;32m<ipython-input-13-6d1b7f3c50c8>\u001b[0m in \u001b[0;36m<module>\u001b[0;34m()\u001b[0m\n\u001b[0;32m----> 1\u001b[0;31m \u001b[0mCONTROL_CURRENT\u001b[0m\u001b[0;34m=\u001b[0m\u001b[0mpd\u001b[0m\u001b[0;34m.\u001b[0m\u001b[0mconcat\u001b[0m\u001b[0;34m(\u001b[0m\u001b[0;34m[\u001b[0m\u001b[0mCONTROL\u001b[0m\u001b[0;34m,\u001b[0m \u001b[0mCURRENT\u001b[0m\u001b[0;34m]\u001b[0m\u001b[0;34m,\u001b[0m\u001b[0maxis\u001b[0m \u001b[0;34m=\u001b[0m \u001b[0;36m1\u001b[0m\u001b[0;34m)\u001b[0m\u001b[0;34m\u001b[0m\u001b[0;34m\u001b[0m\u001b[0m\n\u001b[0m",
            "\u001b[0;31mNameError\u001b[0m: name 'CONTROL' is not defined"
          ]
        }
      ]
    },
    {
      "cell_type": "code",
      "source": [
        "CONTROL_CURRENT_0 = CONTROL_CURRENT[CONTROL_CURRENT['CONTROL'] == 0]"
      ],
      "metadata": {
        "id": "1qOhV93-hJsf"
      },
      "execution_count": null,
      "outputs": []
    },
    {
      "cell_type": "code",
      "source": [
        "X = np.array(CONTROL_CURRENT_0['CURRENT']).reshape(-1,1)\n",
        "Y = np.array(CONTROL_CURRENT_0['C_SUM']).reshape(-1,1)"
      ],
      "metadata": {
        "id": "KOogkwmDhTS3"
      },
      "execution_count": null,
      "outputs": []
    },
    {
      "cell_type": "code",
      "source": [
        "control_0_result = LinearRegression()\n",
        "control_0_result.fit(X,Y)"
      ],
      "metadata": {
        "id": "DOK6UVkAhquf"
      },
      "execution_count": null,
      "outputs": []
    },
    {
      "cell_type": "code",
      "source": [
        "control_0_result.coef_"
      ],
      "metadata": {
        "id": "4LIP77Doh04-"
      },
      "execution_count": null,
      "outputs": []
    },
    {
      "cell_type": "code",
      "source": [
        "control_0_result.intercept_"
      ],
      "metadata": {
        "id": "6u5K-DrXh3ng"
      },
      "execution_count": null,
      "outputs": []
    },
    {
      "cell_type": "code",
      "source": [
        "%matplotlib inline\n",
        "plt.figure(figsize = (20,10))\n",
        "plt.plot(X,Y,'o')\n",
        "plt.plot(X,control_0_result.predict(X),'red')\n",
        "plt.show()"
      ],
      "metadata": {
        "id": "3Gol7pQziM9W"
      },
      "execution_count": null,
      "outputs": []
    },
    {
      "cell_type": "markdown",
      "source": [
        "## CONTROL = -1 일때"
      ],
      "metadata": {
        "id": "Iy7DF3vpjFDR"
      }
    },
    {
      "cell_type": "code",
      "source": [
        "CONTROL_CURRENT=pd.concat([CONTROL, CURRENT],axis = 1)"
      ],
      "metadata": {
        "id": "yjLKy1R9jFDS"
      },
      "execution_count": null,
      "outputs": []
    },
    {
      "cell_type": "code",
      "source": [
        "CONTROL_CURRENT_minus_1 = CONTROL_CURRENT[CONTROL_CURRENT['CONTROL'] == -1]"
      ],
      "metadata": {
        "id": "mWw3VeedjFDT"
      },
      "execution_count": null,
      "outputs": []
    },
    {
      "cell_type": "code",
      "source": [
        "X = np.array(CONTROL_CURRENT_minus_1['CURRENT']).reshape(-1,1)\n",
        "Y = np.array(CONTROL_CURRENT_minus_1['C_SUM']).reshape(-1,1)"
      ],
      "metadata": {
        "id": "ncwdz19njFDT"
      },
      "execution_count": null,
      "outputs": []
    },
    {
      "cell_type": "code",
      "source": [
        "control_minus_1_result = LinearRegression()\n",
        "control_minus_1_result.fit(X,Y)"
      ],
      "metadata": {
        "id": "7NVDi0IhjFDU"
      },
      "execution_count": null,
      "outputs": []
    },
    {
      "cell_type": "code",
      "source": [
        "control_minus_1_result.coef_"
      ],
      "metadata": {
        "id": "xh4YLiSEjFDU"
      },
      "execution_count": null,
      "outputs": []
    },
    {
      "cell_type": "code",
      "source": [
        "control_minus_1_result.intercept_"
      ],
      "metadata": {
        "id": "EyJrpfkDjFDV"
      },
      "execution_count": null,
      "outputs": []
    },
    {
      "cell_type": "code",
      "source": [
        "%matplotlib inline\n",
        "plt.plot(X,Y,'o')\n",
        "plt.plot(X,control_minus_1_result.predict(X))\n",
        "plt.show()"
      ],
      "metadata": {
        "id": "PqLA83sFjFDV"
      },
      "execution_count": null,
      "outputs": []
    },
    {
      "cell_type": "markdown",
      "source": [
        "## CONTROL = 34 일때"
      ],
      "metadata": {
        "id": "0pdWrHDdjHjQ"
      }
    },
    {
      "cell_type": "code",
      "source": [
        "CONTROL_CURRENT=pd.concat([CONTROL, CURRENT],axis = 1)"
      ],
      "metadata": {
        "id": "la40C2RfjHjQ"
      },
      "execution_count": null,
      "outputs": []
    },
    {
      "cell_type": "code",
      "source": [
        "CONTROL_CURRENT_34 = CONTROL_CURRENT[CONTROL_CURRENT['CONTROL'] == 34]"
      ],
      "metadata": {
        "id": "ZIkn00O-jHjR"
      },
      "execution_count": null,
      "outputs": []
    },
    {
      "cell_type": "code",
      "source": [
        "X = np.array(CONTROL_CURRENT_34['CURRENT']).reshape(-1,1)\n",
        "Y = np.array(CONTROL_CURRENT_34['C_SUM']).reshape(-1,1)"
      ],
      "metadata": {
        "id": "0d2-HKZBjHjR"
      },
      "execution_count": null,
      "outputs": []
    },
    {
      "cell_type": "code",
      "source": [
        "control_34_result = LinearRegression()\n",
        "control_34_result.fit(X,Y)"
      ],
      "metadata": {
        "id": "RnwyF50BjHjR"
      },
      "execution_count": null,
      "outputs": []
    },
    {
      "cell_type": "code",
      "source": [
        "control_34_result.coef_"
      ],
      "metadata": {
        "id": "ut66Nj56jHjS"
      },
      "execution_count": null,
      "outputs": []
    },
    {
      "cell_type": "code",
      "source": [
        "control_34_result.intercept_"
      ],
      "metadata": {
        "id": "E1ZV4NeGjHjS"
      },
      "execution_count": null,
      "outputs": []
    },
    {
      "cell_type": "code",
      "source": [
        "%matplotlib inline\n",
        "plt.plot(X,Y,'o')\n",
        "plt.plot(X,control_0_result.predict(X),'red')\n",
        "plt.show()"
      ],
      "metadata": {
        "id": "qgE-_m3YjHjT"
      },
      "execution_count": null,
      "outputs": []
    },
    {
      "cell_type": "code",
      "source": [
        ""
      ],
      "metadata": {
        "id": "joFjsW8ZENBi"
      },
      "execution_count": null,
      "outputs": []
    }
  ]
}