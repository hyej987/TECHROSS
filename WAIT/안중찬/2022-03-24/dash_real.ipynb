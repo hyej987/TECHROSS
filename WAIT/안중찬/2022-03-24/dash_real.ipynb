{
  "nbformat": 4,
  "nbformat_minor": 0,
  "metadata": {
    "colab": {
      "name": "dash real.ipynb",
      "provenance": [],
      "authorship_tag": "ABX9TyO47qXIM1Q9CW7Cy3gUDcJC",
      "include_colab_link": true
    },
    "kernelspec": {
      "name": "python3",
      "display_name": "Python 3"
    },
    "language_info": {
      "name": "python"
    }
  },
  "cells": [
    {
      "cell_type": "markdown",
      "metadata": {
        "id": "view-in-github",
        "colab_type": "text"
      },
      "source": [
        "<a href=\"https://colab.research.google.com/github/AnnJungChan/TECHLOSS_SIGNLAB/blob/main/WAIT/%EC%95%88%EC%A4%91%EC%B0%AC/2022-03-24/dash_real.ipynb\" target=\"_parent\"><img src=\"https://colab.research.google.com/assets/colab-badge.svg\" alt=\"Open In Colab\"/></a>"
      ]
    },
    {
      "cell_type": "markdown",
      "source": [
        "# 하기전\n",
        "\n",
        "- 1. EVENT 테이블과 OPTIME 테이블 붙은거 있으면 가져올 것\n",
        "- 2. DATA 테이블과 OPTIME 테이블 붙은거 있으면 가져올 것"
      ],
      "metadata": {
        "id": "Ei9sWo2G5xjz"
      }
    },
    {
      "cell_type": "markdown",
      "source": [
        "# 주피터 대시"
      ],
      "metadata": {
        "id": "RrhelaNpbqpB"
      }
    },
    {
      "cell_type": "code",
      "execution_count": 1,
      "metadata": {
        "colab": {
          "base_uri": "https://localhost:8080/"
        },
        "id": "kjB4Tv4kZjBt",
        "outputId": "52c9f614-04f0-4945-cd7b-426e4199c2b0"
      },
      "outputs": [
        {
          "output_type": "stream",
          "name": "stdout",
          "text": [
            "\u001b[K     |████████████████████████████████| 9.6 MB 18.6 MB/s \n",
            "\u001b[K     |████████████████████████████████| 357 kB 18.1 MB/s \n",
            "\u001b[?25h  Building wheel for retrying (setup.py) ... \u001b[?25l\u001b[?25hdone\n"
          ]
        }
      ],
      "source": [
        "pip install jupyter-dash -q"
      ]
    },
    {
      "cell_type": "markdown",
      "source": [
        "# 패키지 로딩"
      ],
      "metadata": {
        "id": "P9o-cv3Sbuqe"
      }
    },
    {
      "cell_type": "code",
      "source": [
        "import plotly.express as px\n",
        "from jupyter_dash import JupyterDash\n",
        "from dash import dcc\n",
        "import dash_html_components as html\n",
        "from dash.dependencies import Input, Output\n",
        "import pandas as pd\n",
        "import numpy as np\n",
        "from google.colab import drive\n",
        "drive.mount('/content/gdrive')"
      ],
      "metadata": {
        "colab": {
          "base_uri": "https://localhost:8080/"
        },
        "id": "_1-HTqvgbpRr",
        "outputId": "e0c46429-4c33-475d-9bc1-7a40b8467cb0"
      },
      "execution_count": 12,
      "outputs": [
        {
          "output_type": "stream",
          "name": "stdout",
          "text": [
            "Mounted at /content/gdrive\n"
          ]
        }
      ]
    },
    {
      "cell_type": "markdown",
      "source": [
        "#데이터 로딩"
      ],
      "metadata": {
        "id": "Eg8-JDpA3uRJ"
      }
    },
    {
      "cell_type": "code",
      "source": [
        "DATA = pd.read_csv('/content/gdrive/MyDrive/DB/DATA.csv')\n",
        "EVENT = pd.read_csv('/content/gdrive/MyDrive/DB/EVENT.csv')\n",
        "OPTIME = pd.read_csv('/content/gdrive/MyDrive/DB/OPTIME.csv')"
      ],
      "metadata": {
        "id": "kqn4IEep3wQF"
      },
      "execution_count": 17,
      "outputs": []
    },
    {
      "cell_type": "markdown",
      "source": [
        "# 샘플코드 (삭제하지 말 것)"
      ],
      "metadata": {
        "id": "bRThU0kx4mq4"
      }
    },
    {
      "cell_type": "code",
      "source": [
        "# Load Data\n",
        "df = px.data.tips()\n",
        "\n",
        "## 데이터 베이스를 로딩한다.\n",
        "\n",
        "\n",
        "# Build App\n",
        "app = JupyterDash(__name__)\n",
        "## 주피터 대시를 사용해야 한다.\n",
        "\n",
        "app.layout = html.Div([\n",
        "    html.H1(\"JupyterDash Demo\"),\n",
        "    # 맨 앞에 뜨는 헤더 이름\n",
        "    dcc.Graph(id='graph'),\n",
        "    # 그래프를 넣음\n",
        "    html.Label([\n",
        "        \"colorscale\",\n",
        "        # 라벨 이름\n",
        "        dcc.Dropdown(\n",
        "            id='colorscale-dropdown', clearable=False,\n",
        "            value='plasma', options=[\n",
        "                {'label': c, 'value': c}\n",
        "                for c in px.colors.named_colorscales()\n",
        "            ])\n",
        "        # 드랍다운을 넣음\n",
        "    ]),\n",
        "])\n",
        "# Define callback to update graph\n",
        "@app.callback(\n",
        "    Output('graph', 'figure'),\n",
        "    [Input(\"colorscale-dropdown\", \"value\")]\n",
        ")\n",
        "def update_figure(colorscale):\n",
        "    return px.scatter(\n",
        "        df, x=\"total_bill\", y=\"tip\", color=\"size\",\n",
        "        color_continuous_scale=colorscale,\n",
        "        render_mode=\"webgl\", title=\"Tips\"\n",
        "    )\n",
        "# Run app and display result inline in the notebook\n",
        "app.run_server(debug = True)"
      ],
      "metadata": {
        "colab": {
          "base_uri": "https://localhost:8080/",
          "height": 52
        },
        "id": "shuOKkcpZlQW",
        "outputId": "868e2c82-3257-4148-8cc0-b8b1a4680174"
      },
      "execution_count": 3,
      "outputs": [
        {
          "output_type": "stream",
          "name": "stdout",
          "text": [
            "Dash app running on:\n"
          ]
        },
        {
          "output_type": "display_data",
          "data": {
            "text/plain": [
              "<IPython.core.display.Javascript object>"
            ],
            "application/javascript": [
              "(async (port, path, text, element) => {\n",
              "    if (!google.colab.kernel.accessAllowed) {\n",
              "      return;\n",
              "    }\n",
              "    element.appendChild(document.createTextNode(''));\n",
              "    const url = await google.colab.kernel.proxyPort(port);\n",
              "    const anchor = document.createElement('a');\n",
              "    anchor.href = new URL(path, url).toString();\n",
              "    anchor.target = '_blank';\n",
              "    anchor.setAttribute('data-href', url + path);\n",
              "    anchor.textContent = text;\n",
              "    element.appendChild(anchor);\n",
              "  })(8050, \"/\", \"http://127.0.0.1:8050/\", window.element)"
            ]
          },
          "metadata": {}
        }
      ]
    },
    {
      "cell_type": "markdown",
      "source": [
        ""
      ],
      "metadata": {
        "id": "0Ww67wvY5s-n"
      }
    },
    {
      "cell_type": "code",
      "source": [
        "from google.colab import drive\n",
        "drive.mount('/content/gdrive')"
      ],
      "metadata": {
        "colab": {
          "base_uri": "https://localhost:8080/"
        },
        "id": "qSUXSmDBb5a6",
        "outputId": "65363ca5-d9ef-447f-8b53-14e41c048729"
      },
      "execution_count": null,
      "outputs": [
        {
          "output_type": "stream",
          "name": "stdout",
          "text": [
            "Mounted at /content/gdrive\n"
          ]
        }
      ]
    },
    {
      "cell_type": "code",
      "source": [
        "import numpy as np\n",
        "import pandas as pd"
      ],
      "metadata": {
        "id": "RMNpHM-rcPoA"
      },
      "execution_count": null,
      "outputs": []
    },
    {
      "cell_type": "code",
      "source": [
        "DATA=pd.read_csv('/content/gdrive/MyDrive/DB/DATA.csv')\n",
        "OPTIME=pd.read_csv('/content/gdrive/MyDrive/DB/OPTIME.csv')\n",
        "DATA['KEY'] = DATA['SHIP_ID'] + \"_\" + DATA['SECTION'].astype(str) + \"_\" + DATA['OP_INDEX'].astype(str)\n",
        "OPTIME['KEY'] = OPTIME['SHIP_ID'] + \"_\" + OPTIME['SECTION'].astype(str) + \"_\" + OPTIME['OP_INDEX'].astype(str)\n",
        "DATA_JOIN_OPTIME = pd.merge(DATA,OPTIME,how = 'inner', on = 'KEY')\n",
        "DATA_JOIN_OPTIME = DATA_JOIN_OPTIME.drop(columns = ['SHIP_ID_y', 'SYSTEM_y', 'OP_INDEX_y','SECTION_y'])\n",
        "DATA_JOIN_OPTIME = DATA_JOIN_OPTIME.drop(columns = ['KEY'])\n",
        "DATA_JOIN_OPTIME=DATA_JOIN_OPTIME.rename(columns = {'OP_INDEX_x' : 'OP_INDEX', 'SHIP_ID_x' : 'SHIP_ID', 'SYSTEM_x' : 'SYSTEM', 'SECTION_x' : 'SECTION'})"
      ],
      "metadata": {
        "id": "NHJh6G4GcVn-"
      },
      "execution_count": null,
      "outputs": []
    },
    {
      "cell_type": "code",
      "source": [
        "DATA_JOIN_OPTIME.info()"
      ],
      "metadata": {
        "colab": {
          "base_uri": "https://localhost:8080/"
        },
        "id": "IYJbbarjcd8n",
        "outputId": "b7aba618-23ea-42e5-ae5c-e2edc4421e66"
      },
      "execution_count": null,
      "outputs": [
        {
          "output_type": "stream",
          "name": "stdout",
          "text": [
            "<class 'pandas.core.frame.DataFrame'>\n",
            "Int64Index: 583038 entries, 0 to 583037\n",
            "Data columns (total 36 columns):\n",
            " #   Column        Non-Null Count   Dtype  \n",
            "---  ------        --------------   -----  \n",
            " 0   OP_INDEX      583038 non-null  int64  \n",
            " 1   DATA_INDEX    583038 non-null  int64  \n",
            " 2   DATA_TIME     583038 non-null  object \n",
            " 3   CSU           583038 non-null  float64\n",
            " 4   STS           583038 non-null  float64\n",
            " 5   FTS           583038 non-null  float64\n",
            " 6   FMU           583038 non-null  float64\n",
            " 7   TRO           583038 non-null  float64\n",
            " 8   ANU           583038 non-null  float64\n",
            " 9   RATE          583038 non-null  float64\n",
            " 10  CURRENT       583038 non-null  int64  \n",
            " 11  VOLTAGE       583038 non-null  float64\n",
            " 12  TRO_COUNT     74904 non-null   float64\n",
            " 13  SHIP_ID       583038 non-null  object \n",
            " 14  SYSTEM        583038 non-null  int64  \n",
            " 15  SECTION       583038 non-null  int64  \n",
            " 16  OP_TYPE       583038 non-null  int64  \n",
            " 17  LINE          583038 non-null  int64  \n",
            " 18  START_TIME    583038 non-null  object \n",
            " 19  END_TIME      583038 non-null  object \n",
            " 20  RUNNING_TIME  583038 non-null  int64  \n",
            " 21  VOLUME        583038 non-null  int64  \n",
            " 22  TRO_AVG       583038 non-null  float64\n",
            " 23  ANU_AMOUNT    583038 non-null  float64\n",
            " 24  NORMAL        583038 non-null  int64  \n",
            " 25  LATITUDE      583038 non-null  float64\n",
            " 26  LONGITUDE     583038 non-null  float64\n",
            " 27  ALARM_COUNT   223493 non-null  float64\n",
            " 28  FAULT_COUNT   223493 non-null  float64\n",
            " 29  FAULT_CODE    130319 non-null  float64\n",
            " 30  VOYAGE        0 non-null       float64\n",
            " 31  TOTAL_POWER   114807 non-null  float64\n",
            " 32  FILE_INDEX    84307 non-null   float64\n",
            " 33  MODE          0 non-null       float64\n",
            " 34  REGION_ID     517303 non-null  float64\n",
            " 35  STATE         31032 non-null   float64\n",
            "dtypes: float64(22), int64(10), object(4)\n",
            "memory usage: 164.6+ MB\n"
          ]
        }
      ]
    },
    {
      "cell_type": "code",
      "source": [
        "a =DATA_JOIN_OPTIME['SHIP_ID'] + \"_\" + DATA_JOIN_OPTIME['SECTION'].astype(str) + \"_\" + DATA_JOIN_OPTIME['OP_INDEX'].astype(str)"
      ],
      "metadata": {
        "id": "WwU_9WqKurc0"
      },
      "execution_count": null,
      "outputs": []
    },
    {
      "cell_type": "code",
      "source": [
        "len(a.unique())"
      ],
      "metadata": {
        "colab": {
          "base_uri": "https://localhost:8080/"
        },
        "id": "zHAOQgRRwAyU",
        "outputId": "b9a93246-2674-4f70-9335-dbe2aa5076e5"
      },
      "execution_count": null,
      "outputs": [
        {
          "output_type": "execute_result",
          "data": {
            "text/plain": [
              "9332"
            ]
          },
          "metadata": {},
          "execution_count": 62
        }
      ]
    },
    {
      "cell_type": "code",
      "source": [
        "APP_DATA=DATA_JOIN_OPTIME[['SHIP_ID','OP_INDEX', 'DATA_TIME', 'CSU', 'STS', 'FTS', 'FMU', 'TRO', 'ANU', 'CURRENT', 'VOLTAGE', 'START_TIME', 'END_TIME']]"
      ],
      "metadata": {
        "id": "w6xbad0mcx03"
      },
      "execution_count": null,
      "outputs": []
    },
    {
      "cell_type": "code",
      "source": [
        "DATA_JOIN_OPTIME.loc[(DATA_JOIN_OPTIME['SHIP_ID'] =='T140110-00206') & (DATA_JOIN_OPTIME['OP_INDEX'] == 1),:]"
      ],
      "metadata": {
        "colab": {
          "base_uri": "https://localhost:8080/",
          "height": 189
        },
        "id": "WkggFsxuckp2",
        "outputId": "f616d13b-d5ff-4bac-ba15-23f19d64ad8a"
      },
      "execution_count": null,
      "outputs": [
        {
          "output_type": "execute_result",
          "data": {
            "text/plain": [
              "    OP_INDEX  DATA_INDEX            DATA_TIME    CSU  STS  FTS     FMU  TRO  \\\n",
              "0          1           1  2020-07-09 01:50:34  44.80  0.0  0.0  488.36  0.0   \n",
              "31         1           2  2020-07-09 01:51:34  44.60  0.0  0.0  488.91  0.0   \n",
              "58         1           3  2020-07-09 01:52:34  44.67  0.0  0.0  487.55  0.0   \n",
              "\n",
              "    ANU  RATE  ...  LONGITUDE  ALARM_COUNT  FAULT_COUNT FAULT_CODE  VOYAGE  \\\n",
              "0   0.0  -1.0  ...     126.79          NaN          NaN        NaN     NaN   \n",
              "31  0.0  -1.0  ...     126.79          NaN          NaN        NaN     NaN   \n",
              "58  0.0  -1.0  ...     126.79          NaN          NaN        NaN     NaN   \n",
              "\n",
              "    TOTAL_POWER  FILE_INDEX  MODE REGION_ID STATE  \n",
              "0     -0.044167         NaN   NaN   34179.0   NaN  \n",
              "31    -0.044167         NaN   NaN   34179.0   NaN  \n",
              "58    -0.044167         NaN   NaN   34179.0   NaN  \n",
              "\n",
              "[3 rows x 36 columns]"
            ],
            "text/html": [
              "\n",
              "  <div id=\"df-a96663e0-b6d4-426c-badf-c45b1fe6ab3e\">\n",
              "    <div class=\"colab-df-container\">\n",
              "      <div>\n",
              "<style scoped>\n",
              "    .dataframe tbody tr th:only-of-type {\n",
              "        vertical-align: middle;\n",
              "    }\n",
              "\n",
              "    .dataframe tbody tr th {\n",
              "        vertical-align: top;\n",
              "    }\n",
              "\n",
              "    .dataframe thead th {\n",
              "        text-align: right;\n",
              "    }\n",
              "</style>\n",
              "<table border=\"1\" class=\"dataframe\">\n",
              "  <thead>\n",
              "    <tr style=\"text-align: right;\">\n",
              "      <th></th>\n",
              "      <th>OP_INDEX</th>\n",
              "      <th>DATA_INDEX</th>\n",
              "      <th>DATA_TIME</th>\n",
              "      <th>CSU</th>\n",
              "      <th>STS</th>\n",
              "      <th>FTS</th>\n",
              "      <th>FMU</th>\n",
              "      <th>TRO</th>\n",
              "      <th>ANU</th>\n",
              "      <th>RATE</th>\n",
              "      <th>...</th>\n",
              "      <th>LONGITUDE</th>\n",
              "      <th>ALARM_COUNT</th>\n",
              "      <th>FAULT_COUNT</th>\n",
              "      <th>FAULT_CODE</th>\n",
              "      <th>VOYAGE</th>\n",
              "      <th>TOTAL_POWER</th>\n",
              "      <th>FILE_INDEX</th>\n",
              "      <th>MODE</th>\n",
              "      <th>REGION_ID</th>\n",
              "      <th>STATE</th>\n",
              "    </tr>\n",
              "  </thead>\n",
              "  <tbody>\n",
              "    <tr>\n",
              "      <th>0</th>\n",
              "      <td>1</td>\n",
              "      <td>1</td>\n",
              "      <td>2020-07-09 01:50:34</td>\n",
              "      <td>44.80</td>\n",
              "      <td>0.0</td>\n",
              "      <td>0.0</td>\n",
              "      <td>488.36</td>\n",
              "      <td>0.0</td>\n",
              "      <td>0.0</td>\n",
              "      <td>-1.0</td>\n",
              "      <td>...</td>\n",
              "      <td>126.79</td>\n",
              "      <td>NaN</td>\n",
              "      <td>NaN</td>\n",
              "      <td>NaN</td>\n",
              "      <td>NaN</td>\n",
              "      <td>-0.044167</td>\n",
              "      <td>NaN</td>\n",
              "      <td>NaN</td>\n",
              "      <td>34179.0</td>\n",
              "      <td>NaN</td>\n",
              "    </tr>\n",
              "    <tr>\n",
              "      <th>31</th>\n",
              "      <td>1</td>\n",
              "      <td>2</td>\n",
              "      <td>2020-07-09 01:51:34</td>\n",
              "      <td>44.60</td>\n",
              "      <td>0.0</td>\n",
              "      <td>0.0</td>\n",
              "      <td>488.91</td>\n",
              "      <td>0.0</td>\n",
              "      <td>0.0</td>\n",
              "      <td>-1.0</td>\n",
              "      <td>...</td>\n",
              "      <td>126.79</td>\n",
              "      <td>NaN</td>\n",
              "      <td>NaN</td>\n",
              "      <td>NaN</td>\n",
              "      <td>NaN</td>\n",
              "      <td>-0.044167</td>\n",
              "      <td>NaN</td>\n",
              "      <td>NaN</td>\n",
              "      <td>34179.0</td>\n",
              "      <td>NaN</td>\n",
              "    </tr>\n",
              "    <tr>\n",
              "      <th>58</th>\n",
              "      <td>1</td>\n",
              "      <td>3</td>\n",
              "      <td>2020-07-09 01:52:34</td>\n",
              "      <td>44.67</td>\n",
              "      <td>0.0</td>\n",
              "      <td>0.0</td>\n",
              "      <td>487.55</td>\n",
              "      <td>0.0</td>\n",
              "      <td>0.0</td>\n",
              "      <td>-1.0</td>\n",
              "      <td>...</td>\n",
              "      <td>126.79</td>\n",
              "      <td>NaN</td>\n",
              "      <td>NaN</td>\n",
              "      <td>NaN</td>\n",
              "      <td>NaN</td>\n",
              "      <td>-0.044167</td>\n",
              "      <td>NaN</td>\n",
              "      <td>NaN</td>\n",
              "      <td>34179.0</td>\n",
              "      <td>NaN</td>\n",
              "    </tr>\n",
              "  </tbody>\n",
              "</table>\n",
              "<p>3 rows × 36 columns</p>\n",
              "</div>\n",
              "      <button class=\"colab-df-convert\" onclick=\"convertToInteractive('df-a96663e0-b6d4-426c-badf-c45b1fe6ab3e')\"\n",
              "              title=\"Convert this dataframe to an interactive table.\"\n",
              "              style=\"display:none;\">\n",
              "        \n",
              "  <svg xmlns=\"http://www.w3.org/2000/svg\" height=\"24px\"viewBox=\"0 0 24 24\"\n",
              "       width=\"24px\">\n",
              "    <path d=\"M0 0h24v24H0V0z\" fill=\"none\"/>\n",
              "    <path d=\"M18.56 5.44l.94 2.06.94-2.06 2.06-.94-2.06-.94-.94-2.06-.94 2.06-2.06.94zm-11 1L8.5 8.5l.94-2.06 2.06-.94-2.06-.94L8.5 2.5l-.94 2.06-2.06.94zm10 10l.94 2.06.94-2.06 2.06-.94-2.06-.94-.94-2.06-.94 2.06-2.06.94z\"/><path d=\"M17.41 7.96l-1.37-1.37c-.4-.4-.92-.59-1.43-.59-.52 0-1.04.2-1.43.59L10.3 9.45l-7.72 7.72c-.78.78-.78 2.05 0 2.83L4 21.41c.39.39.9.59 1.41.59.51 0 1.02-.2 1.41-.59l7.78-7.78 2.81-2.81c.8-.78.8-2.07 0-2.86zM5.41 20L4 18.59l7.72-7.72 1.47 1.35L5.41 20z\"/>\n",
              "  </svg>\n",
              "      </button>\n",
              "      \n",
              "  <style>\n",
              "    .colab-df-container {\n",
              "      display:flex;\n",
              "      flex-wrap:wrap;\n",
              "      gap: 12px;\n",
              "    }\n",
              "\n",
              "    .colab-df-convert {\n",
              "      background-color: #E8F0FE;\n",
              "      border: none;\n",
              "      border-radius: 50%;\n",
              "      cursor: pointer;\n",
              "      display: none;\n",
              "      fill: #1967D2;\n",
              "      height: 32px;\n",
              "      padding: 0 0 0 0;\n",
              "      width: 32px;\n",
              "    }\n",
              "\n",
              "    .colab-df-convert:hover {\n",
              "      background-color: #E2EBFA;\n",
              "      box-shadow: 0px 1px 2px rgba(60, 64, 67, 0.3), 0px 1px 3px 1px rgba(60, 64, 67, 0.15);\n",
              "      fill: #174EA6;\n",
              "    }\n",
              "\n",
              "    [theme=dark] .colab-df-convert {\n",
              "      background-color: #3B4455;\n",
              "      fill: #D2E3FC;\n",
              "    }\n",
              "\n",
              "    [theme=dark] .colab-df-convert:hover {\n",
              "      background-color: #434B5C;\n",
              "      box-shadow: 0px 1px 3px 1px rgba(0, 0, 0, 0.15);\n",
              "      filter: drop-shadow(0px 1px 2px rgba(0, 0, 0, 0.3));\n",
              "      fill: #FFFFFF;\n",
              "    }\n",
              "  </style>\n",
              "\n",
              "      <script>\n",
              "        const buttonEl =\n",
              "          document.querySelector('#df-a96663e0-b6d4-426c-badf-c45b1fe6ab3e button.colab-df-convert');\n",
              "        buttonEl.style.display =\n",
              "          google.colab.kernel.accessAllowed ? 'block' : 'none';\n",
              "\n",
              "        async function convertToInteractive(key) {\n",
              "          const element = document.querySelector('#df-a96663e0-b6d4-426c-badf-c45b1fe6ab3e');\n",
              "          const dataTable =\n",
              "            await google.colab.kernel.invokeFunction('convertToInteractive',\n",
              "                                                     [key], {});\n",
              "          if (!dataTable) return;\n",
              "\n",
              "          const docLinkHtml = 'Like what you see? Visit the ' +\n",
              "            '<a target=\"_blank\" href=https://colab.research.google.com/notebooks/data_table.ipynb>data table notebook</a>'\n",
              "            + ' to learn more about interactive tables.';\n",
              "          element.innerHTML = '';\n",
              "          dataTable['output_type'] = 'display_data';\n",
              "          await google.colab.output.renderOutput(dataTable, element);\n",
              "          const docLink = document.createElement('div');\n",
              "          docLink.innerHTML = docLinkHtml;\n",
              "          element.appendChild(docLink);\n",
              "        }\n",
              "      </script>\n",
              "    </div>\n",
              "  </div>\n",
              "  "
            ]
          },
          "metadata": {},
          "execution_count": 23
        },
        {
          "output_type": "stream",
          "name": "stdout",
          "text": [
            "Warning: Total number of columns (36) exceeds max_columns (20) limiting to first (20) columns.\n"
          ]
        }
      ]
    }
  ]
}